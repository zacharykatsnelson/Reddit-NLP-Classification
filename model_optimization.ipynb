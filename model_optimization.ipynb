{
 "cells": [
  {
   "cell_type": "code",
   "execution_count": 1,
   "metadata": {},
   "outputs": [],
   "source": [
    "import pandas as pd\n",
    "import numpy as np\n",
    "from tqdm import tqdm\n",
    "import matplotlib.pyplot as plt\n",
    "\n",
    "#importing models\n",
    "from sklearn.model_selection import GridSearchCV, train_test_split, cross_val_score\n",
    "from sklearn.pipeline import Pipeline\n",
    "from sklearn.preprocessing import StandardScaler\n",
    "from sklearn.linear_model import LogisticRegression\n",
    "from sklearn.neighbors import KNeighborsClassifier\n",
    "from sklearn.naive_bayes import MultinomialNB\n",
    "from sklearn.tree import DecisionTreeClassifier\n",
    "from sklearn.ensemble import BaggingClassifier, RandomForestClassifier, GradientBoostingClassifier, AdaBoostClassifier\n",
    "from sklearn.svm import SVC\n",
    "from sklearn.feature_extraction.text import TfidfVectorizer, CountVectorizer\n",
    "from sklearn.metrics import confusion_matrix, accuracy_score\n",
    "\n",
    "import warnings\n",
    "warnings.filterwarnings('ignore')\n",
    "\n",
    "%matplotlib inline"
   ]
  },
  {
   "cell_type": "code",
   "execution_count": 2,
   "metadata": {},
   "outputs": [],
   "source": [
    "df = pd.read_csv('data_clean.csv')"
   ]
  },
  {
   "cell_type": "code",
   "execution_count": 3,
   "metadata": {},
   "outputs": [
    {
     "data": {
      "text/plain": [
       "text      17\n",
       "target     0\n",
       "dtype: int64"
      ]
     },
     "execution_count": 3,
     "metadata": {},
     "output_type": "execute_result"
    }
   ],
   "source": [
    "df.isnull().sum()"
   ]
  },
  {
   "cell_type": "code",
   "execution_count": 4,
   "metadata": {},
   "outputs": [],
   "source": [
    "df.dropna(inplace = True)"
   ]
  },
  {
   "cell_type": "code",
   "execution_count": 5,
   "metadata": {},
   "outputs": [],
   "source": [
    "#Separate data into comment text (features) and subreddit (target variable)\n",
    "X = df['text']\n",
    "y = df['target']\n",
    "\n",
    "#Train test split. Stratify=y guarantees that class balance will be maintained across train and test bloc\n",
    "X_train, X_test, y_train, y_test = train_test_split(X,y,shuffle=True,stratify=y)"
   ]
  },
  {
   "cell_type": "code",
   "execution_count": 6,
   "metadata": {},
   "outputs": [
    {
     "data": {
      "text/plain": [
       "0    0.213017\n",
       "1    0.211245\n",
       "4    0.197643\n",
       "3    0.195738\n",
       "2    0.182358\n",
       "Name: target, dtype: float64"
      ]
     },
     "execution_count": 6,
     "metadata": {},
     "output_type": "execute_result"
    }
   ],
   "source": [
    "#baseline model\n",
    "y.value_counts(normalize=True)"
   ]
  },
  {
   "cell_type": "code",
   "execution_count": 13,
   "metadata": {},
   "outputs": [],
   "source": [
    "#add removed and deleted to stopwords\n",
    "from sklearn.feature_extraction import text\n",
    "\n",
    "text.ENGLISH_STOP_WORDS\n",
    "\n",
    "add_stop_words = ['removed', 'deleted']\n",
    "\n",
    "text.ENGLISH_STOP_WORDS = text.ENGLISH_STOP_WORDS.union(add_stop_words)"
   ]
  },
  {
   "cell_type": "code",
   "execution_count": 8,
   "metadata": {},
   "outputs": [],
   "source": [
    "models_gr_cv = [ # list of pipeline steps for each model combo\n",
    "    [('cv',CountVectorizer()),('multi_nb',MultinomialNB())],\n",
    "    [('cv',CountVectorizer()),('scaler',StandardScaler(with_mean=False)),('knn',KNeighborsClassifier())], \n",
    "    [('cv',CountVectorizer()),('scaler',StandardScaler(with_mean=False)),('logreg',LogisticRegression())],\n",
    "    [('cv',CountVectorizer()),('rf',RandomForestClassifier())],\n",
    "    [('cv',CountVectorizer()),('ada',AdaBoostClassifier())],\n",
    "    [('cv',CountVectorizer()),('gb',GradientBoostingClassifier())],\n",
    "    [('cv',CountVectorizer()),('sv',SVC())]\n",
    "]\n",
    "\n",
    "models = ['multi_nb','knn','logreg','rf','ada','gb', 'svc']\n",
    "\n",
    "pipe_params_cv = [\n",
    "    {\"cv__stop_words\":['english'], \"cv__ngram_range\":[(1,1),(1,2)]},\n",
    "    {\"cv__stop_words\":['english'], \"cv__ngram_range\":[(1,1),(1,2)]},\n",
    "    {\"cv__stop_words\":['english'], \"cv__ngram_range\":[(1,1),(1,2)]},\n",
    "    {\"cv__stop_words\":['english'], \"cv__ngram_range\":[(1,1),(1,2)]},\n",
    "    {\"cv__stop_words\":['english'], \"cv__ngram_range\":[(1,1),(1,2)]},\n",
    "    {\"cv__stop_words\":['english'], \"cv__ngram_range\":[(1,1),(1,2)]},\n",
    "    {\"cv__stop_words\":['english'], \"cv__ngram_range\":[(1,1),(1,2)]}\n",
    "]\n"
   ]
  },
  {
   "cell_type": "code",
   "execution_count": 9,
   "metadata": {},
   "outputs": [
    {
     "data": {
      "text/html": [
       "<div>\n",
       "<style scoped>\n",
       "    .dataframe tbody tr th:only-of-type {\n",
       "        vertical-align: middle;\n",
       "    }\n",
       "\n",
       "    .dataframe tbody tr th {\n",
       "        vertical-align: top;\n",
       "    }\n",
       "\n",
       "    .dataframe thead th {\n",
       "        text-align: right;\n",
       "    }\n",
       "</style>\n",
       "<table border=\"1\" class=\"dataframe\">\n",
       "  <thead>\n",
       "    <tr style=\"text-align: right;\">\n",
       "      <th></th>\n",
       "      <th>model</th>\n",
       "      <th>best_params</th>\n",
       "      <th>train_accuracy</th>\n",
       "      <th>test_accuracy</th>\n",
       "    </tr>\n",
       "  </thead>\n",
       "  <tbody>\n",
       "  </tbody>\n",
       "</table>\n",
       "</div>"
      ],
      "text/plain": [
       "Empty DataFrame\n",
       "Columns: [model, best_params, train_accuracy, test_accuracy]\n",
       "Index: []"
      ]
     },
     "execution_count": 9,
     "metadata": {},
     "output_type": "execute_result"
    }
   ],
   "source": [
    "results = pd.DataFrame(columns=['model','best_params','train_accuracy','test_accuracy'])\n",
    "results.head()"
   ]
  },
  {
   "cell_type": "code",
   "execution_count": 10,
   "metadata": {},
   "outputs": [
    {
     "name": "stderr",
     "output_type": "stream",
     "text": [
      "\r",
      "  0%|          | 0/7 [00:00<?, ?it/s]"
     ]
    },
    {
     "name": "stdout",
     "output_type": "stream",
     "text": [
      "Model:  multi_nb\n",
      "Best Params:  {'cv__ngram_range': (1, 1), 'cv__stop_words': 'english'}\n",
      "Train Accuracy: 0.8570415879017014 \n",
      "\n"
     ]
    },
    {
     "name": "stderr",
     "output_type": "stream",
     "text": [
      "\r",
      " 14%|█▍        | 1/7 [00:01<00:10,  1.77s/it]"
     ]
    },
    {
     "name": "stdout",
     "output_type": "stream",
     "text": [
      "Test Accuracy: 0.7547403863193337 \n",
      "\n",
      "Model:  knn\n",
      "Best Params:  {'cv__ngram_range': (1, 1), 'cv__stop_words': 'english'}\n",
      "Train Accuracy: 0.6460302457466919 \n",
      "\n",
      "Test Accuracy: 0.4875066454013822 \n",
      "\n"
     ]
    },
    {
     "name": "stderr",
     "output_type": "stream",
     "text": [
      "\r",
      " 29%|██▊       | 2/7 [00:24<01:10, 14.03s/it]"
     ]
    },
    {
     "name": "stdout",
     "output_type": "stream",
     "text": [
      "Model:  logreg\n",
      "Best Params:  {'cv__ngram_range': (1, 1), 'cv__stop_words': 'english'}\n",
      "Train Accuracy: 0.9874172967863895 \n",
      "\n"
     ]
    },
    {
     "name": "stderr",
     "output_type": "stream",
     "text": [
      "\r",
      " 43%|████▎     | 3/7 [00:41<01:02, 15.59s/it]"
     ]
    },
    {
     "name": "stdout",
     "output_type": "stream",
     "text": [
      "Test Accuracy: 0.6914761651603757 \n",
      "\n",
      "Model:  rf\n",
      "Best Params:  {'cv__ngram_range': (1, 1), 'cv__stop_words': 'english'}\n",
      "Train Accuracy: 0.9898393194706995 \n",
      "\n",
      "Test Accuracy: 0.7533227006911217 \n",
      "\n"
     ]
    },
    {
     "name": "stderr",
     "output_type": "stream",
     "text": [
      "\r",
      " 57%|█████▋    | 4/7 [02:12<02:15, 45.31s/it]"
     ]
    },
    {
     "name": "stdout",
     "output_type": "stream",
     "text": [
      "Model:  ada\n",
      "Best Params:  {'cv__ngram_range': (1, 2), 'cv__stop_words': 'english'}\n",
      "Train Accuracy: 0.6561318525519849 \n",
      "\n"
     ]
    },
    {
     "name": "stderr",
     "output_type": "stream",
     "text": [
      "\r",
      " 71%|███████▏  | 5/7 [02:18<01:02, 31.12s/it]"
     ]
    },
    {
     "name": "stdout",
     "output_type": "stream",
     "text": [
      "Test Accuracy: 0.6519581782739677 \n",
      "\n",
      "Model:  gb\n",
      "Best Params:  {'cv__ngram_range': (1, 2), 'cv__stop_words': 'english'}\n",
      "Train Accuracy: 0.7407254253308129 \n",
      "\n"
     ]
    },
    {
     "name": "stderr",
     "output_type": "stream",
     "text": [
      "\r",
      " 86%|████████▌ | 6/7 [03:35<00:46, 46.50s/it]"
     ]
    },
    {
     "name": "stdout",
     "output_type": "stream",
     "text": [
      "Test Accuracy: 0.7091972355130249 \n",
      "\n",
      "Model:  svc\n",
      "Best Params:  {'cv__ngram_range': (1, 1), 'cv__stop_words': 'english'}\n",
      "Train Accuracy: 0.8766540642722117 \n",
      "\n",
      "Test Accuracy: 0.7410951621477937 \n",
      "\n"
     ]
    },
    {
     "name": "stderr",
     "output_type": "stream",
     "text": [
      "100%|██████████| 7/7 [05:06<00:00, 43.74s/it]\n"
     ]
    }
   ],
   "source": [
    "for i in tqdm(range(len(models_gr_cv))):           # timed loop through index of number of steps\n",
    "    pipe = Pipeline(steps=models_gr_cv[i])         # configure pipeline for each model\n",
    "    grid = GridSearchCV(pipe, pipe_params_cv[i], cv=2) # fit GridSearchCV to model and model's params\n",
    "\n",
    "    model_results = {}\n",
    "\n",
    "    grid.fit(X_train, y_train)\n",
    "    \n",
    "    print('Model: ',models[i])\n",
    "    model_results['model'] = models[i]\n",
    "\n",
    "    print('Best Params: ', grid.best_params_)\n",
    "    model_results['best_params'] = grid.best_params_\n",
    "\n",
    "    print('Train Accuracy:', grid.score(X_train, y_train), '\\n')\n",
    "    model_results['train_accuracy'] = grid.score(X_train, y_train)\n",
    "    \n",
    "    print('Test Accuracy:', grid.score(X_test, y_test), '\\n')\n",
    "    model_results['test_accuracy'] = grid.score(X_test, y_test)\n",
    "\n",
    "    results = results.append(model_results, ignore_index=True)"
   ]
  },
  {
   "cell_type": "markdown",
   "metadata": {},
   "source": [
    "# Results"
   ]
  },
  {
   "cell_type": "code",
   "execution_count": 11,
   "metadata": {},
   "outputs": [],
   "source": [
    "grid_results_cv = results"
   ]
  },
  {
   "cell_type": "code",
   "execution_count": 12,
   "metadata": {},
   "outputs": [
    {
     "data": {
      "text/html": [
       "<div>\n",
       "<style scoped>\n",
       "    .dataframe tbody tr th:only-of-type {\n",
       "        vertical-align: middle;\n",
       "    }\n",
       "\n",
       "    .dataframe tbody tr th {\n",
       "        vertical-align: top;\n",
       "    }\n",
       "\n",
       "    .dataframe thead th {\n",
       "        text-align: right;\n",
       "    }\n",
       "</style>\n",
       "<table border=\"1\" class=\"dataframe\">\n",
       "  <thead>\n",
       "    <tr style=\"text-align: right;\">\n",
       "      <th></th>\n",
       "      <th>model</th>\n",
       "      <th>best_params</th>\n",
       "      <th>train_accuracy</th>\n",
       "      <th>test_accuracy</th>\n",
       "    </tr>\n",
       "  </thead>\n",
       "  <tbody>\n",
       "    <tr>\n",
       "      <th>0</th>\n",
       "      <td>multi_nb</td>\n",
       "      <td>{'cv__ngram_range': (1, 1), 'cv__stop_words': ...</td>\n",
       "      <td>0.857042</td>\n",
       "      <td>0.754740</td>\n",
       "    </tr>\n",
       "    <tr>\n",
       "      <th>3</th>\n",
       "      <td>rf</td>\n",
       "      <td>{'cv__ngram_range': (1, 1), 'cv__stop_words': ...</td>\n",
       "      <td>0.989839</td>\n",
       "      <td>0.753323</td>\n",
       "    </tr>\n",
       "    <tr>\n",
       "      <th>6</th>\n",
       "      <td>svc</td>\n",
       "      <td>{'cv__ngram_range': (1, 1), 'cv__stop_words': ...</td>\n",
       "      <td>0.876654</td>\n",
       "      <td>0.741095</td>\n",
       "    </tr>\n",
       "    <tr>\n",
       "      <th>5</th>\n",
       "      <td>gb</td>\n",
       "      <td>{'cv__ngram_range': (1, 2), 'cv__stop_words': ...</td>\n",
       "      <td>0.740725</td>\n",
       "      <td>0.709197</td>\n",
       "    </tr>\n",
       "    <tr>\n",
       "      <th>2</th>\n",
       "      <td>logreg</td>\n",
       "      <td>{'cv__ngram_range': (1, 1), 'cv__stop_words': ...</td>\n",
       "      <td>0.987417</td>\n",
       "      <td>0.691476</td>\n",
       "    </tr>\n",
       "    <tr>\n",
       "      <th>4</th>\n",
       "      <td>ada</td>\n",
       "      <td>{'cv__ngram_range': (1, 2), 'cv__stop_words': ...</td>\n",
       "      <td>0.656132</td>\n",
       "      <td>0.651958</td>\n",
       "    </tr>\n",
       "    <tr>\n",
       "      <th>1</th>\n",
       "      <td>knn</td>\n",
       "      <td>{'cv__ngram_range': (1, 1), 'cv__stop_words': ...</td>\n",
       "      <td>0.646030</td>\n",
       "      <td>0.487507</td>\n",
       "    </tr>\n",
       "  </tbody>\n",
       "</table>\n",
       "</div>"
      ],
      "text/plain": [
       "      model                                        best_params  \\\n",
       "0  multi_nb  {'cv__ngram_range': (1, 1), 'cv__stop_words': ...   \n",
       "3        rf  {'cv__ngram_range': (1, 1), 'cv__stop_words': ...   \n",
       "6       svc  {'cv__ngram_range': (1, 1), 'cv__stop_words': ...   \n",
       "5        gb  {'cv__ngram_range': (1, 2), 'cv__stop_words': ...   \n",
       "2    logreg  {'cv__ngram_range': (1, 1), 'cv__stop_words': ...   \n",
       "4       ada  {'cv__ngram_range': (1, 2), 'cv__stop_words': ...   \n",
       "1       knn  {'cv__ngram_range': (1, 1), 'cv__stop_words': ...   \n",
       "\n",
       "   train_accuracy  test_accuracy  \n",
       "0        0.857042       0.754740  \n",
       "3        0.989839       0.753323  \n",
       "6        0.876654       0.741095  \n",
       "5        0.740725       0.709197  \n",
       "2        0.987417       0.691476  \n",
       "4        0.656132       0.651958  \n",
       "1        0.646030       0.487507  "
      ]
     },
     "execution_count": 12,
     "metadata": {},
     "output_type": "execute_result"
    }
   ],
   "source": [
    "results.sort_values('test_accuracy',ascending=False)"
   ]
  },
  {
   "cell_type": "markdown",
   "metadata": {},
   "source": [
    "#### From this, we can state that our 3 most promising models are Random forest, MultiNomial, and Support Vector Machine. Adaboost also looks promising due to its very low variability. We can now optimize for these models much further."
   ]
  },
  {
   "cell_type": "markdown",
   "metadata": {},
   "source": [
    "## Model 1: MultiNomial Naive Bayes "
   ]
  },
  {
   "cell_type": "code",
   "execution_count": 68,
   "metadata": {},
   "outputs": [],
   "source": [
    "pipe = Pipeline([('cvec', CountVectorizer(stop_words = 'english')), \n",
    "               ('mnb', MultinomialNB())])"
   ]
  },
  {
   "cell_type": "code",
   "execution_count": 69,
   "metadata": {},
   "outputs": [],
   "source": [
    "mb_pipe_params = {'cvec__max_features' : [None, 5000, 10000, 20000],\n",
    "                  'cvec__max_df' : [0.9, 0.95],\n",
    "                  'cvec__min_df' : [2, 3],\n",
    "                  'cvec__ngram_range' : [(1, 1), (1, 2)],\n",
    "                  'mnb__alpha' :np.arange(.1,1,1.5)}"
   ]
  },
  {
   "cell_type": "code",
   "execution_count": 89,
   "metadata": {},
   "outputs": [
    {
     "name": "stdout",
     "output_type": "stream",
     "text": [
      "Train Accuracy:  0.8842745746691871\n",
      "Test Accuracy:  0.759170653907496\n",
      "BP:  {'cvec__max_df': 0.9, 'cvec__max_features': None, 'cvec__min_df': 2, 'cvec__ngram_range': (1, 2), 'mnb__alpha': 0.1}\n"
     ]
    }
   ],
   "source": [
    "mnb_post_results = {} \n",
    "\n",
    "grid = GridSearchCV(pipe, mb_pipe_params, cv=3) \n",
    "grid.fit(X_train, y_train) \n",
    "\n",
    "print('Train Accuracy: ',grid.score(X_train, y_train))\n",
    "mnb_post_results['train_accuracy'] = grid.score(X_train, y_train) \n",
    "\n",
    "print('Test Accuracy: ',grid.score(X_test, y_test))\n",
    "mnb_post_results['test_accuracy'] = grid.score(X_test, y_test) \n",
    "\n",
    "print('BP: ',grid.best_params_)\n",
    "mnb_post_results['bp'] = grid.best_params_ "
   ]
  },
  {
   "cell_type": "code",
   "execution_count": 113,
   "metadata": {},
   "outputs": [
    {
     "data": {
      "image/png": "[encoded data removed]",
      "text/plain": [
       "<Figure size 432x288 with 2 Axes>"
      ]
     },
     "metadata": {
      "needs_background": "light"
     },
     "output_type": "display_data"
    }
   ],
   "source": [
    "class_names = ['FB', 'APPL', 'AMZN', 'GOOG', 'MSFT']\n",
    "disp = plot_confusion_matrix(grid.best_estimator_, X_test, y_test,\n",
    "                                 display_labels=class_names,\n",
    "                                 cmap=plt.cm.Blues)\n",
    "plt.show()"
   ]
  },
  {
   "cell_type": "markdown",
   "metadata": {},
   "source": [
    "## Model 2: Random Forest"
   ]
  },
  {
   "cell_type": "code",
   "execution_count": 116,
   "metadata": {},
   "outputs": [],
   "source": [
    "pipe = Pipeline([('cvec', CountVectorizer(stop_words = 'english')), \n",
    "               ('rf', RandomForestClassifier(random_state = 42))])"
   ]
  },
  {
   "cell_type": "code",
   "execution_count": 119,
   "metadata": {},
   "outputs": [],
   "source": [
    "rf_pipe_params = {'cvec__max_features' : [None, 5000, 10000],\n",
    "                  'rf__n_estimators' : [100, 150, 200],\n",
    "                  'rf__max_depth' : [None, 3, 5, 10],\n",
    "                  'rf__min_samples_split' : [2, 3, 4, 5]}"
   ]
  },
  {
   "cell_type": "code",
   "execution_count": 120,
   "metadata": {},
   "outputs": [
    {
     "name": "stdout",
     "output_type": "stream",
     "text": [
      "Train Accuracy:  0.9831049149338374\n",
      "Test Accuracy:  0.7710437710437711\n",
      "BP:  {'cvec__max_features': None, 'rf__max_depth': None, 'rf__min_samples_split': 5, 'rf__n_estimators': 200}\n"
     ]
    }
   ],
   "source": [
    "rf_post_results = {}\n",
    "\n",
    "grid = GridSearchCV(pipe, rf_pipe_params, cv=3) \n",
    "grid.fit(X_train, y_train) \n",
    "\n",
    "print('Train Accuracy: ',grid.score(X_train, y_train))\n",
    "rf_post_results['train_accuracy'] = grid.score(X_train, y_train)\n",
    "\n",
    "print('Test Accuracy: ',grid.score(X_test, y_test))\n",
    "rf_post_results['test_accuracy'] = grid.score(X_test, y_test) \n",
    "\n",
    "print('BP: ',grid.best_params_)\n",
    "rf_post_results['bp'] = grid.best_params_ "
   ]
  },
  {
   "cell_type": "code",
   "execution_count": 121,
   "metadata": {},
   "outputs": [
    {
     "data": {
      "image/png": "[encoded data removed]",
      "text/plain": [
       "<Figure size 432x288 with 2 Axes>"
      ]
     },
     "metadata": {
      "needs_background": "light"
     },
     "output_type": "display_data"
    }
   ],
   "source": [
    "class_names = ['FB', 'APPL', 'AMZN', 'GOOG', 'MSFT']\n",
    "disp = plot_confusion_matrix(grid.best_estimator_, X_test, y_test,\n",
    "                                 display_labels=class_names,\n",
    "                                 cmap=plt.cm.Blues)\n",
    "plt.show()"
   ]
  },
  {
   "cell_type": "markdown",
   "metadata": {},
   "source": [
    "## Model 3: Support Vector Machine"
   ]
  },
  {
   "cell_type": "code",
   "execution_count": 122,
   "metadata": {},
   "outputs": [],
   "source": [
    "pipe = Pipeline([('cvec', CountVectorizer(stop_words = 'english', ngram_range = (1,2))), \n",
    "               ('svc', SVC())])"
   ]
  },
  {
   "cell_type": "code",
   "execution_count": 131,
   "metadata": {},
   "outputs": [],
   "source": [
    "svc_pipe_params = {'cvec__max_features' : [None, 5000, 10000],\n",
    "                   'svc__C': [1, 10, 0.1, 100],\n",
    "                   'svc__kernel' : ['rbf', 'linear', 'polynomial'],\n",
    "                   'svc__degree' : [2, 3, 4, 5]}"
   ]
  },
  {
   "cell_type": "code",
   "execution_count": 132,
   "metadata": {},
   "outputs": [
    {
     "name": "stdout",
     "output_type": "stream",
     "text": [
      "Train Accuracy:  0.9311200378071833\n",
      "Test Accuracy:  0.7579301789828106\n",
      "BP:  {'cvec__max_features': None, 'svc__C': 0.1, 'svc__degree': 2, 'svc__kernel': 'linear'}\n"
     ]
    }
   ],
   "source": [
    "svc_post_results = {} \n",
    "\n",
    "grid = GridSearchCV(pipe, svc_pipe_params, cv=3) \n",
    "grid.fit(X_train, y_train) \n",
    "\n",
    "print('Train Accuracy: ',grid.score(X_train, y_train))\n",
    "svc_post_results['train_accuracy'] = grid.score(X_train, y_train) \n",
    "\n",
    "print('Test Accuracy: ',grid.score(X_test, y_test))\n",
    "svc_post_results['test_accuracy'] = grid.score(X_test, y_test) \n",
    "\n",
    "print('BP: ',grid.best_params_)\n",
    "svc_post_results['bp'] = grid.best_params_ "
   ]
  },
  {
   "cell_type": "code",
   "execution_count": 133,
   "metadata": {},
   "outputs": [
    {
     "data": {
      "image/png": "[encoded data removed]",
      "text/plain": [
       "<Figure size 432x288 with 2 Axes>"
      ]
     },
     "metadata": {
      "needs_background": "light"
     },
     "output_type": "display_data"
    }
   ],
   "source": [
    "class_names = ['FB', 'APPL', 'AMZN', 'GOOG', 'MSFT']\n",
    "disp = plot_confusion_matrix(grid.best_estimator_, X_test, y_test,\n",
    "                                 display_labels=class_names,\n",
    "                                 cmap=plt.cm.Blues)\n",
    "plt.show()"
   ]
  },
  {
   "cell_type": "markdown",
   "metadata": {},
   "source": [
    "## Model 4: AdaBoostClassifier"
   ]
  },
  {
   "cell_type": "code",
   "execution_count": 172,
   "metadata": {},
   "outputs": [],
   "source": [
    "pipe = Pipeline([('cvec', CountVectorizer(stop_words = 'english', ngram_range = (1,2))), \n",
    "               ('ada', AdaBoostClassifier(base_estimator = DecisionTreeClassifier()))])"
   ]
  },
  {
   "cell_type": "code",
   "execution_count": 173,
   "metadata": {},
   "outputs": [],
   "source": [
    "ada_pipe_params = {'cvec__max_features' : [None, 2000],\n",
    "             'ada__n_estimators' : [50, 100, 200],\n",
    "             'ada__base_estimator__splitter' :   [\"best\", \"random\"],\n",
    "             'ada__base_estimator__min_samples_split' :  [2, 5, 10],\n",
    "             'ada__base_estimator__min_samples_leaf' : [1, 3, 5]\n",
    "            }"
   ]
  },
  {
   "cell_type": "code",
   "execution_count": 174,
   "metadata": {},
   "outputs": [
    {
     "name": "stdout",
     "output_type": "stream",
     "text": [
      "Fitting 3 folds for each of 108 candidates, totalling 324 fits\n",
      "[CV] ada__base_estimator__min_samples_leaf=1, ada__base_estimator__min_samples_split=2, ada__base_estimator__splitter=best, ada__n_estimators=50, cvec__max_features=None \n"
     ]
    },
    {
     "name": "stderr",
     "output_type": "stream",
     "text": [
      "[Parallel(n_jobs=1)]: Using backend SequentialBackend with 1 concurrent workers.\n"
     ]
    },
    {
     "name": "stdout",
     "output_type": "stream",
     "text": [
      "[CV]  ada__base_estimator__min_samples_leaf=1, ada__base_estimator__min_samples_split=2, ada__base_estimator__splitter=best, ada__n_estimators=50, cvec__max_features=None, total=  12.8s\n",
      "[CV] ada__base_estimator__min_samples_leaf=1, ada__base_estimator__min_samples_split=2, ada__base_estimator__splitter=best, ada__n_estimators=50, cvec__max_features=None \n"
     ]
    },
    {
     "name": "stderr",
     "output_type": "stream",
     "text": [
      "[Parallel(n_jobs=1)]: Done   1 out of   1 | elapsed:   12.8s remaining:    0.0s\n"
     ]
    },
    {
     "name": "stdout",
     "output_type": "stream",
     "text": [
      "[CV]  ada__base_estimator__min_samples_leaf=1, ada__base_estimator__min_samples_split=2, ada__base_estimator__splitter=best, ada__n_estimators=50, cvec__max_features=None, total=  20.6s\n",
      "[CV] ada__base_estimator__min_samples_leaf=1, ada__base_estimator__min_samples_split=2, ada__base_estimator__splitter=best, ada__n_estimators=50, cvec__max_features=None \n",
      "[CV]  ada__base_estimator__min_samples_leaf=1, ada__base_estimator__min_samples_split=2, ada__base_estimator__splitter=best, ada__n_estimators=50, cvec__max_features=None, total=  12.1s\n",
      "[CV] ada__base_estimator__min_samples_leaf=1, ada__base_estimator__min_samples_split=2, ada__base_estimator__splitter=best, ada__n_estimators=50, cvec__max_features=2000 \n",
      "[CV]  ada__base_estimator__min_samples_leaf=1, ada__base_estimator__min_samples_split=2, ada__base_estimator__splitter=best, ada__n_estimators=50, cvec__max_features=2000, total=   1.9s\n",
      "[CV] ada__base_estimator__min_samples_leaf=1, ada__base_estimator__min_samples_split=2, ada__base_estimator__splitter=best, ada__n_estimators=50, cvec__max_features=2000 \n",
      "[CV]  ada__base_estimator__min_samples_leaf=1, ada__base_estimator__min_samples_split=2, ada__base_estimator__splitter=best, ada__n_estimators=50, cvec__max_features=2000, total=   1.9s\n",
      "[CV] ada__base_estimator__min_samples_leaf=1, ada__base_estimator__min_samples_split=2, ada__base_estimator__splitter=best, ada__n_estimators=50, cvec__max_features=2000 \n",
      "[CV]  ada__base_estimator__min_samples_leaf=1, ada__base_estimator__min_samples_split=2, ada__base_estimator__splitter=best, ada__n_estimators=50, cvec__max_features=2000, total=   1.9s\n",
      "[CV] ada__base_estimator__min_samples_leaf=1, ada__base_estimator__min_samples_split=2, ada__base_estimator__splitter=best, ada__n_estimators=100, cvec__max_features=None \n",
      "[CV]  ada__base_estimator__min_samples_leaf=1, ada__base_estimator__min_samples_split=2, ada__base_estimator__splitter=best, ada__n_estimators=100, cvec__max_features=None, total=  26.3s\n",
      "[CV] ada__base_estimator__min_samples_leaf=1, ada__base_estimator__min_samples_split=2, ada__base_estimator__splitter=best, ada__n_estimators=100, cvec__max_features=None \n",
      "[CV]  ada__base_estimator__min_samples_leaf=1, ada__base_estimator__min_samples_split=2, ada__base_estimator__splitter=best, ada__n_estimators=100, cvec__max_features=None, total=  22.4s\n",
      "[CV] ada__base_estimator__min_samples_leaf=1, ada__base_estimator__min_samples_split=2, ada__base_estimator__splitter=best, ada__n_estimators=100, cvec__max_features=None \n",
      "[CV]  ada__base_estimator__min_samples_leaf=1, ada__base_estimator__min_samples_split=2, ada__base_estimator__splitter=best, ada__n_estimators=100, cvec__max_features=None, total=  13.9s\n",
      "[CV] ada__base_estimator__min_samples_leaf=1, ada__base_estimator__min_samples_split=2, ada__base_estimator__splitter=best, ada__n_estimators=100, cvec__max_features=2000 \n",
      "[CV]  ada__base_estimator__min_samples_leaf=1, ada__base_estimator__min_samples_split=2, ada__base_estimator__splitter=best, ada__n_estimators=100, cvec__max_features=2000, total=   2.5s\n",
      "[CV] ada__base_estimator__min_samples_leaf=1, ada__base_estimator__min_samples_split=2, ada__base_estimator__splitter=best, ada__n_estimators=100, cvec__max_features=2000 \n",
      "[CV]  ada__base_estimator__min_samples_leaf=1, ada__base_estimator__min_samples_split=2, ada__base_estimator__splitter=best, ada__n_estimators=100, cvec__max_features=2000, total=   2.3s\n",
      "[CV] ada__base_estimator__min_samples_leaf=1, ada__base_estimator__min_samples_split=2, ada__base_estimator__splitter=best, ada__n_estimators=100, cvec__max_features=2000 \n",
      "[CV]  ada__base_estimator__min_samples_leaf=1, ada__base_estimator__min_samples_split=2, ada__base_estimator__splitter=best, ada__n_estimators=100, cvec__max_features=2000, total=   2.3s\n",
      "[CV] ada__base_estimator__min_samples_leaf=1, ada__base_estimator__min_samples_split=2, ada__base_estimator__splitter=best, ada__n_estimators=200, cvec__max_features=None \n",
      "[CV]  ada__base_estimator__min_samples_leaf=1, ada__base_estimator__min_samples_split=2, ada__base_estimator__splitter=best, ada__n_estimators=200, cvec__max_features=None, total=  27.1s\n",
      "[CV] ada__base_estimator__min_samples_leaf=1, ada__base_estimator__min_samples_split=2, ada__base_estimator__splitter=best, ada__n_estimators=200, cvec__max_features=None \n",
      "[CV]  ada__base_estimator__min_samples_leaf=1, ada__base_estimator__min_samples_split=2, ada__base_estimator__splitter=best, ada__n_estimators=200, cvec__max_features=None, total=  24.4s\n",
      "[CV] ada__base_estimator__min_samples_leaf=1, ada__base_estimator__min_samples_split=2, ada__base_estimator__splitter=best, ada__n_estimators=200, cvec__max_features=None \n",
      "[CV]  ada__base_estimator__min_samples_leaf=1, ada__base_estimator__min_samples_split=2, ada__base_estimator__splitter=best, ada__n_estimators=200, cvec__max_features=None, total=  18.2s\n",
      "[CV] ada__base_estimator__min_samples_leaf=1, ada__base_estimator__min_samples_split=2, ada__base_estimator__splitter=best, ada__n_estimators=200, cvec__max_features=2000 \n",
      "[CV]  ada__base_estimator__min_samples_leaf=1, ada__base_estimator__min_samples_split=2, ada__base_estimator__splitter=best, ada__n_estimators=200, cvec__max_features=2000, total=   3.6s\n",
      "[CV] ada__base_estimator__min_samples_leaf=1, ada__base_estimator__min_samples_split=2, ada__base_estimator__splitter=best, ada__n_estimators=200, cvec__max_features=2000 \n",
      "[CV]  ada__base_estimator__min_samples_leaf=1, ada__base_estimator__min_samples_split=2, ada__base_estimator__splitter=best, ada__n_estimators=200, cvec__max_features=2000, total=   3.3s\n",
      "[CV] ada__base_estimator__min_samples_leaf=1, ada__base_estimator__min_samples_split=2, ada__base_estimator__splitter=best, ada__n_estimators=200, cvec__max_features=2000 \n",
      "[CV]  ada__base_estimator__min_samples_leaf=1, ada__base_estimator__min_samples_split=2, ada__base_estimator__splitter=best, ada__n_estimators=200, cvec__max_features=2000, total=   3.3s\n",
      "[CV] ada__base_estimator__min_samples_leaf=1, ada__base_estimator__min_samples_split=2, ada__base_estimator__splitter=random, ada__n_estimators=50, cvec__max_features=None \n",
      "[CV]  ada__base_estimator__min_samples_leaf=1, ada__base_estimator__min_samples_split=2, ada__base_estimator__splitter=random, ada__n_estimators=50, cvec__max_features=None, total=  14.2s\n",
      "[CV] ada__base_estimator__min_samples_leaf=1, ada__base_estimator__min_samples_split=2, ada__base_estimator__splitter=random, ada__n_estimators=50, cvec__max_features=None \n",
      "[CV]  ada__base_estimator__min_samples_leaf=1, ada__base_estimator__min_samples_split=2, ada__base_estimator__splitter=random, ada__n_estimators=50, cvec__max_features=None, total=  23.7s\n",
      "[CV] ada__base_estimator__min_samples_leaf=1, ada__base_estimator__min_samples_split=2, ada__base_estimator__splitter=random, ada__n_estimators=50, cvec__max_features=None \n",
      "[CV]  ada__base_estimator__min_samples_leaf=1, ada__base_estimator__min_samples_split=2, ada__base_estimator__splitter=random, ada__n_estimators=50, cvec__max_features=None, total=  13.5s\n",
      "[CV] ada__base_estimator__min_samples_leaf=1, ada__base_estimator__min_samples_split=2, ada__base_estimator__splitter=random, ada__n_estimators=50, cvec__max_features=2000 \n",
      "[CV]  ada__base_estimator__min_samples_leaf=1, ada__base_estimator__min_samples_split=2, ada__base_estimator__splitter=random, ada__n_estimators=50, cvec__max_features=2000, total=   1.9s\n",
      "[CV] ada__base_estimator__min_samples_leaf=1, ada__base_estimator__min_samples_split=2, ada__base_estimator__splitter=random, ada__n_estimators=50, cvec__max_features=2000 \n",
      "[CV]  ada__base_estimator__min_samples_leaf=1, ada__base_estimator__min_samples_split=2, ada__base_estimator__splitter=random, ada__n_estimators=50, cvec__max_features=2000, total=   1.8s\n",
      "[CV] ada__base_estimator__min_samples_leaf=1, ada__base_estimator__min_samples_split=2, ada__base_estimator__splitter=random, ada__n_estimators=50, cvec__max_features=2000 \n",
      "[CV]  ada__base_estimator__min_samples_leaf=1, ada__base_estimator__min_samples_split=2, ada__base_estimator__splitter=random, ada__n_estimators=50, cvec__max_features=2000, total=   1.8s\n",
      "[CV] ada__base_estimator__min_samples_leaf=1, ada__base_estimator__min_samples_split=2, ada__base_estimator__splitter=random, ada__n_estimators=100, cvec__max_features=None \n"
     ]
    },
    {
     "name": "stdout",
     "output_type": "stream",
     "text": [
      "[CV]  ada__base_estimator__min_samples_leaf=1, ada__base_estimator__min_samples_split=2, ada__base_estimator__splitter=random, ada__n_estimators=100, cvec__max_features=None, total=  16.7s\n",
      "[CV] ada__base_estimator__min_samples_leaf=1, ada__base_estimator__min_samples_split=2, ada__base_estimator__splitter=random, ada__n_estimators=100, cvec__max_features=None \n",
      "[CV]  ada__base_estimator__min_samples_leaf=1, ada__base_estimator__min_samples_split=2, ada__base_estimator__splitter=random, ada__n_estimators=100, cvec__max_features=None, total=  25.8s\n",
      "[CV] ada__base_estimator__min_samples_leaf=1, ada__base_estimator__min_samples_split=2, ada__base_estimator__splitter=random, ada__n_estimators=100, cvec__max_features=None \n",
      "[CV]  ada__base_estimator__min_samples_leaf=1, ada__base_estimator__min_samples_split=2, ada__base_estimator__splitter=random, ada__n_estimators=100, cvec__max_features=None, total=  16.0s\n",
      "[CV] ada__base_estimator__min_samples_leaf=1, ada__base_estimator__min_samples_split=2, ada__base_estimator__splitter=random, ada__n_estimators=100, cvec__max_features=2000 \n",
      "[CV]  ada__base_estimator__min_samples_leaf=1, ada__base_estimator__min_samples_split=2, ada__base_estimator__splitter=random, ada__n_estimators=100, cvec__max_features=2000, total=   2.4s\n",
      "[CV] ada__base_estimator__min_samples_leaf=1, ada__base_estimator__min_samples_split=2, ada__base_estimator__splitter=random, ada__n_estimators=100, cvec__max_features=2000 \n",
      "[CV]  ada__base_estimator__min_samples_leaf=1, ada__base_estimator__min_samples_split=2, ada__base_estimator__splitter=random, ada__n_estimators=100, cvec__max_features=2000, total=   2.4s\n",
      "[CV] ada__base_estimator__min_samples_leaf=1, ada__base_estimator__min_samples_split=2, ada__base_estimator__splitter=random, ada__n_estimators=100, cvec__max_features=2000 \n",
      "[CV]  ada__base_estimator__min_samples_leaf=1, ada__base_estimator__min_samples_split=2, ada__base_estimator__splitter=random, ada__n_estimators=100, cvec__max_features=2000, total=   2.3s\n",
      "[CV] ada__base_estimator__min_samples_leaf=1, ada__base_estimator__min_samples_split=2, ada__base_estimator__splitter=random, ada__n_estimators=200, cvec__max_features=None \n",
      "[CV]  ada__base_estimator__min_samples_leaf=1, ada__base_estimator__min_samples_split=2, ada__base_estimator__splitter=random, ada__n_estimators=200, cvec__max_features=None, total=  20.1s\n",
      "[CV] ada__base_estimator__min_samples_leaf=1, ada__base_estimator__min_samples_split=2, ada__base_estimator__splitter=random, ada__n_estimators=200, cvec__max_features=None \n",
      "[CV]  ada__base_estimator__min_samples_leaf=1, ada__base_estimator__min_samples_split=2, ada__base_estimator__splitter=random, ada__n_estimators=200, cvec__max_features=None, total=  27.1s\n",
      "[CV] ada__base_estimator__min_samples_leaf=1, ada__base_estimator__min_samples_split=2, ada__base_estimator__splitter=random, ada__n_estimators=200, cvec__max_features=None \n",
      "[CV]  ada__base_estimator__min_samples_leaf=1, ada__base_estimator__min_samples_split=2, ada__base_estimator__splitter=random, ada__n_estimators=200, cvec__max_features=None, total=  18.8s\n",
      "[CV] ada__base_estimator__min_samples_leaf=1, ada__base_estimator__min_samples_split=2, ada__base_estimator__splitter=random, ada__n_estimators=200, cvec__max_features=2000 \n",
      "[CV]  ada__base_estimator__min_samples_leaf=1, ada__base_estimator__min_samples_split=2, ada__base_estimator__splitter=random, ada__n_estimators=200, cvec__max_features=2000, total=   3.2s\n",
      "[CV] ada__base_estimator__min_samples_leaf=1, ada__base_estimator__min_samples_split=2, ada__base_estimator__splitter=random, ada__n_estimators=200, cvec__max_features=2000 \n",
      "[CV]  ada__base_estimator__min_samples_leaf=1, ada__base_estimator__min_samples_split=2, ada__base_estimator__splitter=random, ada__n_estimators=200, cvec__max_features=2000, total=   3.0s\n",
      "[CV] ada__base_estimator__min_samples_leaf=1, ada__base_estimator__min_samples_split=2, ada__base_estimator__splitter=random, ada__n_estimators=200, cvec__max_features=2000 \n",
      "[CV]  ada__base_estimator__min_samples_leaf=1, ada__base_estimator__min_samples_split=2, ada__base_estimator__splitter=random, ada__n_estimators=200, cvec__max_features=2000, total=   3.1s\n",
      "[CV] ada__base_estimator__min_samples_leaf=1, ada__base_estimator__min_samples_split=5, ada__base_estimator__splitter=best, ada__n_estimators=50, cvec__max_features=None \n",
      "[CV]  ada__base_estimator__min_samples_leaf=1, ada__base_estimator__min_samples_split=5, ada__base_estimator__splitter=best, ada__n_estimators=50, cvec__max_features=None, total=  13.7s\n",
      "[CV] ada__base_estimator__min_samples_leaf=1, ada__base_estimator__min_samples_split=5, ada__base_estimator__splitter=best, ada__n_estimators=50, cvec__max_features=None \n",
      "[CV]  ada__base_estimator__min_samples_leaf=1, ada__base_estimator__min_samples_split=5, ada__base_estimator__splitter=best, ada__n_estimators=50, cvec__max_features=None, total=  19.6s\n",
      "[CV] ada__base_estimator__min_samples_leaf=1, ada__base_estimator__min_samples_split=5, ada__base_estimator__splitter=best, ada__n_estimators=50, cvec__max_features=None \n",
      "[CV]  ada__base_estimator__min_samples_leaf=1, ada__base_estimator__min_samples_split=5, ada__base_estimator__splitter=best, ada__n_estimators=50, cvec__max_features=None, total=  12.5s\n",
      "[CV] ada__base_estimator__min_samples_leaf=1, ada__base_estimator__min_samples_split=5, ada__base_estimator__splitter=best, ada__n_estimators=50, cvec__max_features=2000 \n",
      "[CV]  ada__base_estimator__min_samples_leaf=1, ada__base_estimator__min_samples_split=5, ada__base_estimator__splitter=best, ada__n_estimators=50, cvec__max_features=2000, total=   2.0s\n",
      "[CV] ada__base_estimator__min_samples_leaf=1, ada__base_estimator__min_samples_split=5, ada__base_estimator__splitter=best, ada__n_estimators=50, cvec__max_features=2000 \n",
      "[CV]  ada__base_estimator__min_samples_leaf=1, ada__base_estimator__min_samples_split=5, ada__base_estimator__splitter=best, ada__n_estimators=50, cvec__max_features=2000, total=   2.0s\n",
      "[CV] ada__base_estimator__min_samples_leaf=1, ada__base_estimator__min_samples_split=5, ada__base_estimator__splitter=best, ada__n_estimators=50, cvec__max_features=2000 \n",
      "[CV]  ada__base_estimator__min_samples_leaf=1, ada__base_estimator__min_samples_split=5, ada__base_estimator__splitter=best, ada__n_estimators=50, cvec__max_features=2000, total=   1.9s\n",
      "[CV] ada__base_estimator__min_samples_leaf=1, ada__base_estimator__min_samples_split=5, ada__base_estimator__splitter=best, ada__n_estimators=100, cvec__max_features=None \n",
      "[CV]  ada__base_estimator__min_samples_leaf=1, ada__base_estimator__min_samples_split=5, ada__base_estimator__splitter=best, ada__n_estimators=100, cvec__max_features=None, total=  15.4s\n",
      "[CV] ada__base_estimator__min_samples_leaf=1, ada__base_estimator__min_samples_split=5, ada__base_estimator__splitter=best, ada__n_estimators=100, cvec__max_features=None \n",
      "[CV]  ada__base_estimator__min_samples_leaf=1, ada__base_estimator__min_samples_split=5, ada__base_estimator__splitter=best, ada__n_estimators=100, cvec__max_features=None, total=  21.4s\n",
      "[CV] ada__base_estimator__min_samples_leaf=1, ada__base_estimator__min_samples_split=5, ada__base_estimator__splitter=best, ada__n_estimators=100, cvec__max_features=None \n",
      "[CV]  ada__base_estimator__min_samples_leaf=1, ada__base_estimator__min_samples_split=5, ada__base_estimator__splitter=best, ada__n_estimators=100, cvec__max_features=None, total=  14.3s\n",
      "[CV] ada__base_estimator__min_samples_leaf=1, ada__base_estimator__min_samples_split=5, ada__base_estimator__splitter=best, ada__n_estimators=100, cvec__max_features=2000 \n",
      "[CV]  ada__base_estimator__min_samples_leaf=1, ada__base_estimator__min_samples_split=5, ada__base_estimator__splitter=best, ada__n_estimators=100, cvec__max_features=2000, total=   2.6s\n",
      "[CV] ada__base_estimator__min_samples_leaf=1, ada__base_estimator__min_samples_split=5, ada__base_estimator__splitter=best, ada__n_estimators=100, cvec__max_features=2000 \n",
      "[CV]  ada__base_estimator__min_samples_leaf=1, ada__base_estimator__min_samples_split=5, ada__base_estimator__splitter=best, ada__n_estimators=100, cvec__max_features=2000, total=   2.4s\n",
      "[CV] ada__base_estimator__min_samples_leaf=1, ada__base_estimator__min_samples_split=5, ada__base_estimator__splitter=best, ada__n_estimators=100, cvec__max_features=2000 \n"
     ]
    },
    {
     "name": "stdout",
     "output_type": "stream",
     "text": [
      "[CV]  ada__base_estimator__min_samples_leaf=1, ada__base_estimator__min_samples_split=5, ada__base_estimator__splitter=best, ada__n_estimators=100, cvec__max_features=2000, total=   2.3s\n",
      "[CV] ada__base_estimator__min_samples_leaf=1, ada__base_estimator__min_samples_split=5, ada__base_estimator__splitter=best, ada__n_estimators=200, cvec__max_features=None \n",
      "[CV]  ada__base_estimator__min_samples_leaf=1, ada__base_estimator__min_samples_split=5, ada__base_estimator__splitter=best, ada__n_estimators=200, cvec__max_features=None, total=  18.2s\n",
      "[CV] ada__base_estimator__min_samples_leaf=1, ada__base_estimator__min_samples_split=5, ada__base_estimator__splitter=best, ada__n_estimators=200, cvec__max_features=None \n",
      "[CV]  ada__base_estimator__min_samples_leaf=1, ada__base_estimator__min_samples_split=5, ada__base_estimator__splitter=best, ada__n_estimators=200, cvec__max_features=None, total=  25.5s\n",
      "[CV] ada__base_estimator__min_samples_leaf=1, ada__base_estimator__min_samples_split=5, ada__base_estimator__splitter=best, ada__n_estimators=200, cvec__max_features=None \n",
      "[CV]  ada__base_estimator__min_samples_leaf=1, ada__base_estimator__min_samples_split=5, ada__base_estimator__splitter=best, ada__n_estimators=200, cvec__max_features=None, total=  20.4s\n",
      "[CV] ada__base_estimator__min_samples_leaf=1, ada__base_estimator__min_samples_split=5, ada__base_estimator__splitter=best, ada__n_estimators=200, cvec__max_features=2000 \n",
      "[CV]  ada__base_estimator__min_samples_leaf=1, ada__base_estimator__min_samples_split=5, ada__base_estimator__splitter=best, ada__n_estimators=200, cvec__max_features=2000, total=   3.9s\n",
      "[CV] ada__base_estimator__min_samples_leaf=1, ada__base_estimator__min_samples_split=5, ada__base_estimator__splitter=best, ada__n_estimators=200, cvec__max_features=2000 \n",
      "[CV]  ada__base_estimator__min_samples_leaf=1, ada__base_estimator__min_samples_split=5, ada__base_estimator__splitter=best, ada__n_estimators=200, cvec__max_features=2000, total=   3.6s\n",
      "[CV] ada__base_estimator__min_samples_leaf=1, ada__base_estimator__min_samples_split=5, ada__base_estimator__splitter=best, ada__n_estimators=200, cvec__max_features=2000 \n",
      "[CV]  ada__base_estimator__min_samples_leaf=1, ada__base_estimator__min_samples_split=5, ada__base_estimator__splitter=best, ada__n_estimators=200, cvec__max_features=2000, total=   3.5s\n",
      "[CV] ada__base_estimator__min_samples_leaf=1, ada__base_estimator__min_samples_split=5, ada__base_estimator__splitter=random, ada__n_estimators=50, cvec__max_features=None \n",
      "[CV]  ada__base_estimator__min_samples_leaf=1, ada__base_estimator__min_samples_split=5, ada__base_estimator__splitter=random, ada__n_estimators=50, cvec__max_features=None, total=  14.4s\n",
      "[CV] ada__base_estimator__min_samples_leaf=1, ada__base_estimator__min_samples_split=5, ada__base_estimator__splitter=random, ada__n_estimators=50, cvec__max_features=None \n",
      "[CV]  ada__base_estimator__min_samples_leaf=1, ada__base_estimator__min_samples_split=5, ada__base_estimator__splitter=random, ada__n_estimators=50, cvec__max_features=None, total=  23.7s\n",
      "[CV] ada__base_estimator__min_samples_leaf=1, ada__base_estimator__min_samples_split=5, ada__base_estimator__splitter=random, ada__n_estimators=50, cvec__max_features=None \n",
      "[CV]  ada__base_estimator__min_samples_leaf=1, ada__base_estimator__min_samples_split=5, ada__base_estimator__splitter=random, ada__n_estimators=50, cvec__max_features=None, total=  13.7s\n",
      "[CV] ada__base_estimator__min_samples_leaf=1, ada__base_estimator__min_samples_split=5, ada__base_estimator__splitter=random, ada__n_estimators=50, cvec__max_features=2000 \n",
      "[CV]  ada__base_estimator__min_samples_leaf=1, ada__base_estimator__min_samples_split=5, ada__base_estimator__splitter=random, ada__n_estimators=50, cvec__max_features=2000, total=   1.8s\n",
      "[CV] ada__base_estimator__min_samples_leaf=1, ada__base_estimator__min_samples_split=5, ada__base_estimator__splitter=random, ada__n_estimators=50, cvec__max_features=2000 \n",
      "[CV]  ada__base_estimator__min_samples_leaf=1, ada__base_estimator__min_samples_split=5, ada__base_estimator__splitter=random, ada__n_estimators=50, cvec__max_features=2000, total=   1.9s\n",
      "[CV] ada__base_estimator__min_samples_leaf=1, ada__base_estimator__min_samples_split=5, ada__base_estimator__splitter=random, ada__n_estimators=50, cvec__max_features=2000 \n",
      "[CV]  ada__base_estimator__min_samples_leaf=1, ada__base_estimator__min_samples_split=5, ada__base_estimator__splitter=random, ada__n_estimators=50, cvec__max_features=2000, total=   1.9s\n",
      "[CV] ada__base_estimator__min_samples_leaf=1, ada__base_estimator__min_samples_split=5, ada__base_estimator__splitter=random, ada__n_estimators=100, cvec__max_features=None \n",
      "[CV]  ada__base_estimator__min_samples_leaf=1, ada__base_estimator__min_samples_split=5, ada__base_estimator__splitter=random, ada__n_estimators=100, cvec__max_features=None, total=  15.9s\n",
      "[CV] ada__base_estimator__min_samples_leaf=1, ada__base_estimator__min_samples_split=5, ada__base_estimator__splitter=random, ada__n_estimators=100, cvec__max_features=None \n",
      "[CV]  ada__base_estimator__min_samples_leaf=1, ada__base_estimator__min_samples_split=5, ada__base_estimator__splitter=random, ada__n_estimators=100, cvec__max_features=None, total=  25.2s\n",
      "[CV] ada__base_estimator__min_samples_leaf=1, ada__base_estimator__min_samples_split=5, ada__base_estimator__splitter=random, ada__n_estimators=100, cvec__max_features=None \n",
      "[CV]  ada__base_estimator__min_samples_leaf=1, ada__base_estimator__min_samples_split=5, ada__base_estimator__splitter=random, ada__n_estimators=100, cvec__max_features=None, total=  15.4s\n",
      "[CV] ada__base_estimator__min_samples_leaf=1, ada__base_estimator__min_samples_split=5, ada__base_estimator__splitter=random, ada__n_estimators=100, cvec__max_features=2000 \n",
      "[CV]  ada__base_estimator__min_samples_leaf=1, ada__base_estimator__min_samples_split=5, ada__base_estimator__splitter=random, ada__n_estimators=100, cvec__max_features=2000, total=   2.3s\n",
      "[CV] ada__base_estimator__min_samples_leaf=1, ada__base_estimator__min_samples_split=5, ada__base_estimator__splitter=random, ada__n_estimators=100, cvec__max_features=2000 \n",
      "[CV]  ada__base_estimator__min_samples_leaf=1, ada__base_estimator__min_samples_split=5, ada__base_estimator__splitter=random, ada__n_estimators=100, cvec__max_features=2000, total=   2.3s\n",
      "[CV] ada__base_estimator__min_samples_leaf=1, ada__base_estimator__min_samples_split=5, ada__base_estimator__splitter=random, ada__n_estimators=100, cvec__max_features=2000 \n",
      "[CV]  ada__base_estimator__min_samples_leaf=1, ada__base_estimator__min_samples_split=5, ada__base_estimator__splitter=random, ada__n_estimators=100, cvec__max_features=2000, total=   2.3s\n",
      "[CV] ada__base_estimator__min_samples_leaf=1, ada__base_estimator__min_samples_split=5, ada__base_estimator__splitter=random, ada__n_estimators=200, cvec__max_features=None \n",
      "[CV]  ada__base_estimator__min_samples_leaf=1, ada__base_estimator__min_samples_split=5, ada__base_estimator__splitter=random, ada__n_estimators=200, cvec__max_features=None, total=  19.9s\n",
      "[CV] ada__base_estimator__min_samples_leaf=1, ada__base_estimator__min_samples_split=5, ada__base_estimator__splitter=random, ada__n_estimators=200, cvec__max_features=None \n",
      "[CV]  ada__base_estimator__min_samples_leaf=1, ada__base_estimator__min_samples_split=5, ada__base_estimator__splitter=random, ada__n_estimators=200, cvec__max_features=None, total=  28.5s\n",
      "[CV] ada__base_estimator__min_samples_leaf=1, ada__base_estimator__min_samples_split=5, ada__base_estimator__splitter=random, ada__n_estimators=200, cvec__max_features=None \n",
      "[CV]  ada__base_estimator__min_samples_leaf=1, ada__base_estimator__min_samples_split=5, ada__base_estimator__splitter=random, ada__n_estimators=200, cvec__max_features=None, total=  19.6s\n",
      "[CV] ada__base_estimator__min_samples_leaf=1, ada__base_estimator__min_samples_split=5, ada__base_estimator__splitter=random, ada__n_estimators=200, cvec__max_features=2000 \n",
      "[CV]  ada__base_estimator__min_samples_leaf=1, ada__base_estimator__min_samples_split=5, ada__base_estimator__splitter=random, ada__n_estimators=200, cvec__max_features=2000, total=   3.1s\n",
      "[CV] ada__base_estimator__min_samples_leaf=1, ada__base_estimator__min_samples_split=5, ada__base_estimator__splitter=random, ada__n_estimators=200, cvec__max_features=2000 \n"
     ]
    },
    {
     "name": "stdout",
     "output_type": "stream",
     "text": [
      "[CV]  ada__base_estimator__min_samples_leaf=1, ada__base_estimator__min_samples_split=5, ada__base_estimator__splitter=random, ada__n_estimators=200, cvec__max_features=2000, total=   3.2s\n",
      "[CV] ada__base_estimator__min_samples_leaf=1, ada__base_estimator__min_samples_split=5, ada__base_estimator__splitter=random, ada__n_estimators=200, cvec__max_features=2000 \n",
      "[CV]  ada__base_estimator__min_samples_leaf=1, ada__base_estimator__min_samples_split=5, ada__base_estimator__splitter=random, ada__n_estimators=200, cvec__max_features=2000, total=   3.4s\n",
      "[CV] ada__base_estimator__min_samples_leaf=1, ada__base_estimator__min_samples_split=10, ada__base_estimator__splitter=best, ada__n_estimators=50, cvec__max_features=None \n",
      "[CV]  ada__base_estimator__min_samples_leaf=1, ada__base_estimator__min_samples_split=10, ada__base_estimator__splitter=best, ada__n_estimators=50, cvec__max_features=None, total=  15.2s\n",
      "[CV] ada__base_estimator__min_samples_leaf=1, ada__base_estimator__min_samples_split=10, ada__base_estimator__splitter=best, ada__n_estimators=50, cvec__max_features=None \n",
      "[CV]  ada__base_estimator__min_samples_leaf=1, ada__base_estimator__min_samples_split=10, ada__base_estimator__splitter=best, ada__n_estimators=50, cvec__max_features=None, total=  23.1s\n",
      "[CV] ada__base_estimator__min_samples_leaf=1, ada__base_estimator__min_samples_split=10, ada__base_estimator__splitter=best, ada__n_estimators=50, cvec__max_features=None \n",
      "[CV]  ada__base_estimator__min_samples_leaf=1, ada__base_estimator__min_samples_split=10, ada__base_estimator__splitter=best, ada__n_estimators=50, cvec__max_features=None, total=  15.2s\n",
      "[CV] ada__base_estimator__min_samples_leaf=1, ada__base_estimator__min_samples_split=10, ada__base_estimator__splitter=best, ada__n_estimators=50, cvec__max_features=2000 \n",
      "[CV]  ada__base_estimator__min_samples_leaf=1, ada__base_estimator__min_samples_split=10, ada__base_estimator__splitter=best, ada__n_estimators=50, cvec__max_features=2000, total=   2.2s\n",
      "[CV] ada__base_estimator__min_samples_leaf=1, ada__base_estimator__min_samples_split=10, ada__base_estimator__splitter=best, ada__n_estimators=50, cvec__max_features=2000 \n",
      "[CV]  ada__base_estimator__min_samples_leaf=1, ada__base_estimator__min_samples_split=10, ada__base_estimator__splitter=best, ada__n_estimators=50, cvec__max_features=2000, total=   2.1s\n",
      "[CV] ada__base_estimator__min_samples_leaf=1, ada__base_estimator__min_samples_split=10, ada__base_estimator__splitter=best, ada__n_estimators=50, cvec__max_features=2000 \n",
      "[CV]  ada__base_estimator__min_samples_leaf=1, ada__base_estimator__min_samples_split=10, ada__base_estimator__splitter=best, ada__n_estimators=50, cvec__max_features=2000, total=   2.1s\n",
      "[CV] ada__base_estimator__min_samples_leaf=1, ada__base_estimator__min_samples_split=10, ada__base_estimator__splitter=best, ada__n_estimators=100, cvec__max_features=None \n",
      "[CV]  ada__base_estimator__min_samples_leaf=1, ada__base_estimator__min_samples_split=10, ada__base_estimator__splitter=best, ada__n_estimators=100, cvec__max_features=None, total=  15.9s\n",
      "[CV] ada__base_estimator__min_samples_leaf=1, ada__base_estimator__min_samples_split=10, ada__base_estimator__splitter=best, ada__n_estimators=100, cvec__max_features=None \n",
      "[CV]  ada__base_estimator__min_samples_leaf=1, ada__base_estimator__min_samples_split=10, ada__base_estimator__splitter=best, ada__n_estimators=100, cvec__max_features=None, total=  25.0s\n",
      "[CV] ada__base_estimator__min_samples_leaf=1, ada__base_estimator__min_samples_split=10, ada__base_estimator__splitter=best, ada__n_estimators=100, cvec__max_features=None \n",
      "[CV]  ada__base_estimator__min_samples_leaf=1, ada__base_estimator__min_samples_split=10, ada__base_estimator__splitter=best, ada__n_estimators=100, cvec__max_features=None, total=  17.6s\n",
      "[CV] ada__base_estimator__min_samples_leaf=1, ada__base_estimator__min_samples_split=10, ada__base_estimator__splitter=best, ada__n_estimators=100, cvec__max_features=2000 \n",
      "[CV]  ada__base_estimator__min_samples_leaf=1, ada__base_estimator__min_samples_split=10, ada__base_estimator__splitter=best, ada__n_estimators=100, cvec__max_features=2000, total=   2.9s\n",
      "[CV] ada__base_estimator__min_samples_leaf=1, ada__base_estimator__min_samples_split=10, ada__base_estimator__splitter=best, ada__n_estimators=100, cvec__max_features=2000 \n",
      "[CV]  ada__base_estimator__min_samples_leaf=1, ada__base_estimator__min_samples_split=10, ada__base_estimator__splitter=best, ada__n_estimators=100, cvec__max_features=2000, total=   2.7s\n",
      "[CV] ada__base_estimator__min_samples_leaf=1, ada__base_estimator__min_samples_split=10, ada__base_estimator__splitter=best, ada__n_estimators=100, cvec__max_features=2000 \n",
      "[CV]  ada__base_estimator__min_samples_leaf=1, ada__base_estimator__min_samples_split=10, ada__base_estimator__splitter=best, ada__n_estimators=100, cvec__max_features=2000, total=   2.6s\n",
      "[CV] ada__base_estimator__min_samples_leaf=1, ada__base_estimator__min_samples_split=10, ada__base_estimator__splitter=best, ada__n_estimators=200, cvec__max_features=None \n",
      "[CV]  ada__base_estimator__min_samples_leaf=1, ada__base_estimator__min_samples_split=10, ada__base_estimator__splitter=best, ada__n_estimators=200, cvec__max_features=None, total=  19.9s\n",
      "[CV] ada__base_estimator__min_samples_leaf=1, ada__base_estimator__min_samples_split=10, ada__base_estimator__splitter=best, ada__n_estimators=200, cvec__max_features=None \n",
      "[CV]  ada__base_estimator__min_samples_leaf=1, ada__base_estimator__min_samples_split=10, ada__base_estimator__splitter=best, ada__n_estimators=200, cvec__max_features=None, total=  25.5s\n",
      "[CV] ada__base_estimator__min_samples_leaf=1, ada__base_estimator__min_samples_split=10, ada__base_estimator__splitter=best, ada__n_estimators=200, cvec__max_features=None \n",
      "[CV]  ada__base_estimator__min_samples_leaf=1, ada__base_estimator__min_samples_split=10, ada__base_estimator__splitter=best, ada__n_estimators=200, cvec__max_features=None, total=  19.3s\n",
      "[CV] ada__base_estimator__min_samples_leaf=1, ada__base_estimator__min_samples_split=10, ada__base_estimator__splitter=best, ada__n_estimators=200, cvec__max_features=2000 \n",
      "[CV]  ada__base_estimator__min_samples_leaf=1, ada__base_estimator__min_samples_split=10, ada__base_estimator__splitter=best, ada__n_estimators=200, cvec__max_features=2000, total=   3.7s\n",
      "[CV] ada__base_estimator__min_samples_leaf=1, ada__base_estimator__min_samples_split=10, ada__base_estimator__splitter=best, ada__n_estimators=200, cvec__max_features=2000 \n",
      "[CV]  ada__base_estimator__min_samples_leaf=1, ada__base_estimator__min_samples_split=10, ada__base_estimator__splitter=best, ada__n_estimators=200, cvec__max_features=2000, total=   3.4s\n",
      "[CV] ada__base_estimator__min_samples_leaf=1, ada__base_estimator__min_samples_split=10, ada__base_estimator__splitter=best, ada__n_estimators=200, cvec__max_features=2000 \n",
      "[CV]  ada__base_estimator__min_samples_leaf=1, ada__base_estimator__min_samples_split=10, ada__base_estimator__splitter=best, ada__n_estimators=200, cvec__max_features=2000, total=   3.3s\n",
      "[CV] ada__base_estimator__min_samples_leaf=1, ada__base_estimator__min_samples_split=10, ada__base_estimator__splitter=random, ada__n_estimators=50, cvec__max_features=None \n",
      "[CV]  ada__base_estimator__min_samples_leaf=1, ada__base_estimator__min_samples_split=10, ada__base_estimator__splitter=random, ada__n_estimators=50, cvec__max_features=None, total=  15.5s\n",
      "[CV] ada__base_estimator__min_samples_leaf=1, ada__base_estimator__min_samples_split=10, ada__base_estimator__splitter=random, ada__n_estimators=50, cvec__max_features=None \n",
      "[CV]  ada__base_estimator__min_samples_leaf=1, ada__base_estimator__min_samples_split=10, ada__base_estimator__splitter=random, ada__n_estimators=50, cvec__max_features=None, total=  22.3s\n",
      "[CV] ada__base_estimator__min_samples_leaf=1, ada__base_estimator__min_samples_split=10, ada__base_estimator__splitter=random, ada__n_estimators=50, cvec__max_features=None \n",
      "[CV]  ada__base_estimator__min_samples_leaf=1, ada__base_estimator__min_samples_split=10, ada__base_estimator__splitter=random, ada__n_estimators=50, cvec__max_features=None, total=  17.0s\n",
      "[CV] ada__base_estimator__min_samples_leaf=1, ada__base_estimator__min_samples_split=10, ada__base_estimator__splitter=random, ada__n_estimators=50, cvec__max_features=2000 \n"
     ]
    },
    {
     "name": "stdout",
     "output_type": "stream",
     "text": [
      "[CV]  ada__base_estimator__min_samples_leaf=1, ada__base_estimator__min_samples_split=10, ada__base_estimator__splitter=random, ada__n_estimators=50, cvec__max_features=2000, total=   2.1s\n",
      "[CV] ada__base_estimator__min_samples_leaf=1, ada__base_estimator__min_samples_split=10, ada__base_estimator__splitter=random, ada__n_estimators=50, cvec__max_features=2000 \n",
      "[CV]  ada__base_estimator__min_samples_leaf=1, ada__base_estimator__min_samples_split=10, ada__base_estimator__splitter=random, ada__n_estimators=50, cvec__max_features=2000, total=   2.0s\n",
      "[CV] ada__base_estimator__min_samples_leaf=1, ada__base_estimator__min_samples_split=10, ada__base_estimator__splitter=random, ada__n_estimators=50, cvec__max_features=2000 \n",
      "[CV]  ada__base_estimator__min_samples_leaf=1, ada__base_estimator__min_samples_split=10, ada__base_estimator__splitter=random, ada__n_estimators=50, cvec__max_features=2000, total=   2.0s\n",
      "[CV] ada__base_estimator__min_samples_leaf=1, ada__base_estimator__min_samples_split=10, ada__base_estimator__splitter=random, ada__n_estimators=100, cvec__max_features=None \n",
      "[CV]  ada__base_estimator__min_samples_leaf=1, ada__base_estimator__min_samples_split=10, ada__base_estimator__splitter=random, ada__n_estimators=100, cvec__max_features=None, total=  18.5s\n",
      "[CV] ada__base_estimator__min_samples_leaf=1, ada__base_estimator__min_samples_split=10, ada__base_estimator__splitter=random, ada__n_estimators=100, cvec__max_features=None \n",
      "[CV]  ada__base_estimator__min_samples_leaf=1, ada__base_estimator__min_samples_split=10, ada__base_estimator__splitter=random, ada__n_estimators=100, cvec__max_features=None, total=  26.6s\n",
      "[CV] ada__base_estimator__min_samples_leaf=1, ada__base_estimator__min_samples_split=10, ada__base_estimator__splitter=random, ada__n_estimators=100, cvec__max_features=None \n",
      "[CV]  ada__base_estimator__min_samples_leaf=1, ada__base_estimator__min_samples_split=10, ada__base_estimator__splitter=random, ada__n_estimators=100, cvec__max_features=None, total=  16.7s\n",
      "[CV] ada__base_estimator__min_samples_leaf=1, ada__base_estimator__min_samples_split=10, ada__base_estimator__splitter=random, ada__n_estimators=100, cvec__max_features=2000 \n",
      "[CV]  ada__base_estimator__min_samples_leaf=1, ada__base_estimator__min_samples_split=10, ada__base_estimator__splitter=random, ada__n_estimators=100, cvec__max_features=2000, total=   2.5s\n",
      "[CV] ada__base_estimator__min_samples_leaf=1, ada__base_estimator__min_samples_split=10, ada__base_estimator__splitter=random, ada__n_estimators=100, cvec__max_features=2000 \n",
      "[CV]  ada__base_estimator__min_samples_leaf=1, ada__base_estimator__min_samples_split=10, ada__base_estimator__splitter=random, ada__n_estimators=100, cvec__max_features=2000, total=   2.4s\n",
      "[CV] ada__base_estimator__min_samples_leaf=1, ada__base_estimator__min_samples_split=10, ada__base_estimator__splitter=random, ada__n_estimators=100, cvec__max_features=2000 \n",
      "[CV]  ada__base_estimator__min_samples_leaf=1, ada__base_estimator__min_samples_split=10, ada__base_estimator__splitter=random, ada__n_estimators=100, cvec__max_features=2000, total=   2.3s\n",
      "[CV] ada__base_estimator__min_samples_leaf=1, ada__base_estimator__min_samples_split=10, ada__base_estimator__splitter=random, ada__n_estimators=200, cvec__max_features=None \n",
      "[CV]  ada__base_estimator__min_samples_leaf=1, ada__base_estimator__min_samples_split=10, ada__base_estimator__splitter=random, ada__n_estimators=200, cvec__max_features=None, total=  21.9s\n",
      "[CV] ada__base_estimator__min_samples_leaf=1, ada__base_estimator__min_samples_split=10, ada__base_estimator__splitter=random, ada__n_estimators=200, cvec__max_features=None \n",
      "[CV]  ada__base_estimator__min_samples_leaf=1, ada__base_estimator__min_samples_split=10, ada__base_estimator__splitter=random, ada__n_estimators=200, cvec__max_features=None, total=  28.6s\n",
      "[CV] ada__base_estimator__min_samples_leaf=1, ada__base_estimator__min_samples_split=10, ada__base_estimator__splitter=random, ada__n_estimators=200, cvec__max_features=None \n",
      "[CV]  ada__base_estimator__min_samples_leaf=1, ada__base_estimator__min_samples_split=10, ada__base_estimator__splitter=random, ada__n_estimators=200, cvec__max_features=None, total=  20.0s\n",
      "[CV] ada__base_estimator__min_samples_leaf=1, ada__base_estimator__min_samples_split=10, ada__base_estimator__splitter=random, ada__n_estimators=200, cvec__max_features=2000 \n",
      "[CV]  ada__base_estimator__min_samples_leaf=1, ada__base_estimator__min_samples_split=10, ada__base_estimator__splitter=random, ada__n_estimators=200, cvec__max_features=2000, total=   3.4s\n",
      "[CV] ada__base_estimator__min_samples_leaf=1, ada__base_estimator__min_samples_split=10, ada__base_estimator__splitter=random, ada__n_estimators=200, cvec__max_features=2000 \n",
      "[CV]  ada__base_estimator__min_samples_leaf=1, ada__base_estimator__min_samples_split=10, ada__base_estimator__splitter=random, ada__n_estimators=200, cvec__max_features=2000, total=   3.0s\n",
      "[CV] ada__base_estimator__min_samples_leaf=1, ada__base_estimator__min_samples_split=10, ada__base_estimator__splitter=random, ada__n_estimators=200, cvec__max_features=2000 \n",
      "[CV]  ada__base_estimator__min_samples_leaf=1, ada__base_estimator__min_samples_split=10, ada__base_estimator__splitter=random, ada__n_estimators=200, cvec__max_features=2000, total=   3.0s\n",
      "[CV] ada__base_estimator__min_samples_leaf=3, ada__base_estimator__min_samples_split=2, ada__base_estimator__splitter=best, ada__n_estimators=50, cvec__max_features=None \n",
      "[CV]  ada__base_estimator__min_samples_leaf=3, ada__base_estimator__min_samples_split=2, ada__base_estimator__splitter=best, ada__n_estimators=50, cvec__max_features=None, total=  18.8s\n",
      "[CV] ada__base_estimator__min_samples_leaf=3, ada__base_estimator__min_samples_split=2, ada__base_estimator__splitter=best, ada__n_estimators=50, cvec__max_features=None \n",
      "[CV]  ada__base_estimator__min_samples_leaf=3, ada__base_estimator__min_samples_split=2, ada__base_estimator__splitter=best, ada__n_estimators=50, cvec__max_features=None, total=  19.7s\n",
      "[CV] ada__base_estimator__min_samples_leaf=3, ada__base_estimator__min_samples_split=2, ada__base_estimator__splitter=best, ada__n_estimators=50, cvec__max_features=None \n",
      "[CV]  ada__base_estimator__min_samples_leaf=3, ada__base_estimator__min_samples_split=2, ada__base_estimator__splitter=best, ada__n_estimators=50, cvec__max_features=None, total=  19.4s\n",
      "[CV] ada__base_estimator__min_samples_leaf=3, ada__base_estimator__min_samples_split=2, ada__base_estimator__splitter=best, ada__n_estimators=50, cvec__max_features=2000 \n",
      "[CV]  ada__base_estimator__min_samples_leaf=3, ada__base_estimator__min_samples_split=2, ada__base_estimator__splitter=best, ada__n_estimators=50, cvec__max_features=2000, total=   2.9s\n",
      "[CV] ada__base_estimator__min_samples_leaf=3, ada__base_estimator__min_samples_split=2, ada__base_estimator__splitter=best, ada__n_estimators=50, cvec__max_features=2000 \n",
      "[CV]  ada__base_estimator__min_samples_leaf=3, ada__base_estimator__min_samples_split=2, ada__base_estimator__splitter=best, ada__n_estimators=50, cvec__max_features=2000, total=   3.1s\n",
      "[CV] ada__base_estimator__min_samples_leaf=3, ada__base_estimator__min_samples_split=2, ada__base_estimator__splitter=best, ada__n_estimators=50, cvec__max_features=2000 \n",
      "[CV]  ada__base_estimator__min_samples_leaf=3, ada__base_estimator__min_samples_split=2, ada__base_estimator__splitter=best, ada__n_estimators=50, cvec__max_features=2000, total=   2.8s\n",
      "[CV] ada__base_estimator__min_samples_leaf=3, ada__base_estimator__min_samples_split=2, ada__base_estimator__splitter=best, ada__n_estimators=100, cvec__max_features=None \n",
      "[CV]  ada__base_estimator__min_samples_leaf=3, ada__base_estimator__min_samples_split=2, ada__base_estimator__splitter=best, ada__n_estimators=100, cvec__max_features=None, total=  20.3s\n",
      "[CV] ada__base_estimator__min_samples_leaf=3, ada__base_estimator__min_samples_split=2, ada__base_estimator__splitter=best, ada__n_estimators=100, cvec__max_features=None \n",
      "[CV]  ada__base_estimator__min_samples_leaf=3, ada__base_estimator__min_samples_split=2, ada__base_estimator__splitter=best, ada__n_estimators=100, cvec__max_features=None, total=  21.8s\n",
      "[CV] ada__base_estimator__min_samples_leaf=3, ada__base_estimator__min_samples_split=2, ada__base_estimator__splitter=best, ada__n_estimators=100, cvec__max_features=None \n"
     ]
    },
    {
     "name": "stdout",
     "output_type": "stream",
     "text": [
      "[CV]  ada__base_estimator__min_samples_leaf=3, ada__base_estimator__min_samples_split=2, ada__base_estimator__splitter=best, ada__n_estimators=100, cvec__max_features=None, total=  21.9s\n",
      "[CV] ada__base_estimator__min_samples_leaf=3, ada__base_estimator__min_samples_split=2, ada__base_estimator__splitter=best, ada__n_estimators=100, cvec__max_features=2000 \n",
      "[CV]  ada__base_estimator__min_samples_leaf=3, ada__base_estimator__min_samples_split=2, ada__base_estimator__splitter=best, ada__n_estimators=100, cvec__max_features=2000, total=   3.3s\n",
      "[CV] ada__base_estimator__min_samples_leaf=3, ada__base_estimator__min_samples_split=2, ada__base_estimator__splitter=best, ada__n_estimators=100, cvec__max_features=2000 \n",
      "[CV]  ada__base_estimator__min_samples_leaf=3, ada__base_estimator__min_samples_split=2, ada__base_estimator__splitter=best, ada__n_estimators=100, cvec__max_features=2000, total=   3.4s\n",
      "[CV] ada__base_estimator__min_samples_leaf=3, ada__base_estimator__min_samples_split=2, ada__base_estimator__splitter=best, ada__n_estimators=100, cvec__max_features=2000 \n",
      "[CV]  ada__base_estimator__min_samples_leaf=3, ada__base_estimator__min_samples_split=2, ada__base_estimator__splitter=best, ada__n_estimators=100, cvec__max_features=2000, total=   3.1s\n",
      "[CV] ada__base_estimator__min_samples_leaf=3, ada__base_estimator__min_samples_split=2, ada__base_estimator__splitter=best, ada__n_estimators=200, cvec__max_features=None \n",
      "[CV]  ada__base_estimator__min_samples_leaf=3, ada__base_estimator__min_samples_split=2, ada__base_estimator__splitter=best, ada__n_estimators=200, cvec__max_features=None, total=  22.9s\n",
      "[CV] ada__base_estimator__min_samples_leaf=3, ada__base_estimator__min_samples_split=2, ada__base_estimator__splitter=best, ada__n_estimators=200, cvec__max_features=None \n",
      "[CV]  ada__base_estimator__min_samples_leaf=3, ada__base_estimator__min_samples_split=2, ada__base_estimator__splitter=best, ada__n_estimators=200, cvec__max_features=None, total=  27.2s\n",
      "[CV] ada__base_estimator__min_samples_leaf=3, ada__base_estimator__min_samples_split=2, ada__base_estimator__splitter=best, ada__n_estimators=200, cvec__max_features=None \n",
      "[CV]  ada__base_estimator__min_samples_leaf=3, ada__base_estimator__min_samples_split=2, ada__base_estimator__splitter=best, ada__n_estimators=200, cvec__max_features=None, total=  28.6s\n",
      "[CV] ada__base_estimator__min_samples_leaf=3, ada__base_estimator__min_samples_split=2, ada__base_estimator__splitter=best, ada__n_estimators=200, cvec__max_features=2000 \n",
      "[CV]  ada__base_estimator__min_samples_leaf=3, ada__base_estimator__min_samples_split=2, ada__base_estimator__splitter=best, ada__n_estimators=200, cvec__max_features=2000, total=   4.5s\n",
      "[CV] ada__base_estimator__min_samples_leaf=3, ada__base_estimator__min_samples_split=2, ada__base_estimator__splitter=best, ada__n_estimators=200, cvec__max_features=2000 \n",
      "[CV]  ada__base_estimator__min_samples_leaf=3, ada__base_estimator__min_samples_split=2, ada__base_estimator__splitter=best, ada__n_estimators=200, cvec__max_features=2000, total=   4.7s\n",
      "[CV] ada__base_estimator__min_samples_leaf=3, ada__base_estimator__min_samples_split=2, ada__base_estimator__splitter=best, ada__n_estimators=200, cvec__max_features=2000 \n",
      "[CV]  ada__base_estimator__min_samples_leaf=3, ada__base_estimator__min_samples_split=2, ada__base_estimator__splitter=best, ada__n_estimators=200, cvec__max_features=2000, total=   4.5s\n",
      "[CV] ada__base_estimator__min_samples_leaf=3, ada__base_estimator__min_samples_split=2, ada__base_estimator__splitter=random, ada__n_estimators=50, cvec__max_features=None \n",
      "[CV]  ada__base_estimator__min_samples_leaf=3, ada__base_estimator__min_samples_split=2, ada__base_estimator__splitter=random, ada__n_estimators=50, cvec__max_features=None, total=  19.2s\n",
      "[CV] ada__base_estimator__min_samples_leaf=3, ada__base_estimator__min_samples_split=2, ada__base_estimator__splitter=random, ada__n_estimators=50, cvec__max_features=None \n",
      "[CV]  ada__base_estimator__min_samples_leaf=3, ada__base_estimator__min_samples_split=2, ada__base_estimator__splitter=random, ada__n_estimators=50, cvec__max_features=None, total=  19.1s\n",
      "[CV] ada__base_estimator__min_samples_leaf=3, ada__base_estimator__min_samples_split=2, ada__base_estimator__splitter=random, ada__n_estimators=50, cvec__max_features=None \n",
      "[CV]  ada__base_estimator__min_samples_leaf=3, ada__base_estimator__min_samples_split=2, ada__base_estimator__splitter=random, ada__n_estimators=50, cvec__max_features=None, total=  19.6s\n",
      "[CV] ada__base_estimator__min_samples_leaf=3, ada__base_estimator__min_samples_split=2, ada__base_estimator__splitter=random, ada__n_estimators=50, cvec__max_features=2000 \n",
      "[CV]  ada__base_estimator__min_samples_leaf=3, ada__base_estimator__min_samples_split=2, ada__base_estimator__splitter=random, ada__n_estimators=50, cvec__max_features=2000, total=   2.7s\n",
      "[CV] ada__base_estimator__min_samples_leaf=3, ada__base_estimator__min_samples_split=2, ada__base_estimator__splitter=random, ada__n_estimators=50, cvec__max_features=2000 \n",
      "[CV]  ada__base_estimator__min_samples_leaf=3, ada__base_estimator__min_samples_split=2, ada__base_estimator__splitter=random, ada__n_estimators=50, cvec__max_features=2000, total=   2.7s\n",
      "[CV] ada__base_estimator__min_samples_leaf=3, ada__base_estimator__min_samples_split=2, ada__base_estimator__splitter=random, ada__n_estimators=50, cvec__max_features=2000 \n",
      "[CV]  ada__base_estimator__min_samples_leaf=3, ada__base_estimator__min_samples_split=2, ada__base_estimator__splitter=random, ada__n_estimators=50, cvec__max_features=2000, total=   2.6s\n",
      "[CV] ada__base_estimator__min_samples_leaf=3, ada__base_estimator__min_samples_split=2, ada__base_estimator__splitter=random, ada__n_estimators=100, cvec__max_features=None \n",
      "[CV]  ada__base_estimator__min_samples_leaf=3, ada__base_estimator__min_samples_split=2, ada__base_estimator__splitter=random, ada__n_estimators=100, cvec__max_features=None, total=  19.3s\n",
      "[CV] ada__base_estimator__min_samples_leaf=3, ada__base_estimator__min_samples_split=2, ada__base_estimator__splitter=random, ada__n_estimators=100, cvec__max_features=None \n",
      "[CV]  ada__base_estimator__min_samples_leaf=3, ada__base_estimator__min_samples_split=2, ada__base_estimator__splitter=random, ada__n_estimators=100, cvec__max_features=None, total=  20.3s\n",
      "[CV] ada__base_estimator__min_samples_leaf=3, ada__base_estimator__min_samples_split=2, ada__base_estimator__splitter=random, ada__n_estimators=100, cvec__max_features=None \n",
      "[CV]  ada__base_estimator__min_samples_leaf=3, ada__base_estimator__min_samples_split=2, ada__base_estimator__splitter=random, ada__n_estimators=100, cvec__max_features=None, total=  21.6s\n",
      "[CV] ada__base_estimator__min_samples_leaf=3, ada__base_estimator__min_samples_split=2, ada__base_estimator__splitter=random, ada__n_estimators=100, cvec__max_features=2000 \n",
      "[CV]  ada__base_estimator__min_samples_leaf=3, ada__base_estimator__min_samples_split=2, ada__base_estimator__splitter=random, ada__n_estimators=100, cvec__max_features=2000, total=   3.1s\n",
      "[CV] ada__base_estimator__min_samples_leaf=3, ada__base_estimator__min_samples_split=2, ada__base_estimator__splitter=random, ada__n_estimators=100, cvec__max_features=2000 \n",
      "[CV]  ada__base_estimator__min_samples_leaf=3, ada__base_estimator__min_samples_split=2, ada__base_estimator__splitter=random, ada__n_estimators=100, cvec__max_features=2000, total=   3.2s\n",
      "[CV] ada__base_estimator__min_samples_leaf=3, ada__base_estimator__min_samples_split=2, ada__base_estimator__splitter=random, ada__n_estimators=100, cvec__max_features=2000 \n",
      "[CV]  ada__base_estimator__min_samples_leaf=3, ada__base_estimator__min_samples_split=2, ada__base_estimator__splitter=random, ada__n_estimators=100, cvec__max_features=2000, total=   3.1s\n",
      "[CV] ada__base_estimator__min_samples_leaf=3, ada__base_estimator__min_samples_split=2, ada__base_estimator__splitter=random, ada__n_estimators=200, cvec__max_features=None \n",
      "[CV]  ada__base_estimator__min_samples_leaf=3, ada__base_estimator__min_samples_split=2, ada__base_estimator__splitter=random, ada__n_estimators=200, cvec__max_features=None, total=  22.6s\n",
      "[CV] ada__base_estimator__min_samples_leaf=3, ada__base_estimator__min_samples_split=2, ada__base_estimator__splitter=random, ada__n_estimators=200, cvec__max_features=None \n"
     ]
    },
    {
     "name": "stdout",
     "output_type": "stream",
     "text": [
      "[CV]  ada__base_estimator__min_samples_leaf=3, ada__base_estimator__min_samples_split=2, ada__base_estimator__splitter=random, ada__n_estimators=200, cvec__max_features=None, total=  25.0s\n",
      "[CV] ada__base_estimator__min_samples_leaf=3, ada__base_estimator__min_samples_split=2, ada__base_estimator__splitter=random, ada__n_estimators=200, cvec__max_features=None \n",
      "[CV]  ada__base_estimator__min_samples_leaf=3, ada__base_estimator__min_samples_split=2, ada__base_estimator__splitter=random, ada__n_estimators=200, cvec__max_features=None, total=  27.1s\n",
      "[CV] ada__base_estimator__min_samples_leaf=3, ada__base_estimator__min_samples_split=2, ada__base_estimator__splitter=random, ada__n_estimators=200, cvec__max_features=2000 \n",
      "[CV]  ada__base_estimator__min_samples_leaf=3, ada__base_estimator__min_samples_split=2, ada__base_estimator__splitter=random, ada__n_estimators=200, cvec__max_features=2000, total=   4.0s\n",
      "[CV] ada__base_estimator__min_samples_leaf=3, ada__base_estimator__min_samples_split=2, ada__base_estimator__splitter=random, ada__n_estimators=200, cvec__max_features=2000 \n",
      "[CV]  ada__base_estimator__min_samples_leaf=3, ada__base_estimator__min_samples_split=2, ada__base_estimator__splitter=random, ada__n_estimators=200, cvec__max_features=2000, total=   4.1s\n",
      "[CV] ada__base_estimator__min_samples_leaf=3, ada__base_estimator__min_samples_split=2, ada__base_estimator__splitter=random, ada__n_estimators=200, cvec__max_features=2000 \n",
      "[CV]  ada__base_estimator__min_samples_leaf=3, ada__base_estimator__min_samples_split=2, ada__base_estimator__splitter=random, ada__n_estimators=200, cvec__max_features=2000, total=   3.9s\n",
      "[CV] ada__base_estimator__min_samples_leaf=3, ada__base_estimator__min_samples_split=5, ada__base_estimator__splitter=best, ada__n_estimators=50, cvec__max_features=None \n",
      "[CV]  ada__base_estimator__min_samples_leaf=3, ada__base_estimator__min_samples_split=5, ada__base_estimator__splitter=best, ada__n_estimators=50, cvec__max_features=None, total=  20.8s\n",
      "[CV] ada__base_estimator__min_samples_leaf=3, ada__base_estimator__min_samples_split=5, ada__base_estimator__splitter=best, ada__n_estimators=50, cvec__max_features=None \n",
      "[CV]  ada__base_estimator__min_samples_leaf=3, ada__base_estimator__min_samples_split=5, ada__base_estimator__splitter=best, ada__n_estimators=50, cvec__max_features=None, total=  21.5s\n",
      "[CV] ada__base_estimator__min_samples_leaf=3, ada__base_estimator__min_samples_split=5, ada__base_estimator__splitter=best, ada__n_estimators=50, cvec__max_features=None \n",
      "[CV]  ada__base_estimator__min_samples_leaf=3, ada__base_estimator__min_samples_split=5, ada__base_estimator__splitter=best, ada__n_estimators=50, cvec__max_features=None, total=  21.9s\n",
      "[CV] ada__base_estimator__min_samples_leaf=3, ada__base_estimator__min_samples_split=5, ada__base_estimator__splitter=best, ada__n_estimators=50, cvec__max_features=2000 \n",
      "[CV]  ada__base_estimator__min_samples_leaf=3, ada__base_estimator__min_samples_split=5, ada__base_estimator__splitter=best, ada__n_estimators=50, cvec__max_features=2000, total=   3.0s\n",
      "[CV] ada__base_estimator__min_samples_leaf=3, ada__base_estimator__min_samples_split=5, ada__base_estimator__splitter=best, ada__n_estimators=50, cvec__max_features=2000 \n",
      "[CV]  ada__base_estimator__min_samples_leaf=3, ada__base_estimator__min_samples_split=5, ada__base_estimator__splitter=best, ada__n_estimators=50, cvec__max_features=2000, total=   3.1s\n",
      "[CV] ada__base_estimator__min_samples_leaf=3, ada__base_estimator__min_samples_split=5, ada__base_estimator__splitter=best, ada__n_estimators=50, cvec__max_features=2000 \n",
      "[CV]  ada__base_estimator__min_samples_leaf=3, ada__base_estimator__min_samples_split=5, ada__base_estimator__splitter=best, ada__n_estimators=50, cvec__max_features=2000, total=   2.9s\n",
      "[CV] ada__base_estimator__min_samples_leaf=3, ada__base_estimator__min_samples_split=5, ada__base_estimator__splitter=best, ada__n_estimators=100, cvec__max_features=None \n",
      "[CV]  ada__base_estimator__min_samples_leaf=3, ada__base_estimator__min_samples_split=5, ada__base_estimator__splitter=best, ada__n_estimators=100, cvec__max_features=None, total=  22.5s\n",
      "[CV] ada__base_estimator__min_samples_leaf=3, ada__base_estimator__min_samples_split=5, ada__base_estimator__splitter=best, ada__n_estimators=100, cvec__max_features=None \n",
      "[CV]  ada__base_estimator__min_samples_leaf=3, ada__base_estimator__min_samples_split=5, ada__base_estimator__splitter=best, ada__n_estimators=100, cvec__max_features=None, total=  23.8s\n",
      "[CV] ada__base_estimator__min_samples_leaf=3, ada__base_estimator__min_samples_split=5, ada__base_estimator__splitter=best, ada__n_estimators=100, cvec__max_features=None \n",
      "[CV]  ada__base_estimator__min_samples_leaf=3, ada__base_estimator__min_samples_split=5, ada__base_estimator__splitter=best, ada__n_estimators=100, cvec__max_features=None, total=  23.5s\n",
      "[CV] ada__base_estimator__min_samples_leaf=3, ada__base_estimator__min_samples_split=5, ada__base_estimator__splitter=best, ada__n_estimators=100, cvec__max_features=2000 \n",
      "[CV]  ada__base_estimator__min_samples_leaf=3, ada__base_estimator__min_samples_split=5, ada__base_estimator__splitter=best, ada__n_estimators=100, cvec__max_features=2000, total=   3.5s\n",
      "[CV] ada__base_estimator__min_samples_leaf=3, ada__base_estimator__min_samples_split=5, ada__base_estimator__splitter=best, ada__n_estimators=100, cvec__max_features=2000 \n",
      "[CV]  ada__base_estimator__min_samples_leaf=3, ada__base_estimator__min_samples_split=5, ada__base_estimator__splitter=best, ada__n_estimators=100, cvec__max_features=2000, total=   3.6s\n",
      "[CV] ada__base_estimator__min_samples_leaf=3, ada__base_estimator__min_samples_split=5, ada__base_estimator__splitter=best, ada__n_estimators=100, cvec__max_features=2000 \n",
      "[CV]  ada__base_estimator__min_samples_leaf=3, ada__base_estimator__min_samples_split=5, ada__base_estimator__splitter=best, ada__n_estimators=100, cvec__max_features=2000, total=   3.3s\n",
      "[CV] ada__base_estimator__min_samples_leaf=3, ada__base_estimator__min_samples_split=5, ada__base_estimator__splitter=best, ada__n_estimators=200, cvec__max_features=None \n",
      "[CV]  ada__base_estimator__min_samples_leaf=3, ada__base_estimator__min_samples_split=5, ada__base_estimator__splitter=best, ada__n_estimators=200, cvec__max_features=None, total=  24.3s\n",
      "[CV] ada__base_estimator__min_samples_leaf=3, ada__base_estimator__min_samples_split=5, ada__base_estimator__splitter=best, ada__n_estimators=200, cvec__max_features=None \n",
      "[CV]  ada__base_estimator__min_samples_leaf=3, ada__base_estimator__min_samples_split=5, ada__base_estimator__splitter=best, ada__n_estimators=200, cvec__max_features=None, total=  27.5s\n",
      "[CV] ada__base_estimator__min_samples_leaf=3, ada__base_estimator__min_samples_split=5, ada__base_estimator__splitter=best, ada__n_estimators=200, cvec__max_features=None \n",
      "[CV]  ada__base_estimator__min_samples_leaf=3, ada__base_estimator__min_samples_split=5, ada__base_estimator__splitter=best, ada__n_estimators=200, cvec__max_features=None, total=  29.0s\n",
      "[CV] ada__base_estimator__min_samples_leaf=3, ada__base_estimator__min_samples_split=5, ada__base_estimator__splitter=best, ada__n_estimators=200, cvec__max_features=2000 \n",
      "[CV]  ada__base_estimator__min_samples_leaf=3, ada__base_estimator__min_samples_split=5, ada__base_estimator__splitter=best, ada__n_estimators=200, cvec__max_features=2000, total=   4.8s\n",
      "[CV] ada__base_estimator__min_samples_leaf=3, ada__base_estimator__min_samples_split=5, ada__base_estimator__splitter=best, ada__n_estimators=200, cvec__max_features=2000 \n",
      "[CV]  ada__base_estimator__min_samples_leaf=3, ada__base_estimator__min_samples_split=5, ada__base_estimator__splitter=best, ada__n_estimators=200, cvec__max_features=2000, total=   4.9s\n",
      "[CV] ada__base_estimator__min_samples_leaf=3, ada__base_estimator__min_samples_split=5, ada__base_estimator__splitter=best, ada__n_estimators=200, cvec__max_features=2000 \n",
      "[CV]  ada__base_estimator__min_samples_leaf=3, ada__base_estimator__min_samples_split=5, ada__base_estimator__splitter=best, ada__n_estimators=200, cvec__max_features=2000, total=   4.4s\n",
      "[CV] ada__base_estimator__min_samples_leaf=3, ada__base_estimator__min_samples_split=5, ada__base_estimator__splitter=random, ada__n_estimators=50, cvec__max_features=None \n"
     ]
    },
    {
     "name": "stdout",
     "output_type": "stream",
     "text": [
      "[CV]  ada__base_estimator__min_samples_leaf=3, ada__base_estimator__min_samples_split=5, ada__base_estimator__splitter=random, ada__n_estimators=50, cvec__max_features=None, total=  20.4s\n",
      "[CV] ada__base_estimator__min_samples_leaf=3, ada__base_estimator__min_samples_split=5, ada__base_estimator__splitter=random, ada__n_estimators=50, cvec__max_features=None \n",
      "[CV]  ada__base_estimator__min_samples_leaf=3, ada__base_estimator__min_samples_split=5, ada__base_estimator__splitter=random, ada__n_estimators=50, cvec__max_features=None, total=  21.8s\n",
      "[CV] ada__base_estimator__min_samples_leaf=3, ada__base_estimator__min_samples_split=5, ada__base_estimator__splitter=random, ada__n_estimators=50, cvec__max_features=None \n",
      "[CV]  ada__base_estimator__min_samples_leaf=3, ada__base_estimator__min_samples_split=5, ada__base_estimator__splitter=random, ada__n_estimators=50, cvec__max_features=None, total=  21.9s\n",
      "[CV] ada__base_estimator__min_samples_leaf=3, ada__base_estimator__min_samples_split=5, ada__base_estimator__splitter=random, ada__n_estimators=50, cvec__max_features=2000 \n",
      "[CV]  ada__base_estimator__min_samples_leaf=3, ada__base_estimator__min_samples_split=5, ada__base_estimator__splitter=random, ada__n_estimators=50, cvec__max_features=2000, total=   2.8s\n",
      "[CV] ada__base_estimator__min_samples_leaf=3, ada__base_estimator__min_samples_split=5, ada__base_estimator__splitter=random, ada__n_estimators=50, cvec__max_features=2000 \n",
      "[CV]  ada__base_estimator__min_samples_leaf=3, ada__base_estimator__min_samples_split=5, ada__base_estimator__splitter=random, ada__n_estimators=50, cvec__max_features=2000, total=   3.0s\n",
      "[CV] ada__base_estimator__min_samples_leaf=3, ada__base_estimator__min_samples_split=5, ada__base_estimator__splitter=random, ada__n_estimators=50, cvec__max_features=2000 \n",
      "[CV]  ada__base_estimator__min_samples_leaf=3, ada__base_estimator__min_samples_split=5, ada__base_estimator__splitter=random, ada__n_estimators=50, cvec__max_features=2000, total=   2.8s\n",
      "[CV] ada__base_estimator__min_samples_leaf=3, ada__base_estimator__min_samples_split=5, ada__base_estimator__splitter=random, ada__n_estimators=100, cvec__max_features=None \n",
      "[CV]  ada__base_estimator__min_samples_leaf=3, ada__base_estimator__min_samples_split=5, ada__base_estimator__splitter=random, ada__n_estimators=100, cvec__max_features=None, total=  22.5s\n",
      "[CV] ada__base_estimator__min_samples_leaf=3, ada__base_estimator__min_samples_split=5, ada__base_estimator__splitter=random, ada__n_estimators=100, cvec__max_features=None \n",
      "[CV]  ada__base_estimator__min_samples_leaf=3, ada__base_estimator__min_samples_split=5, ada__base_estimator__splitter=random, ada__n_estimators=100, cvec__max_features=None, total=  24.6s\n",
      "[CV] ada__base_estimator__min_samples_leaf=3, ada__base_estimator__min_samples_split=5, ada__base_estimator__splitter=random, ada__n_estimators=100, cvec__max_features=None \n",
      "[CV]  ada__base_estimator__min_samples_leaf=3, ada__base_estimator__min_samples_split=5, ada__base_estimator__splitter=random, ada__n_estimators=100, cvec__max_features=None, total=  23.7s\n",
      "[CV] ada__base_estimator__min_samples_leaf=3, ada__base_estimator__min_samples_split=5, ada__base_estimator__splitter=random, ada__n_estimators=100, cvec__max_features=2000 \n",
      "[CV]  ada__base_estimator__min_samples_leaf=3, ada__base_estimator__min_samples_split=5, ada__base_estimator__splitter=random, ada__n_estimators=100, cvec__max_features=2000, total=   3.2s\n",
      "[CV] ada__base_estimator__min_samples_leaf=3, ada__base_estimator__min_samples_split=5, ada__base_estimator__splitter=random, ada__n_estimators=100, cvec__max_features=2000 \n",
      "[CV]  ada__base_estimator__min_samples_leaf=3, ada__base_estimator__min_samples_split=5, ada__base_estimator__splitter=random, ada__n_estimators=100, cvec__max_features=2000, total=   3.4s\n",
      "[CV] ada__base_estimator__min_samples_leaf=3, ada__base_estimator__min_samples_split=5, ada__base_estimator__splitter=random, ada__n_estimators=100, cvec__max_features=2000 \n",
      "[CV]  ada__base_estimator__min_samples_leaf=3, ada__base_estimator__min_samples_split=5, ada__base_estimator__splitter=random, ada__n_estimators=100, cvec__max_features=2000, total=   3.2s\n",
      "[CV] ada__base_estimator__min_samples_leaf=3, ada__base_estimator__min_samples_split=5, ada__base_estimator__splitter=random, ada__n_estimators=200, cvec__max_features=None \n",
      "[CV]  ada__base_estimator__min_samples_leaf=3, ada__base_estimator__min_samples_split=5, ada__base_estimator__splitter=random, ada__n_estimators=200, cvec__max_features=None, total=  25.6s\n",
      "[CV] ada__base_estimator__min_samples_leaf=3, ada__base_estimator__min_samples_split=5, ada__base_estimator__splitter=random, ada__n_estimators=200, cvec__max_features=None \n",
      "[CV]  ada__base_estimator__min_samples_leaf=3, ada__base_estimator__min_samples_split=5, ada__base_estimator__splitter=random, ada__n_estimators=200, cvec__max_features=None, total=  26.8s\n",
      "[CV] ada__base_estimator__min_samples_leaf=3, ada__base_estimator__min_samples_split=5, ada__base_estimator__splitter=random, ada__n_estimators=200, cvec__max_features=None \n",
      "[CV]  ada__base_estimator__min_samples_leaf=3, ada__base_estimator__min_samples_split=5, ada__base_estimator__splitter=random, ada__n_estimators=200, cvec__max_features=None, total=  27.0s\n",
      "[CV] ada__base_estimator__min_samples_leaf=3, ada__base_estimator__min_samples_split=5, ada__base_estimator__splitter=random, ada__n_estimators=200, cvec__max_features=2000 \n",
      "[CV]  ada__base_estimator__min_samples_leaf=3, ada__base_estimator__min_samples_split=5, ada__base_estimator__splitter=random, ada__n_estimators=200, cvec__max_features=2000, total=   4.0s\n",
      "[CV] ada__base_estimator__min_samples_leaf=3, ada__base_estimator__min_samples_split=5, ada__base_estimator__splitter=random, ada__n_estimators=200, cvec__max_features=2000 \n",
      "[CV]  ada__base_estimator__min_samples_leaf=3, ada__base_estimator__min_samples_split=5, ada__base_estimator__splitter=random, ada__n_estimators=200, cvec__max_features=2000, total=   4.1s\n",
      "[CV] ada__base_estimator__min_samples_leaf=3, ada__base_estimator__min_samples_split=5, ada__base_estimator__splitter=random, ada__n_estimators=200, cvec__max_features=2000 \n",
      "[CV]  ada__base_estimator__min_samples_leaf=3, ada__base_estimator__min_samples_split=5, ada__base_estimator__splitter=random, ada__n_estimators=200, cvec__max_features=2000, total=   3.8s\n",
      "[CV] ada__base_estimator__min_samples_leaf=3, ada__base_estimator__min_samples_split=10, ada__base_estimator__splitter=best, ada__n_estimators=50, cvec__max_features=None \n",
      "[CV]  ada__base_estimator__min_samples_leaf=3, ada__base_estimator__min_samples_split=10, ada__base_estimator__splitter=best, ada__n_estimators=50, cvec__max_features=None, total=  18.0s\n",
      "[CV] ada__base_estimator__min_samples_leaf=3, ada__base_estimator__min_samples_split=10, ada__base_estimator__splitter=best, ada__n_estimators=50, cvec__max_features=None \n",
      "[CV]  ada__base_estimator__min_samples_leaf=3, ada__base_estimator__min_samples_split=10, ada__base_estimator__splitter=best, ada__n_estimators=50, cvec__max_features=None, total=  21.0s\n",
      "[CV] ada__base_estimator__min_samples_leaf=3, ada__base_estimator__min_samples_split=10, ada__base_estimator__splitter=best, ada__n_estimators=50, cvec__max_features=None \n",
      "[CV]  ada__base_estimator__min_samples_leaf=3, ada__base_estimator__min_samples_split=10, ada__base_estimator__splitter=best, ada__n_estimators=50, cvec__max_features=None, total=  21.5s\n",
      "[CV] ada__base_estimator__min_samples_leaf=3, ada__base_estimator__min_samples_split=10, ada__base_estimator__splitter=best, ada__n_estimators=50, cvec__max_features=2000 \n",
      "[CV]  ada__base_estimator__min_samples_leaf=3, ada__base_estimator__min_samples_split=10, ada__base_estimator__splitter=best, ada__n_estimators=50, cvec__max_features=2000, total=   2.8s\n",
      "[CV] ada__base_estimator__min_samples_leaf=3, ada__base_estimator__min_samples_split=10, ada__base_estimator__splitter=best, ada__n_estimators=50, cvec__max_features=2000 \n",
      "[CV]  ada__base_estimator__min_samples_leaf=3, ada__base_estimator__min_samples_split=10, ada__base_estimator__splitter=best, ada__n_estimators=50, cvec__max_features=2000, total=   3.0s\n",
      "[CV] ada__base_estimator__min_samples_leaf=3, ada__base_estimator__min_samples_split=10, ada__base_estimator__splitter=best, ada__n_estimators=50, cvec__max_features=2000 \n"
     ]
    },
    {
     "name": "stdout",
     "output_type": "stream",
     "text": [
      "[CV]  ada__base_estimator__min_samples_leaf=3, ada__base_estimator__min_samples_split=10, ada__base_estimator__splitter=best, ada__n_estimators=50, cvec__max_features=2000, total=   2.8s\n",
      "[CV] ada__base_estimator__min_samples_leaf=3, ada__base_estimator__min_samples_split=10, ada__base_estimator__splitter=best, ada__n_estimators=100, cvec__max_features=None \n",
      "[CV]  ada__base_estimator__min_samples_leaf=3, ada__base_estimator__min_samples_split=10, ada__base_estimator__splitter=best, ada__n_estimators=100, cvec__max_features=None, total=  21.4s\n",
      "[CV] ada__base_estimator__min_samples_leaf=3, ada__base_estimator__min_samples_split=10, ada__base_estimator__splitter=best, ada__n_estimators=100, cvec__max_features=None \n",
      "[CV]  ada__base_estimator__min_samples_leaf=3, ada__base_estimator__min_samples_split=10, ada__base_estimator__splitter=best, ada__n_estimators=100, cvec__max_features=None, total=  22.0s\n",
      "[CV] ada__base_estimator__min_samples_leaf=3, ada__base_estimator__min_samples_split=10, ada__base_estimator__splitter=best, ada__n_estimators=100, cvec__max_features=None \n",
      "[CV]  ada__base_estimator__min_samples_leaf=3, ada__base_estimator__min_samples_split=10, ada__base_estimator__splitter=best, ada__n_estimators=100, cvec__max_features=None, total=  23.0s\n",
      "[CV] ada__base_estimator__min_samples_leaf=3, ada__base_estimator__min_samples_split=10, ada__base_estimator__splitter=best, ada__n_estimators=100, cvec__max_features=2000 \n",
      "[CV]  ada__base_estimator__min_samples_leaf=3, ada__base_estimator__min_samples_split=10, ada__base_estimator__splitter=best, ada__n_estimators=100, cvec__max_features=2000, total=   3.4s\n",
      "[CV] ada__base_estimator__min_samples_leaf=3, ada__base_estimator__min_samples_split=10, ada__base_estimator__splitter=best, ada__n_estimators=100, cvec__max_features=2000 \n",
      "[CV]  ada__base_estimator__min_samples_leaf=3, ada__base_estimator__min_samples_split=10, ada__base_estimator__splitter=best, ada__n_estimators=100, cvec__max_features=2000, total=   3.6s\n",
      "[CV] ada__base_estimator__min_samples_leaf=3, ada__base_estimator__min_samples_split=10, ada__base_estimator__splitter=best, ada__n_estimators=100, cvec__max_features=2000 \n",
      "[CV]  ada__base_estimator__min_samples_leaf=3, ada__base_estimator__min_samples_split=10, ada__base_estimator__splitter=best, ada__n_estimators=100, cvec__max_features=2000, total=   3.3s\n",
      "[CV] ada__base_estimator__min_samples_leaf=3, ada__base_estimator__min_samples_split=10, ada__base_estimator__splitter=best, ada__n_estimators=200, cvec__max_features=None \n",
      "[CV]  ada__base_estimator__min_samples_leaf=3, ada__base_estimator__min_samples_split=10, ada__base_estimator__splitter=best, ada__n_estimators=200, cvec__max_features=None, total=  23.8s\n",
      "[CV] ada__base_estimator__min_samples_leaf=3, ada__base_estimator__min_samples_split=10, ada__base_estimator__splitter=best, ada__n_estimators=200, cvec__max_features=None \n",
      "[CV]  ada__base_estimator__min_samples_leaf=3, ada__base_estimator__min_samples_split=10, ada__base_estimator__splitter=best, ada__n_estimators=200, cvec__max_features=None, total=  26.4s\n",
      "[CV] ada__base_estimator__min_samples_leaf=3, ada__base_estimator__min_samples_split=10, ada__base_estimator__splitter=best, ada__n_estimators=200, cvec__max_features=None \n",
      "[CV]  ada__base_estimator__min_samples_leaf=3, ada__base_estimator__min_samples_split=10, ada__base_estimator__splitter=best, ada__n_estimators=200, cvec__max_features=None, total=  25.8s\n",
      "[CV] ada__base_estimator__min_samples_leaf=3, ada__base_estimator__min_samples_split=10, ada__base_estimator__splitter=best, ada__n_estimators=200, cvec__max_features=2000 \n",
      "[CV]  ada__base_estimator__min_samples_leaf=3, ada__base_estimator__min_samples_split=10, ada__base_estimator__splitter=best, ada__n_estimators=200, cvec__max_features=2000, total=   4.5s\n",
      "[CV] ada__base_estimator__min_samples_leaf=3, ada__base_estimator__min_samples_split=10, ada__base_estimator__splitter=best, ada__n_estimators=200, cvec__max_features=2000 \n",
      "[CV]  ada__base_estimator__min_samples_leaf=3, ada__base_estimator__min_samples_split=10, ada__base_estimator__splitter=best, ada__n_estimators=200, cvec__max_features=2000, total=   4.6s\n",
      "[CV] ada__base_estimator__min_samples_leaf=3, ada__base_estimator__min_samples_split=10, ada__base_estimator__splitter=best, ada__n_estimators=200, cvec__max_features=2000 \n",
      "[CV]  ada__base_estimator__min_samples_leaf=3, ada__base_estimator__min_samples_split=10, ada__base_estimator__splitter=best, ada__n_estimators=200, cvec__max_features=2000, total=   4.0s\n",
      "[CV] ada__base_estimator__min_samples_leaf=3, ada__base_estimator__min_samples_split=10, ada__base_estimator__splitter=random, ada__n_estimators=50, cvec__max_features=None \n",
      "[CV]  ada__base_estimator__min_samples_leaf=3, ada__base_estimator__min_samples_split=10, ada__base_estimator__splitter=random, ada__n_estimators=50, cvec__max_features=None, total=  17.9s\n",
      "[CV] ada__base_estimator__min_samples_leaf=3, ada__base_estimator__min_samples_split=10, ada__base_estimator__splitter=random, ada__n_estimators=50, cvec__max_features=None \n",
      "[CV]  ada__base_estimator__min_samples_leaf=3, ada__base_estimator__min_samples_split=10, ada__base_estimator__splitter=random, ada__n_estimators=50, cvec__max_features=None, total=  18.0s\n",
      "[CV] ada__base_estimator__min_samples_leaf=3, ada__base_estimator__min_samples_split=10, ada__base_estimator__splitter=random, ada__n_estimators=50, cvec__max_features=None \n",
      "[CV]  ada__base_estimator__min_samples_leaf=3, ada__base_estimator__min_samples_split=10, ada__base_estimator__splitter=random, ada__n_estimators=50, cvec__max_features=None, total=  19.3s\n",
      "[CV] ada__base_estimator__min_samples_leaf=3, ada__base_estimator__min_samples_split=10, ada__base_estimator__splitter=random, ada__n_estimators=50, cvec__max_features=2000 \n",
      "[CV]  ada__base_estimator__min_samples_leaf=3, ada__base_estimator__min_samples_split=10, ada__base_estimator__splitter=random, ada__n_estimators=50, cvec__max_features=2000, total=   2.6s\n",
      "[CV] ada__base_estimator__min_samples_leaf=3, ada__base_estimator__min_samples_split=10, ada__base_estimator__splitter=random, ada__n_estimators=50, cvec__max_features=2000 \n",
      "[CV]  ada__base_estimator__min_samples_leaf=3, ada__base_estimator__min_samples_split=10, ada__base_estimator__splitter=random, ada__n_estimators=50, cvec__max_features=2000, total=   2.8s\n",
      "[CV] ada__base_estimator__min_samples_leaf=3, ada__base_estimator__min_samples_split=10, ada__base_estimator__splitter=random, ada__n_estimators=50, cvec__max_features=2000 \n",
      "[CV]  ada__base_estimator__min_samples_leaf=3, ada__base_estimator__min_samples_split=10, ada__base_estimator__splitter=random, ada__n_estimators=50, cvec__max_features=2000, total=   2.7s\n",
      "[CV] ada__base_estimator__min_samples_leaf=3, ada__base_estimator__min_samples_split=10, ada__base_estimator__splitter=random, ada__n_estimators=100, cvec__max_features=None \n",
      "[CV]  ada__base_estimator__min_samples_leaf=3, ada__base_estimator__min_samples_split=10, ada__base_estimator__splitter=random, ada__n_estimators=100, cvec__max_features=None, total=  19.3s\n",
      "[CV] ada__base_estimator__min_samples_leaf=3, ada__base_estimator__min_samples_split=10, ada__base_estimator__splitter=random, ada__n_estimators=100, cvec__max_features=None \n",
      "[CV]  ada__base_estimator__min_samples_leaf=3, ada__base_estimator__min_samples_split=10, ada__base_estimator__splitter=random, ada__n_estimators=100, cvec__max_features=None, total=  20.9s\n",
      "[CV] ada__base_estimator__min_samples_leaf=3, ada__base_estimator__min_samples_split=10, ada__base_estimator__splitter=random, ada__n_estimators=100, cvec__max_features=None \n",
      "[CV]  ada__base_estimator__min_samples_leaf=3, ada__base_estimator__min_samples_split=10, ada__base_estimator__splitter=random, ada__n_estimators=100, cvec__max_features=None, total=  22.7s\n",
      "[CV] ada__base_estimator__min_samples_leaf=3, ada__base_estimator__min_samples_split=10, ada__base_estimator__splitter=random, ada__n_estimators=100, cvec__max_features=2000 \n",
      "[CV]  ada__base_estimator__min_samples_leaf=3, ada__base_estimator__min_samples_split=10, ada__base_estimator__splitter=random, ada__n_estimators=100, cvec__max_features=2000, total=   3.1s\n",
      "[CV] ada__base_estimator__min_samples_leaf=3, ada__base_estimator__min_samples_split=10, ada__base_estimator__splitter=random, ada__n_estimators=100, cvec__max_features=2000 \n"
     ]
    },
    {
     "name": "stdout",
     "output_type": "stream",
     "text": [
      "[CV]  ada__base_estimator__min_samples_leaf=3, ada__base_estimator__min_samples_split=10, ada__base_estimator__splitter=random, ada__n_estimators=100, cvec__max_features=2000, total=   3.3s\n",
      "[CV] ada__base_estimator__min_samples_leaf=3, ada__base_estimator__min_samples_split=10, ada__base_estimator__splitter=random, ada__n_estimators=100, cvec__max_features=2000 \n",
      "[CV]  ada__base_estimator__min_samples_leaf=3, ada__base_estimator__min_samples_split=10, ada__base_estimator__splitter=random, ada__n_estimators=100, cvec__max_features=2000, total=   3.0s\n",
      "[CV] ada__base_estimator__min_samples_leaf=3, ada__base_estimator__min_samples_split=10, ada__base_estimator__splitter=random, ada__n_estimators=200, cvec__max_features=None \n",
      "[CV]  ada__base_estimator__min_samples_leaf=3, ada__base_estimator__min_samples_split=10, ada__base_estimator__splitter=random, ada__n_estimators=200, cvec__max_features=None, total=  22.6s\n",
      "[CV] ada__base_estimator__min_samples_leaf=3, ada__base_estimator__min_samples_split=10, ada__base_estimator__splitter=random, ada__n_estimators=200, cvec__max_features=None \n",
      "[CV]  ada__base_estimator__min_samples_leaf=3, ada__base_estimator__min_samples_split=10, ada__base_estimator__splitter=random, ada__n_estimators=200, cvec__max_features=None, total=  23.0s\n",
      "[CV] ada__base_estimator__min_samples_leaf=3, ada__base_estimator__min_samples_split=10, ada__base_estimator__splitter=random, ada__n_estimators=200, cvec__max_features=None \n",
      "[CV]  ada__base_estimator__min_samples_leaf=3, ada__base_estimator__min_samples_split=10, ada__base_estimator__splitter=random, ada__n_estimators=200, cvec__max_features=None, total=  27.4s\n",
      "[CV] ada__base_estimator__min_samples_leaf=3, ada__base_estimator__min_samples_split=10, ada__base_estimator__splitter=random, ada__n_estimators=200, cvec__max_features=2000 \n",
      "[CV]  ada__base_estimator__min_samples_leaf=3, ada__base_estimator__min_samples_split=10, ada__base_estimator__splitter=random, ada__n_estimators=200, cvec__max_features=2000, total=   3.9s\n",
      "[CV] ada__base_estimator__min_samples_leaf=3, ada__base_estimator__min_samples_split=10, ada__base_estimator__splitter=random, ada__n_estimators=200, cvec__max_features=2000 \n",
      "[CV]  ada__base_estimator__min_samples_leaf=3, ada__base_estimator__min_samples_split=10, ada__base_estimator__splitter=random, ada__n_estimators=200, cvec__max_features=2000, total=   3.9s\n",
      "[CV] ada__base_estimator__min_samples_leaf=3, ada__base_estimator__min_samples_split=10, ada__base_estimator__splitter=random, ada__n_estimators=200, cvec__max_features=2000 \n",
      "[CV]  ada__base_estimator__min_samples_leaf=3, ada__base_estimator__min_samples_split=10, ada__base_estimator__splitter=random, ada__n_estimators=200, cvec__max_features=2000, total=   3.7s\n",
      "[CV] ada__base_estimator__min_samples_leaf=5, ada__base_estimator__min_samples_split=2, ada__base_estimator__splitter=best, ada__n_estimators=50, cvec__max_features=None \n",
      "[CV]  ada__base_estimator__min_samples_leaf=5, ada__base_estimator__min_samples_split=2, ada__base_estimator__splitter=best, ada__n_estimators=50, cvec__max_features=None, total=  20.6s\n",
      "[CV] ada__base_estimator__min_samples_leaf=5, ada__base_estimator__min_samples_split=2, ada__base_estimator__splitter=best, ada__n_estimators=50, cvec__max_features=None \n",
      "[CV]  ada__base_estimator__min_samples_leaf=5, ada__base_estimator__min_samples_split=2, ada__base_estimator__splitter=best, ada__n_estimators=50, cvec__max_features=None, total=  22.2s\n",
      "[CV] ada__base_estimator__min_samples_leaf=5, ada__base_estimator__min_samples_split=2, ada__base_estimator__splitter=best, ada__n_estimators=50, cvec__max_features=None \n",
      "[CV]  ada__base_estimator__min_samples_leaf=5, ada__base_estimator__min_samples_split=2, ada__base_estimator__splitter=best, ada__n_estimators=50, cvec__max_features=None, total=  21.6s\n",
      "[CV] ada__base_estimator__min_samples_leaf=5, ada__base_estimator__min_samples_split=2, ada__base_estimator__splitter=best, ada__n_estimators=50, cvec__max_features=2000 \n",
      "[CV]  ada__base_estimator__min_samples_leaf=5, ada__base_estimator__min_samples_split=2, ada__base_estimator__splitter=best, ada__n_estimators=50, cvec__max_features=2000, total=   3.2s\n",
      "[CV] ada__base_estimator__min_samples_leaf=5, ada__base_estimator__min_samples_split=2, ada__base_estimator__splitter=best, ada__n_estimators=50, cvec__max_features=2000 \n",
      "[CV]  ada__base_estimator__min_samples_leaf=5, ada__base_estimator__min_samples_split=2, ada__base_estimator__splitter=best, ada__n_estimators=50, cvec__max_features=2000, total=   3.4s\n",
      "[CV] ada__base_estimator__min_samples_leaf=5, ada__base_estimator__min_samples_split=2, ada__base_estimator__splitter=best, ada__n_estimators=50, cvec__max_features=2000 \n",
      "[CV]  ada__base_estimator__min_samples_leaf=5, ada__base_estimator__min_samples_split=2, ada__base_estimator__splitter=best, ada__n_estimators=50, cvec__max_features=2000, total=   3.2s\n",
      "[CV] ada__base_estimator__min_samples_leaf=5, ada__base_estimator__min_samples_split=2, ada__base_estimator__splitter=best, ada__n_estimators=100, cvec__max_features=None \n",
      "[CV]  ada__base_estimator__min_samples_leaf=5, ada__base_estimator__min_samples_split=2, ada__base_estimator__splitter=best, ada__n_estimators=100, cvec__max_features=None, total=  23.3s\n",
      "[CV] ada__base_estimator__min_samples_leaf=5, ada__base_estimator__min_samples_split=2, ada__base_estimator__splitter=best, ada__n_estimators=100, cvec__max_features=None \n",
      "[CV]  ada__base_estimator__min_samples_leaf=5, ada__base_estimator__min_samples_split=2, ada__base_estimator__splitter=best, ada__n_estimators=100, cvec__max_features=None, total=  25.9s\n",
      "[CV] ada__base_estimator__min_samples_leaf=5, ada__base_estimator__min_samples_split=2, ada__base_estimator__splitter=best, ada__n_estimators=100, cvec__max_features=None \n",
      "[CV]  ada__base_estimator__min_samples_leaf=5, ada__base_estimator__min_samples_split=2, ada__base_estimator__splitter=best, ada__n_estimators=100, cvec__max_features=None, total=  24.7s\n",
      "[CV] ada__base_estimator__min_samples_leaf=5, ada__base_estimator__min_samples_split=2, ada__base_estimator__splitter=best, ada__n_estimators=100, cvec__max_features=2000 \n",
      "[CV]  ada__base_estimator__min_samples_leaf=5, ada__base_estimator__min_samples_split=2, ada__base_estimator__splitter=best, ada__n_estimators=100, cvec__max_features=2000, total=   3.9s\n",
      "[CV] ada__base_estimator__min_samples_leaf=5, ada__base_estimator__min_samples_split=2, ada__base_estimator__splitter=best, ada__n_estimators=100, cvec__max_features=2000 \n",
      "[CV]  ada__base_estimator__min_samples_leaf=5, ada__base_estimator__min_samples_split=2, ada__base_estimator__splitter=best, ada__n_estimators=100, cvec__max_features=2000, total=   4.2s\n",
      "[CV] ada__base_estimator__min_samples_leaf=5, ada__base_estimator__min_samples_split=2, ada__base_estimator__splitter=best, ada__n_estimators=100, cvec__max_features=2000 \n",
      "[CV]  ada__base_estimator__min_samples_leaf=5, ada__base_estimator__min_samples_split=2, ada__base_estimator__splitter=best, ada__n_estimators=100, cvec__max_features=2000, total=   3.8s\n",
      "[CV] ada__base_estimator__min_samples_leaf=5, ada__base_estimator__min_samples_split=2, ada__base_estimator__splitter=best, ada__n_estimators=200, cvec__max_features=None \n",
      "[CV]  ada__base_estimator__min_samples_leaf=5, ada__base_estimator__min_samples_split=2, ada__base_estimator__splitter=best, ada__n_estimators=200, cvec__max_features=None, total=  27.3s\n",
      "[CV] ada__base_estimator__min_samples_leaf=5, ada__base_estimator__min_samples_split=2, ada__base_estimator__splitter=best, ada__n_estimators=200, cvec__max_features=None \n",
      "[CV]  ada__base_estimator__min_samples_leaf=5, ada__base_estimator__min_samples_split=2, ada__base_estimator__splitter=best, ada__n_estimators=200, cvec__max_features=None, total=  28.8s\n",
      "[CV] ada__base_estimator__min_samples_leaf=5, ada__base_estimator__min_samples_split=2, ada__base_estimator__splitter=best, ada__n_estimators=200, cvec__max_features=None \n",
      "[CV]  ada__base_estimator__min_samples_leaf=5, ada__base_estimator__min_samples_split=2, ada__base_estimator__splitter=best, ada__n_estimators=200, cvec__max_features=None, total=  27.7s\n",
      "[CV] ada__base_estimator__min_samples_leaf=5, ada__base_estimator__min_samples_split=2, ada__base_estimator__splitter=best, ada__n_estimators=200, cvec__max_features=2000 \n"
     ]
    },
    {
     "name": "stdout",
     "output_type": "stream",
     "text": [
      "[CV]  ada__base_estimator__min_samples_leaf=5, ada__base_estimator__min_samples_split=2, ada__base_estimator__splitter=best, ada__n_estimators=200, cvec__max_features=2000, total=   4.8s\n",
      "[CV] ada__base_estimator__min_samples_leaf=5, ada__base_estimator__min_samples_split=2, ada__base_estimator__splitter=best, ada__n_estimators=200, cvec__max_features=2000 \n",
      "[CV]  ada__base_estimator__min_samples_leaf=5, ada__base_estimator__min_samples_split=2, ada__base_estimator__splitter=best, ada__n_estimators=200, cvec__max_features=2000, total=   5.3s\n",
      "[CV] ada__base_estimator__min_samples_leaf=5, ada__base_estimator__min_samples_split=2, ada__base_estimator__splitter=best, ada__n_estimators=200, cvec__max_features=2000 \n",
      "[CV]  ada__base_estimator__min_samples_leaf=5, ada__base_estimator__min_samples_split=2, ada__base_estimator__splitter=best, ada__n_estimators=200, cvec__max_features=2000, total=   4.8s\n",
      "[CV] ada__base_estimator__min_samples_leaf=5, ada__base_estimator__min_samples_split=2, ada__base_estimator__splitter=random, ada__n_estimators=50, cvec__max_features=None \n",
      "[CV]  ada__base_estimator__min_samples_leaf=5, ada__base_estimator__min_samples_split=2, ada__base_estimator__splitter=random, ada__n_estimators=50, cvec__max_features=None, total=  19.4s\n",
      "[CV] ada__base_estimator__min_samples_leaf=5, ada__base_estimator__min_samples_split=2, ada__base_estimator__splitter=random, ada__n_estimators=50, cvec__max_features=None \n",
      "[CV]  ada__base_estimator__min_samples_leaf=5, ada__base_estimator__min_samples_split=2, ada__base_estimator__splitter=random, ada__n_estimators=50, cvec__max_features=None, total=  20.9s\n",
      "[CV] ada__base_estimator__min_samples_leaf=5, ada__base_estimator__min_samples_split=2, ada__base_estimator__splitter=random, ada__n_estimators=50, cvec__max_features=None \n",
      "[CV]  ada__base_estimator__min_samples_leaf=5, ada__base_estimator__min_samples_split=2, ada__base_estimator__splitter=random, ada__n_estimators=50, cvec__max_features=None, total=  21.0s\n",
      "[CV] ada__base_estimator__min_samples_leaf=5, ada__base_estimator__min_samples_split=2, ada__base_estimator__splitter=random, ada__n_estimators=50, cvec__max_features=2000 \n",
      "[CV]  ada__base_estimator__min_samples_leaf=5, ada__base_estimator__min_samples_split=2, ada__base_estimator__splitter=random, ada__n_estimators=50, cvec__max_features=2000, total=   3.0s\n",
      "[CV] ada__base_estimator__min_samples_leaf=5, ada__base_estimator__min_samples_split=2, ada__base_estimator__splitter=random, ada__n_estimators=50, cvec__max_features=2000 \n",
      "[CV]  ada__base_estimator__min_samples_leaf=5, ada__base_estimator__min_samples_split=2, ada__base_estimator__splitter=random, ada__n_estimators=50, cvec__max_features=2000, total=   3.2s\n",
      "[CV] ada__base_estimator__min_samples_leaf=5, ada__base_estimator__min_samples_split=2, ada__base_estimator__splitter=random, ada__n_estimators=50, cvec__max_features=2000 \n",
      "[CV]  ada__base_estimator__min_samples_leaf=5, ada__base_estimator__min_samples_split=2, ada__base_estimator__splitter=random, ada__n_estimators=50, cvec__max_features=2000, total=   3.0s\n",
      "[CV] ada__base_estimator__min_samples_leaf=5, ada__base_estimator__min_samples_split=2, ada__base_estimator__splitter=random, ada__n_estimators=100, cvec__max_features=None \n",
      "[CV]  ada__base_estimator__min_samples_leaf=5, ada__base_estimator__min_samples_split=2, ada__base_estimator__splitter=random, ada__n_estimators=100, cvec__max_features=None, total=  20.7s\n",
      "[CV] ada__base_estimator__min_samples_leaf=5, ada__base_estimator__min_samples_split=2, ada__base_estimator__splitter=random, ada__n_estimators=100, cvec__max_features=None \n",
      "[CV]  ada__base_estimator__min_samples_leaf=5, ada__base_estimator__min_samples_split=2, ada__base_estimator__splitter=random, ada__n_estimators=100, cvec__max_features=None, total=  22.6s\n",
      "[CV] ada__base_estimator__min_samples_leaf=5, ada__base_estimator__min_samples_split=2, ada__base_estimator__splitter=random, ada__n_estimators=100, cvec__max_features=None \n",
      "[CV]  ada__base_estimator__min_samples_leaf=5, ada__base_estimator__min_samples_split=2, ada__base_estimator__splitter=random, ada__n_estimators=100, cvec__max_features=None, total=  21.3s\n",
      "[CV] ada__base_estimator__min_samples_leaf=5, ada__base_estimator__min_samples_split=2, ada__base_estimator__splitter=random, ada__n_estimators=100, cvec__max_features=2000 \n",
      "[CV]  ada__base_estimator__min_samples_leaf=5, ada__base_estimator__min_samples_split=2, ada__base_estimator__splitter=random, ada__n_estimators=100, cvec__max_features=2000, total=   3.5s\n",
      "[CV] ada__base_estimator__min_samples_leaf=5, ada__base_estimator__min_samples_split=2, ada__base_estimator__splitter=random, ada__n_estimators=100, cvec__max_features=2000 \n",
      "[CV]  ada__base_estimator__min_samples_leaf=5, ada__base_estimator__min_samples_split=2, ada__base_estimator__splitter=random, ada__n_estimators=100, cvec__max_features=2000, total=   3.7s\n",
      "[CV] ada__base_estimator__min_samples_leaf=5, ada__base_estimator__min_samples_split=2, ada__base_estimator__splitter=random, ada__n_estimators=100, cvec__max_features=2000 \n",
      "[CV]  ada__base_estimator__min_samples_leaf=5, ada__base_estimator__min_samples_split=2, ada__base_estimator__splitter=random, ada__n_estimators=100, cvec__max_features=2000, total=   3.4s\n",
      "[CV] ada__base_estimator__min_samples_leaf=5, ada__base_estimator__min_samples_split=2, ada__base_estimator__splitter=random, ada__n_estimators=200, cvec__max_features=None \n",
      "[CV]  ada__base_estimator__min_samples_leaf=5, ada__base_estimator__min_samples_split=2, ada__base_estimator__splitter=random, ada__n_estimators=200, cvec__max_features=None, total=  24.2s\n",
      "[CV] ada__base_estimator__min_samples_leaf=5, ada__base_estimator__min_samples_split=2, ada__base_estimator__splitter=random, ada__n_estimators=200, cvec__max_features=None \n",
      "[CV]  ada__base_estimator__min_samples_leaf=5, ada__base_estimator__min_samples_split=2, ada__base_estimator__splitter=random, ada__n_estimators=200, cvec__max_features=None, total=  26.8s\n",
      "[CV] ada__base_estimator__min_samples_leaf=5, ada__base_estimator__min_samples_split=2, ada__base_estimator__splitter=random, ada__n_estimators=200, cvec__max_features=None \n",
      "[CV]  ada__base_estimator__min_samples_leaf=5, ada__base_estimator__min_samples_split=2, ada__base_estimator__splitter=random, ada__n_estimators=200, cvec__max_features=None, total=  24.5s\n",
      "[CV] ada__base_estimator__min_samples_leaf=5, ada__base_estimator__min_samples_split=2, ada__base_estimator__splitter=random, ada__n_estimators=200, cvec__max_features=2000 \n",
      "[CV]  ada__base_estimator__min_samples_leaf=5, ada__base_estimator__min_samples_split=2, ada__base_estimator__splitter=random, ada__n_estimators=200, cvec__max_features=2000, total=   4.3s\n",
      "[CV] ada__base_estimator__min_samples_leaf=5, ada__base_estimator__min_samples_split=2, ada__base_estimator__splitter=random, ada__n_estimators=200, cvec__max_features=2000 \n",
      "[CV]  ada__base_estimator__min_samples_leaf=5, ada__base_estimator__min_samples_split=2, ada__base_estimator__splitter=random, ada__n_estimators=200, cvec__max_features=2000, total=   4.4s\n",
      "[CV] ada__base_estimator__min_samples_leaf=5, ada__base_estimator__min_samples_split=2, ada__base_estimator__splitter=random, ada__n_estimators=200, cvec__max_features=2000 \n",
      "[CV]  ada__base_estimator__min_samples_leaf=5, ada__base_estimator__min_samples_split=2, ada__base_estimator__splitter=random, ada__n_estimators=200, cvec__max_features=2000, total=   4.0s\n",
      "[CV] ada__base_estimator__min_samples_leaf=5, ada__base_estimator__min_samples_split=5, ada__base_estimator__splitter=best, ada__n_estimators=50, cvec__max_features=None \n",
      "[CV]  ada__base_estimator__min_samples_leaf=5, ada__base_estimator__min_samples_split=5, ada__base_estimator__splitter=best, ada__n_estimators=50, cvec__max_features=None, total=  21.0s\n",
      "[CV] ada__base_estimator__min_samples_leaf=5, ada__base_estimator__min_samples_split=5, ada__base_estimator__splitter=best, ada__n_estimators=50, cvec__max_features=None \n",
      "[CV]  ada__base_estimator__min_samples_leaf=5, ada__base_estimator__min_samples_split=5, ada__base_estimator__splitter=best, ada__n_estimators=50, cvec__max_features=None, total=  20.1s\n",
      "[CV] ada__base_estimator__min_samples_leaf=5, ada__base_estimator__min_samples_split=5, ada__base_estimator__splitter=best, ada__n_estimators=50, cvec__max_features=None \n"
     ]
    },
    {
     "name": "stdout",
     "output_type": "stream",
     "text": [
      "[CV]  ada__base_estimator__min_samples_leaf=5, ada__base_estimator__min_samples_split=5, ada__base_estimator__splitter=best, ada__n_estimators=50, cvec__max_features=None, total=  20.2s\n",
      "[CV] ada__base_estimator__min_samples_leaf=5, ada__base_estimator__min_samples_split=5, ada__base_estimator__splitter=best, ada__n_estimators=50, cvec__max_features=2000 \n",
      "[CV]  ada__base_estimator__min_samples_leaf=5, ada__base_estimator__min_samples_split=5, ada__base_estimator__splitter=best, ada__n_estimators=50, cvec__max_features=2000, total=   3.3s\n",
      "[CV] ada__base_estimator__min_samples_leaf=5, ada__base_estimator__min_samples_split=5, ada__base_estimator__splitter=best, ada__n_estimators=50, cvec__max_features=2000 \n",
      "[CV]  ada__base_estimator__min_samples_leaf=5, ada__base_estimator__min_samples_split=5, ada__base_estimator__splitter=best, ada__n_estimators=50, cvec__max_features=2000, total=   3.4s\n",
      "[CV] ada__base_estimator__min_samples_leaf=5, ada__base_estimator__min_samples_split=5, ada__base_estimator__splitter=best, ada__n_estimators=50, cvec__max_features=2000 \n",
      "[CV]  ada__base_estimator__min_samples_leaf=5, ada__base_estimator__min_samples_split=5, ada__base_estimator__splitter=best, ada__n_estimators=50, cvec__max_features=2000, total=   3.1s\n",
      "[CV] ada__base_estimator__min_samples_leaf=5, ada__base_estimator__min_samples_split=5, ada__base_estimator__splitter=best, ada__n_estimators=100, cvec__max_features=None \n",
      "[CV]  ada__base_estimator__min_samples_leaf=5, ada__base_estimator__min_samples_split=5, ada__base_estimator__splitter=best, ada__n_estimators=100, cvec__max_features=None, total=  21.2s\n",
      "[CV] ada__base_estimator__min_samples_leaf=5, ada__base_estimator__min_samples_split=5, ada__base_estimator__splitter=best, ada__n_estimators=100, cvec__max_features=None \n",
      "[CV]  ada__base_estimator__min_samples_leaf=5, ada__base_estimator__min_samples_split=5, ada__base_estimator__splitter=best, ada__n_estimators=100, cvec__max_features=None, total=  23.2s\n",
      "[CV] ada__base_estimator__min_samples_leaf=5, ada__base_estimator__min_samples_split=5, ada__base_estimator__splitter=best, ada__n_estimators=100, cvec__max_features=None \n",
      "[CV]  ada__base_estimator__min_samples_leaf=5, ada__base_estimator__min_samples_split=5, ada__base_estimator__splitter=best, ada__n_estimators=100, cvec__max_features=None, total=  22.8s\n",
      "[CV] ada__base_estimator__min_samples_leaf=5, ada__base_estimator__min_samples_split=5, ada__base_estimator__splitter=best, ada__n_estimators=100, cvec__max_features=2000 \n",
      "[CV]  ada__base_estimator__min_samples_leaf=5, ada__base_estimator__min_samples_split=5, ada__base_estimator__splitter=best, ada__n_estimators=100, cvec__max_features=2000, total=   3.8s\n",
      "[CV] ada__base_estimator__min_samples_leaf=5, ada__base_estimator__min_samples_split=5, ada__base_estimator__splitter=best, ada__n_estimators=100, cvec__max_features=2000 \n",
      "[CV]  ada__base_estimator__min_samples_leaf=5, ada__base_estimator__min_samples_split=5, ada__base_estimator__splitter=best, ada__n_estimators=100, cvec__max_features=2000, total=   4.0s\n",
      "[CV] ada__base_estimator__min_samples_leaf=5, ada__base_estimator__min_samples_split=5, ada__base_estimator__splitter=best, ada__n_estimators=100, cvec__max_features=2000 \n",
      "[CV]  ada__base_estimator__min_samples_leaf=5, ada__base_estimator__min_samples_split=5, ada__base_estimator__splitter=best, ada__n_estimators=100, cvec__max_features=2000, total=   3.6s\n",
      "[CV] ada__base_estimator__min_samples_leaf=5, ada__base_estimator__min_samples_split=5, ada__base_estimator__splitter=best, ada__n_estimators=200, cvec__max_features=None \n",
      "[CV]  ada__base_estimator__min_samples_leaf=5, ada__base_estimator__min_samples_split=5, ada__base_estimator__splitter=best, ada__n_estimators=200, cvec__max_features=None, total=  24.8s\n",
      "[CV] ada__base_estimator__min_samples_leaf=5, ada__base_estimator__min_samples_split=5, ada__base_estimator__splitter=best, ada__n_estimators=200, cvec__max_features=None \n",
      "[CV]  ada__base_estimator__min_samples_leaf=5, ada__base_estimator__min_samples_split=5, ada__base_estimator__splitter=best, ada__n_estimators=200, cvec__max_features=None, total=  28.9s\n",
      "[CV] ada__base_estimator__min_samples_leaf=5, ada__base_estimator__min_samples_split=5, ada__base_estimator__splitter=best, ada__n_estimators=200, cvec__max_features=None \n",
      "[CV]  ada__base_estimator__min_samples_leaf=5, ada__base_estimator__min_samples_split=5, ada__base_estimator__splitter=best, ada__n_estimators=200, cvec__max_features=None, total=  25.6s\n",
      "[CV] ada__base_estimator__min_samples_leaf=5, ada__base_estimator__min_samples_split=5, ada__base_estimator__splitter=best, ada__n_estimators=200, cvec__max_features=2000 \n",
      "[CV]  ada__base_estimator__min_samples_leaf=5, ada__base_estimator__min_samples_split=5, ada__base_estimator__splitter=best, ada__n_estimators=200, cvec__max_features=2000, total=   4.8s\n",
      "[CV] ada__base_estimator__min_samples_leaf=5, ada__base_estimator__min_samples_split=5, ada__base_estimator__splitter=best, ada__n_estimators=200, cvec__max_features=2000 \n",
      "[CV]  ada__base_estimator__min_samples_leaf=5, ada__base_estimator__min_samples_split=5, ada__base_estimator__splitter=best, ada__n_estimators=200, cvec__max_features=2000, total=   5.0s\n",
      "[CV] ada__base_estimator__min_samples_leaf=5, ada__base_estimator__min_samples_split=5, ada__base_estimator__splitter=best, ada__n_estimators=200, cvec__max_features=2000 \n",
      "[CV]  ada__base_estimator__min_samples_leaf=5, ada__base_estimator__min_samples_split=5, ada__base_estimator__splitter=best, ada__n_estimators=200, cvec__max_features=2000, total=   4.8s\n",
      "[CV] ada__base_estimator__min_samples_leaf=5, ada__base_estimator__min_samples_split=5, ada__base_estimator__splitter=random, ada__n_estimators=50, cvec__max_features=None \n",
      "[CV]  ada__base_estimator__min_samples_leaf=5, ada__base_estimator__min_samples_split=5, ada__base_estimator__splitter=random, ada__n_estimators=50, cvec__max_features=None, total=  18.9s\n",
      "[CV] ada__base_estimator__min_samples_leaf=5, ada__base_estimator__min_samples_split=5, ada__base_estimator__splitter=random, ada__n_estimators=50, cvec__max_features=None \n",
      "[CV]  ada__base_estimator__min_samples_leaf=5, ada__base_estimator__min_samples_split=5, ada__base_estimator__splitter=random, ada__n_estimators=50, cvec__max_features=None, total=  19.8s\n",
      "[CV] ada__base_estimator__min_samples_leaf=5, ada__base_estimator__min_samples_split=5, ada__base_estimator__splitter=random, ada__n_estimators=50, cvec__max_features=None \n",
      "[CV]  ada__base_estimator__min_samples_leaf=5, ada__base_estimator__min_samples_split=5, ada__base_estimator__splitter=random, ada__n_estimators=50, cvec__max_features=None, total=  19.6s\n",
      "[CV] ada__base_estimator__min_samples_leaf=5, ada__base_estimator__min_samples_split=5, ada__base_estimator__splitter=random, ada__n_estimators=50, cvec__max_features=2000 \n",
      "[CV]  ada__base_estimator__min_samples_leaf=5, ada__base_estimator__min_samples_split=5, ada__base_estimator__splitter=random, ada__n_estimators=50, cvec__max_features=2000, total=   3.0s\n",
      "[CV] ada__base_estimator__min_samples_leaf=5, ada__base_estimator__min_samples_split=5, ada__base_estimator__splitter=random, ada__n_estimators=50, cvec__max_features=2000 \n",
      "[CV]  ada__base_estimator__min_samples_leaf=5, ada__base_estimator__min_samples_split=5, ada__base_estimator__splitter=random, ada__n_estimators=50, cvec__max_features=2000, total=   3.1s\n",
      "[CV] ada__base_estimator__min_samples_leaf=5, ada__base_estimator__min_samples_split=5, ada__base_estimator__splitter=random, ada__n_estimators=50, cvec__max_features=2000 \n",
      "[CV]  ada__base_estimator__min_samples_leaf=5, ada__base_estimator__min_samples_split=5, ada__base_estimator__splitter=random, ada__n_estimators=50, cvec__max_features=2000, total=   2.9s\n",
      "[CV] ada__base_estimator__min_samples_leaf=5, ada__base_estimator__min_samples_split=5, ada__base_estimator__splitter=random, ada__n_estimators=100, cvec__max_features=None \n",
      "[CV]  ada__base_estimator__min_samples_leaf=5, ada__base_estimator__min_samples_split=5, ada__base_estimator__splitter=random, ada__n_estimators=100, cvec__max_features=None, total=  20.8s\n",
      "[CV] ada__base_estimator__min_samples_leaf=5, ada__base_estimator__min_samples_split=5, ada__base_estimator__splitter=random, ada__n_estimators=100, cvec__max_features=None \n"
     ]
    },
    {
     "name": "stdout",
     "output_type": "stream",
     "text": [
      "[CV]  ada__base_estimator__min_samples_leaf=5, ada__base_estimator__min_samples_split=5, ada__base_estimator__splitter=random, ada__n_estimators=100, cvec__max_features=None, total=  22.0s\n",
      "[CV] ada__base_estimator__min_samples_leaf=5, ada__base_estimator__min_samples_split=5, ada__base_estimator__splitter=random, ada__n_estimators=100, cvec__max_features=None \n",
      "[CV]  ada__base_estimator__min_samples_leaf=5, ada__base_estimator__min_samples_split=5, ada__base_estimator__splitter=random, ada__n_estimators=100, cvec__max_features=None, total=  21.5s\n",
      "[CV] ada__base_estimator__min_samples_leaf=5, ada__base_estimator__min_samples_split=5, ada__base_estimator__splitter=random, ada__n_estimators=100, cvec__max_features=2000 \n",
      "[CV]  ada__base_estimator__min_samples_leaf=5, ada__base_estimator__min_samples_split=5, ada__base_estimator__splitter=random, ada__n_estimators=100, cvec__max_features=2000, total=   3.3s\n",
      "[CV] ada__base_estimator__min_samples_leaf=5, ada__base_estimator__min_samples_split=5, ada__base_estimator__splitter=random, ada__n_estimators=100, cvec__max_features=2000 \n",
      "[CV]  ada__base_estimator__min_samples_leaf=5, ada__base_estimator__min_samples_split=5, ada__base_estimator__splitter=random, ada__n_estimators=100, cvec__max_features=2000, total=   3.6s\n",
      "[CV] ada__base_estimator__min_samples_leaf=5, ada__base_estimator__min_samples_split=5, ada__base_estimator__splitter=random, ada__n_estimators=100, cvec__max_features=2000 \n",
      "[CV]  ada__base_estimator__min_samples_leaf=5, ada__base_estimator__min_samples_split=5, ada__base_estimator__splitter=random, ada__n_estimators=100, cvec__max_features=2000, total=   3.4s\n",
      "[CV] ada__base_estimator__min_samples_leaf=5, ada__base_estimator__min_samples_split=5, ada__base_estimator__splitter=random, ada__n_estimators=200, cvec__max_features=None \n",
      "[CV]  ada__base_estimator__min_samples_leaf=5, ada__base_estimator__min_samples_split=5, ada__base_estimator__splitter=random, ada__n_estimators=200, cvec__max_features=None, total=  23.1s\n",
      "[CV] ada__base_estimator__min_samples_leaf=5, ada__base_estimator__min_samples_split=5, ada__base_estimator__splitter=random, ada__n_estimators=200, cvec__max_features=None \n",
      "[CV]  ada__base_estimator__min_samples_leaf=5, ada__base_estimator__min_samples_split=5, ada__base_estimator__splitter=random, ada__n_estimators=200, cvec__max_features=None, total=  24.9s\n",
      "[CV] ada__base_estimator__min_samples_leaf=5, ada__base_estimator__min_samples_split=5, ada__base_estimator__splitter=random, ada__n_estimators=200, cvec__max_features=None \n",
      "[CV]  ada__base_estimator__min_samples_leaf=5, ada__base_estimator__min_samples_split=5, ada__base_estimator__splitter=random, ada__n_estimators=200, cvec__max_features=None, total=  24.7s\n",
      "[CV] ada__base_estimator__min_samples_leaf=5, ada__base_estimator__min_samples_split=5, ada__base_estimator__splitter=random, ada__n_estimators=200, cvec__max_features=2000 \n",
      "[CV]  ada__base_estimator__min_samples_leaf=5, ada__base_estimator__min_samples_split=5, ada__base_estimator__splitter=random, ada__n_estimators=200, cvec__max_features=2000, total=   4.2s\n",
      "[CV] ada__base_estimator__min_samples_leaf=5, ada__base_estimator__min_samples_split=5, ada__base_estimator__splitter=random, ada__n_estimators=200, cvec__max_features=2000 \n",
      "[CV]  ada__base_estimator__min_samples_leaf=5, ada__base_estimator__min_samples_split=5, ada__base_estimator__splitter=random, ada__n_estimators=200, cvec__max_features=2000, total=   4.4s\n",
      "[CV] ada__base_estimator__min_samples_leaf=5, ada__base_estimator__min_samples_split=5, ada__base_estimator__splitter=random, ada__n_estimators=200, cvec__max_features=2000 \n",
      "[CV]  ada__base_estimator__min_samples_leaf=5, ada__base_estimator__min_samples_split=5, ada__base_estimator__splitter=random, ada__n_estimators=200, cvec__max_features=2000, total=   4.1s\n",
      "[CV] ada__base_estimator__min_samples_leaf=5, ada__base_estimator__min_samples_split=10, ada__base_estimator__splitter=best, ada__n_estimators=50, cvec__max_features=None \n",
      "[CV]  ada__base_estimator__min_samples_leaf=5, ada__base_estimator__min_samples_split=10, ada__base_estimator__splitter=best, ada__n_estimators=50, cvec__max_features=None, total=  21.7s\n",
      "[CV] ada__base_estimator__min_samples_leaf=5, ada__base_estimator__min_samples_split=10, ada__base_estimator__splitter=best, ada__n_estimators=50, cvec__max_features=None \n",
      "[CV]  ada__base_estimator__min_samples_leaf=5, ada__base_estimator__min_samples_split=10, ada__base_estimator__splitter=best, ada__n_estimators=50, cvec__max_features=None, total=  21.9s\n",
      "[CV] ada__base_estimator__min_samples_leaf=5, ada__base_estimator__min_samples_split=10, ada__base_estimator__splitter=best, ada__n_estimators=50, cvec__max_features=None \n",
      "[CV]  ada__base_estimator__min_samples_leaf=5, ada__base_estimator__min_samples_split=10, ada__base_estimator__splitter=best, ada__n_estimators=50, cvec__max_features=None, total=  21.1s\n",
      "[CV] ada__base_estimator__min_samples_leaf=5, ada__base_estimator__min_samples_split=10, ada__base_estimator__splitter=best, ada__n_estimators=50, cvec__max_features=2000 \n",
      "[CV]  ada__base_estimator__min_samples_leaf=5, ada__base_estimator__min_samples_split=10, ada__base_estimator__splitter=best, ada__n_estimators=50, cvec__max_features=2000, total=   3.3s\n",
      "[CV] ada__base_estimator__min_samples_leaf=5, ada__base_estimator__min_samples_split=10, ada__base_estimator__splitter=best, ada__n_estimators=50, cvec__max_features=2000 \n",
      "[CV]  ada__base_estimator__min_samples_leaf=5, ada__base_estimator__min_samples_split=10, ada__base_estimator__splitter=best, ada__n_estimators=50, cvec__max_features=2000, total=   3.5s\n",
      "[CV] ada__base_estimator__min_samples_leaf=5, ada__base_estimator__min_samples_split=10, ada__base_estimator__splitter=best, ada__n_estimators=50, cvec__max_features=2000 \n",
      "[CV]  ada__base_estimator__min_samples_leaf=5, ada__base_estimator__min_samples_split=10, ada__base_estimator__splitter=best, ada__n_estimators=50, cvec__max_features=2000, total=   3.2s\n",
      "[CV] ada__base_estimator__min_samples_leaf=5, ada__base_estimator__min_samples_split=10, ada__base_estimator__splitter=best, ada__n_estimators=100, cvec__max_features=None \n",
      "[CV]  ada__base_estimator__min_samples_leaf=5, ada__base_estimator__min_samples_split=10, ada__base_estimator__splitter=best, ada__n_estimators=100, cvec__max_features=None, total=  21.9s\n",
      "[CV] ada__base_estimator__min_samples_leaf=5, ada__base_estimator__min_samples_split=10, ada__base_estimator__splitter=best, ada__n_estimators=100, cvec__max_features=None \n",
      "[CV]  ada__base_estimator__min_samples_leaf=5, ada__base_estimator__min_samples_split=10, ada__base_estimator__splitter=best, ada__n_estimators=100, cvec__max_features=None, total=  24.4s\n",
      "[CV] ada__base_estimator__min_samples_leaf=5, ada__base_estimator__min_samples_split=10, ada__base_estimator__splitter=best, ada__n_estimators=100, cvec__max_features=None \n",
      "[CV]  ada__base_estimator__min_samples_leaf=5, ada__base_estimator__min_samples_split=10, ada__base_estimator__splitter=best, ada__n_estimators=100, cvec__max_features=None, total=  23.2s\n",
      "[CV] ada__base_estimator__min_samples_leaf=5, ada__base_estimator__min_samples_split=10, ada__base_estimator__splitter=best, ada__n_estimators=100, cvec__max_features=2000 \n",
      "[CV]  ada__base_estimator__min_samples_leaf=5, ada__base_estimator__min_samples_split=10, ada__base_estimator__splitter=best, ada__n_estimators=100, cvec__max_features=2000, total=   3.9s\n",
      "[CV] ada__base_estimator__min_samples_leaf=5, ada__base_estimator__min_samples_split=10, ada__base_estimator__splitter=best, ada__n_estimators=100, cvec__max_features=2000 \n",
      "[CV]  ada__base_estimator__min_samples_leaf=5, ada__base_estimator__min_samples_split=10, ada__base_estimator__splitter=best, ada__n_estimators=100, cvec__max_features=2000, total=   4.0s\n",
      "[CV] ada__base_estimator__min_samples_leaf=5, ada__base_estimator__min_samples_split=10, ada__base_estimator__splitter=best, ada__n_estimators=100, cvec__max_features=2000 \n",
      "[CV]  ada__base_estimator__min_samples_leaf=5, ada__base_estimator__min_samples_split=10, ada__base_estimator__splitter=best, ada__n_estimators=100, cvec__max_features=2000, total=   3.8s\n",
      "[CV] ada__base_estimator__min_samples_leaf=5, ada__base_estimator__min_samples_split=10, ada__base_estimator__splitter=best, ada__n_estimators=200, cvec__max_features=None \n"
     ]
    },
    {
     "name": "stdout",
     "output_type": "stream",
     "text": [
      "[CV]  ada__base_estimator__min_samples_leaf=5, ada__base_estimator__min_samples_split=10, ada__base_estimator__splitter=best, ada__n_estimators=200, cvec__max_features=None, total=  24.9s\n",
      "[CV] ada__base_estimator__min_samples_leaf=5, ada__base_estimator__min_samples_split=10, ada__base_estimator__splitter=best, ada__n_estimators=200, cvec__max_features=None \n",
      "[CV]  ada__base_estimator__min_samples_leaf=5, ada__base_estimator__min_samples_split=10, ada__base_estimator__splitter=best, ada__n_estimators=200, cvec__max_features=None, total=  28.7s\n",
      "[CV] ada__base_estimator__min_samples_leaf=5, ada__base_estimator__min_samples_split=10, ada__base_estimator__splitter=best, ada__n_estimators=200, cvec__max_features=None \n",
      "[CV]  ada__base_estimator__min_samples_leaf=5, ada__base_estimator__min_samples_split=10, ada__base_estimator__splitter=best, ada__n_estimators=200, cvec__max_features=None, total=  27.0s\n",
      "[CV] ada__base_estimator__min_samples_leaf=5, ada__base_estimator__min_samples_split=10, ada__base_estimator__splitter=best, ada__n_estimators=200, cvec__max_features=2000 \n",
      "[CV]  ada__base_estimator__min_samples_leaf=5, ada__base_estimator__min_samples_split=10, ada__base_estimator__splitter=best, ada__n_estimators=200, cvec__max_features=2000, total=   5.2s\n",
      "[CV] ada__base_estimator__min_samples_leaf=5, ada__base_estimator__min_samples_split=10, ada__base_estimator__splitter=best, ada__n_estimators=200, cvec__max_features=2000 \n",
      "[CV]  ada__base_estimator__min_samples_leaf=5, ada__base_estimator__min_samples_split=10, ada__base_estimator__splitter=best, ada__n_estimators=200, cvec__max_features=2000, total=   5.4s\n",
      "[CV] ada__base_estimator__min_samples_leaf=5, ada__base_estimator__min_samples_split=10, ada__base_estimator__splitter=best, ada__n_estimators=200, cvec__max_features=2000 \n",
      "[CV]  ada__base_estimator__min_samples_leaf=5, ada__base_estimator__min_samples_split=10, ada__base_estimator__splitter=best, ada__n_estimators=200, cvec__max_features=2000, total=   4.5s\n",
      "[CV] ada__base_estimator__min_samples_leaf=5, ada__base_estimator__min_samples_split=10, ada__base_estimator__splitter=random, ada__n_estimators=50, cvec__max_features=None \n",
      "[CV]  ada__base_estimator__min_samples_leaf=5, ada__base_estimator__min_samples_split=10, ada__base_estimator__splitter=random, ada__n_estimators=50, cvec__max_features=None, total=  19.1s\n",
      "[CV] ada__base_estimator__min_samples_leaf=5, ada__base_estimator__min_samples_split=10, ada__base_estimator__splitter=random, ada__n_estimators=50, cvec__max_features=None \n",
      "[CV]  ada__base_estimator__min_samples_leaf=5, ada__base_estimator__min_samples_split=10, ada__base_estimator__splitter=random, ada__n_estimators=50, cvec__max_features=None, total=  20.0s\n",
      "[CV] ada__base_estimator__min_samples_leaf=5, ada__base_estimator__min_samples_split=10, ada__base_estimator__splitter=random, ada__n_estimators=50, cvec__max_features=None \n",
      "[CV]  ada__base_estimator__min_samples_leaf=5, ada__base_estimator__min_samples_split=10, ada__base_estimator__splitter=random, ada__n_estimators=50, cvec__max_features=None, total=  20.2s\n",
      "[CV] ada__base_estimator__min_samples_leaf=5, ada__base_estimator__min_samples_split=10, ada__base_estimator__splitter=random, ada__n_estimators=50, cvec__max_features=2000 \n",
      "[CV]  ada__base_estimator__min_samples_leaf=5, ada__base_estimator__min_samples_split=10, ada__base_estimator__splitter=random, ada__n_estimators=50, cvec__max_features=2000, total=   3.0s\n",
      "[CV] ada__base_estimator__min_samples_leaf=5, ada__base_estimator__min_samples_split=10, ada__base_estimator__splitter=random, ada__n_estimators=50, cvec__max_features=2000 \n",
      "[CV]  ada__base_estimator__min_samples_leaf=5, ada__base_estimator__min_samples_split=10, ada__base_estimator__splitter=random, ada__n_estimators=50, cvec__max_features=2000, total=   3.2s\n",
      "[CV] ada__base_estimator__min_samples_leaf=5, ada__base_estimator__min_samples_split=10, ada__base_estimator__splitter=random, ada__n_estimators=50, cvec__max_features=2000 \n",
      "[CV]  ada__base_estimator__min_samples_leaf=5, ada__base_estimator__min_samples_split=10, ada__base_estimator__splitter=random, ada__n_estimators=50, cvec__max_features=2000, total=   2.9s\n",
      "[CV] ada__base_estimator__min_samples_leaf=5, ada__base_estimator__min_samples_split=10, ada__base_estimator__splitter=random, ada__n_estimators=100, cvec__max_features=None \n",
      "[CV]  ada__base_estimator__min_samples_leaf=5, ada__base_estimator__min_samples_split=10, ada__base_estimator__splitter=random, ada__n_estimators=100, cvec__max_features=None, total=  20.4s\n",
      "[CV] ada__base_estimator__min_samples_leaf=5, ada__base_estimator__min_samples_split=10, ada__base_estimator__splitter=random, ada__n_estimators=100, cvec__max_features=None \n",
      "[CV]  ada__base_estimator__min_samples_leaf=5, ada__base_estimator__min_samples_split=10, ada__base_estimator__splitter=random, ada__n_estimators=100, cvec__max_features=None, total=  21.1s\n",
      "[CV] ada__base_estimator__min_samples_leaf=5, ada__base_estimator__min_samples_split=10, ada__base_estimator__splitter=random, ada__n_estimators=100, cvec__max_features=None \n",
      "[CV]  ada__base_estimator__min_samples_leaf=5, ada__base_estimator__min_samples_split=10, ada__base_estimator__splitter=random, ada__n_estimators=100, cvec__max_features=None, total=  20.4s\n",
      "[CV] ada__base_estimator__min_samples_leaf=5, ada__base_estimator__min_samples_split=10, ada__base_estimator__splitter=random, ada__n_estimators=100, cvec__max_features=2000 \n",
      "[CV]  ada__base_estimator__min_samples_leaf=5, ada__base_estimator__min_samples_split=10, ada__base_estimator__splitter=random, ada__n_estimators=100, cvec__max_features=2000, total=   3.2s\n",
      "[CV] ada__base_estimator__min_samples_leaf=5, ada__base_estimator__min_samples_split=10, ada__base_estimator__splitter=random, ada__n_estimators=100, cvec__max_features=2000 \n",
      "[CV]  ada__base_estimator__min_samples_leaf=5, ada__base_estimator__min_samples_split=10, ada__base_estimator__splitter=random, ada__n_estimators=100, cvec__max_features=2000, total=   3.4s\n",
      "[CV] ada__base_estimator__min_samples_leaf=5, ada__base_estimator__min_samples_split=10, ada__base_estimator__splitter=random, ada__n_estimators=100, cvec__max_features=2000 \n",
      "[CV]  ada__base_estimator__min_samples_leaf=5, ada__base_estimator__min_samples_split=10, ada__base_estimator__splitter=random, ada__n_estimators=100, cvec__max_features=2000, total=   3.2s\n",
      "[CV] ada__base_estimator__min_samples_leaf=5, ada__base_estimator__min_samples_split=10, ada__base_estimator__splitter=random, ada__n_estimators=200, cvec__max_features=None \n",
      "[CV]  ada__base_estimator__min_samples_leaf=5, ada__base_estimator__min_samples_split=10, ada__base_estimator__splitter=random, ada__n_estimators=200, cvec__max_features=None, total=  23.4s\n",
      "[CV] ada__base_estimator__min_samples_leaf=5, ada__base_estimator__min_samples_split=10, ada__base_estimator__splitter=random, ada__n_estimators=200, cvec__max_features=None \n",
      "[CV]  ada__base_estimator__min_samples_leaf=5, ada__base_estimator__min_samples_split=10, ada__base_estimator__splitter=random, ada__n_estimators=200, cvec__max_features=None, total=  24.2s\n",
      "[CV] ada__base_estimator__min_samples_leaf=5, ada__base_estimator__min_samples_split=10, ada__base_estimator__splitter=random, ada__n_estimators=200, cvec__max_features=None \n",
      "[CV]  ada__base_estimator__min_samples_leaf=5, ada__base_estimator__min_samples_split=10, ada__base_estimator__splitter=random, ada__n_estimators=200, cvec__max_features=None, total=  23.6s\n",
      "[CV] ada__base_estimator__min_samples_leaf=5, ada__base_estimator__min_samples_split=10, ada__base_estimator__splitter=random, ada__n_estimators=200, cvec__max_features=2000 \n",
      "[CV]  ada__base_estimator__min_samples_leaf=5, ada__base_estimator__min_samples_split=10, ada__base_estimator__splitter=random, ada__n_estimators=200, cvec__max_features=2000, total=   4.0s\n",
      "[CV] ada__base_estimator__min_samples_leaf=5, ada__base_estimator__min_samples_split=10, ada__base_estimator__splitter=random, ada__n_estimators=200, cvec__max_features=2000 \n",
      "[CV]  ada__base_estimator__min_samples_leaf=5, ada__base_estimator__min_samples_split=10, ada__base_estimator__splitter=random, ada__n_estimators=200, cvec__max_features=2000, total=   4.2s\n",
      "[CV] ada__base_estimator__min_samples_leaf=5, ada__base_estimator__min_samples_split=10, ada__base_estimator__splitter=random, ada__n_estimators=200, cvec__max_features=2000 \n"
     ]
    },
    {
     "name": "stdout",
     "output_type": "stream",
     "text": [
      "[CV]  ada__base_estimator__min_samples_leaf=5, ada__base_estimator__min_samples_split=10, ada__base_estimator__splitter=random, ada__n_estimators=200, cvec__max_features=2000, total=   3.8s\n"
     ]
    },
    {
     "name": "stderr",
     "output_type": "stream",
     "text": [
      "[Parallel(n_jobs=1)]: Done 324 out of 324 | elapsed: 67.3min finished\n"
     ]
    },
    {
     "name": "stdout",
     "output_type": "stream",
     "text": [
      "Train Accuracy:  0.9895439508506616\n",
      "Test Accuracy:  0.7269183058656743\n",
      "BP:  {'ada__base_estimator__min_samples_leaf': 1, 'ada__base_estimator__min_samples_split': 2, 'ada__base_estimator__splitter': 'random', 'ada__n_estimators': 50, 'cvec__max_features': None}\n"
     ]
    }
   ],
   "source": [
    "ada_post_results = {} \n",
    "\n",
    "grid = GridSearchCV(pipe, ada_pipe_params, cv=3, verbose = 2) \n",
    "grid.fit(X_train, y_train) \n",
    "\n",
    "print('Train Accuracy: ',grid.score(X_train, y_train))\n",
    "ada_post_results['train_accuracy'] = grid.score(X_train, y_train) \n",
    "\n",
    "print('Test Accuracy: ',grid.score(X_test, y_test))\n",
    "ada_post_results['test_accuracy'] = grid.score(X_test, y_test) \n",
    "\n",
    "print('BP: ',grid.best_params_)\n",
    "ada_post_results['bp'] = grid.best_params_ "
   ]
  },
  {
   "cell_type": "code",
   "execution_count": 176,
   "metadata": {},
   "outputs": [
    {
     "data": {
      "text/plain": [
       "0.9895439508506616"
      ]
     },
     "execution_count": 176,
     "metadata": {},
     "output_type": "execute_result"
    }
   ],
   "source": [
    "ada_post_results['train_accuracy']"
   ]
  },
  {
   "cell_type": "code",
   "execution_count": 177,
   "metadata": {},
   "outputs": [
    {
     "data": {
      "text/plain": [
       "0.7269183058656743"
      ]
     },
     "execution_count": 177,
     "metadata": {},
     "output_type": "execute_result"
    }
   ],
   "source": [
    "ada_post_results['test_accuracy']"
   ]
  },
  {
   "cell_type": "code",
   "execution_count": 175,
   "metadata": {},
   "outputs": [
    {
     "data": {
      "text/plain": [
       "{'ada__base_estimator__min_samples_leaf': 1,\n",
       " 'ada__base_estimator__min_samples_split': 2,\n",
       " 'ada__base_estimator__splitter': 'random',\n",
       " 'ada__n_estimators': 50,\n",
       " 'cvec__max_features': None}"
      ]
     },
     "execution_count": 175,
     "metadata": {},
     "output_type": "execute_result"
    }
   ],
   "source": [
    "grid.best_params_"
   ]
  },
  {
   "cell_type": "code",
   "execution_count": 178,
   "metadata": {},
   "outputs": [
    {
     "data": {
      "text/plain": [
       "0.7219407225066533"
      ]
     },
     "execution_count": 178,
     "metadata": {},
     "output_type": "execute_result"
    }
   ],
   "source": [
    "grid.best_score_"
   ]
  },
  {
   "cell_type": "code",
   "execution_count": 179,
   "metadata": {},
   "outputs": [
    {
     "data": {
      "image/png": "[encoded data removed]",
      "text/plain": [
       "<Figure size 432x288 with 2 Axes>"
      ]
     },
     "metadata": {
      "needs_background": "light"
     },
     "output_type": "display_data"
    }
   ],
   "source": [
    "class_names = ['FB', 'APPL', 'AMZN', 'GOOG', 'MSFT']\n",
    "disp = plot_confusion_matrix(grid.best_estimator_, X_test, y_test,\n",
    "                                 display_labels=class_names,\n",
    "                                 cmap=plt.cm.Blues)\n",
    "plt.show()"
   ]
  },
  {
   "cell_type": "markdown",
   "metadata": {},
   "source": [
    "# Final Model: VotingClassifier using Stacking"
   ]
  },
  {
   "cell_type": "markdown",
   "metadata": {},
   "source": [
    "### Optimized Model Features\n",
    "#### Model 1: Multinomial Naive-Bayes\n",
    "\n",
    "- Lemmatizer\n",
    "- CountVectorizer\n",
    "- stop_words='english'\n",
    "- max_df = 0.9\n",
    "- min_df = 2\n",
    "- max_features = None\n",
    "- ngram_range=(1,2)\n",
    "- mnb__alpha =0.1 \n",
    "\n",
    "\n",
    "#### Model 2: Random Forest\n",
    "\n",
    "- Lemmatizer\n",
    "- CountVectorizer\n",
    "- stop_words='english'\n",
    "- ngram_range=(1,2)\n",
    "- max_features = None\n",
    "- rf_min_samples_split = 5\n",
    "- rf_max_depth = None\n",
    "- rf_n_estimators = 200\n",
    "\n",
    "#### Model 3: Support Vector Machine\n",
    "\n",
    "- Lemmatizer\n",
    "- CountVectorizer\n",
    "- stop_words='english'\n",
    "- ngram_range=(1,2)\n",
    "- max_features = None\n",
    "- svc_C = 0.1\n",
    "- svc_degree = 2\n",
    "- svc_kernel = linear"
   ]
  },
  {
   "cell_type": "code",
   "execution_count": 196,
   "metadata": {},
   "outputs": [],
   "source": [
    "from sklearn.ensemble import VotingClassifier\n",
    "\n",
    "pipe_1 = Pipeline([('cvec', CountVectorizer(stop_words = 'english', max_df = 0.9, min_df = 2, ngram_range= (1,2))), \n",
    "               ('mnb', MultinomialNB(alpha= 0.1))])\n",
    "pipe_2 = Pipeline([('cvec', CountVectorizer(stop_words = 'english', ngram_range= (1,2), max_features= None)), \n",
    "               ('rf', RandomForestClassifier(random_state = 42, min_samples_split= 5, max_depth=None, n_estimators = 200))])\n",
    "pipe_3 = Pipeline([('cvec', CountVectorizer(stop_words = 'english', ngram_range = (1,2))), \n",
    "               ('svc', SVC(C=0.1, degree= 2, kernel= 'linear'))])\n",
    "\n",
    "pipe_4 = Pipeline([('cv',CountVectorizer(stop_words = 'english')),\n",
    "                  ('scaler',StandardScaler(with_mean=False)),\n",
    "                  ('logreg',LogisticRegression())])\n",
    "\n",
    "pipe_5 = Pipeline([('cv',CountVectorizer()),('ada',AdaBoostClassifier(base_estimator= DecisionTreeClassifier(min_samples_leaf= 1,\n",
    "                                                                                                   min_samples_split = 2,\n",
    "                                                                                                   splitter= 'random'),n_estimators=50))])\n",
    "\n",
    "pipe_6 = Pipeline([('cv',CountVectorizer(stop_words = 'english', ngram_range= (1,2))),('gb',GradientBoostingClassifier())])"
   ]
  },
  {
   "cell_type": "code",
   "execution_count": 203,
   "metadata": {},
   "outputs": [],
   "source": [
    "model = VotingClassifier([\n",
    "    ('mnb', pipe_1),\n",
    "    ('rf', pipe_2),\n",
    "    ('svc', pipe_3),\n",
    "    ('lr', pipe_4),\n",
    "    ('ada', pipe_5),\n",
    "    ('gr', pipe_6)\n",
    "], voting= 'soft')"
   ]
  },
  {
   "cell_type": "code",
   "execution_count": 199,
   "metadata": {
    "scrolled": true
   },
   "outputs": [
    {
     "data": {
      "text/plain": [
       "VotingClassifier(estimators=[('mnb',\n",
       "                              Pipeline(steps=[('cvec',\n",
       "                                               CountVectorizer(max_df=0.9,\n",
       "                                                               min_df=2,\n",
       "                                                               ngram_range=(1,\n",
       "                                                                            2),\n",
       "                                                               stop_words='english')),\n",
       "                                              ('mnb',\n",
       "                                               MultinomialNB(alpha=0.1))])),\n",
       "                             ('rf',\n",
       "                              Pipeline(steps=[('cvec',\n",
       "                                               CountVectorizer(ngram_range=(1,\n",
       "                                                                            2),\n",
       "                                                               stop_words='english')),\n",
       "                                              ('rf',\n",
       "                                               RandomForestClassifier(min_samples_split=5,\n",
       "                                                                      n_estimators=200,\n",
       "                                                                      random_state=42))])),\n",
       "                             ('s...\n",
       "                                               CountVectorizer(stop_words='english')),\n",
       "                                              ('scaler',\n",
       "                                               StandardScaler(with_mean=False)),\n",
       "                                              ('logreg',\n",
       "                                               LogisticRegression())])),\n",
       "                             ('ada',\n",
       "                              Pipeline(steps=[('cv', CountVectorizer()),\n",
       "                                              ('ada',\n",
       "                                               AdaBoostClassifier(base_estimator=DecisionTreeClassifier(splitter='random')))])),\n",
       "                             ('gr',\n",
       "                              Pipeline(steps=[('cv',\n",
       "                                               CountVectorizer(ngram_range=(1,\n",
       "                                                                            2),\n",
       "                                                               stop_words='english')),\n",
       "                                              ('gb',\n",
       "                                               GradientBoostingClassifier())]))])"
      ]
     },
     "execution_count": 199,
     "metadata": {},
     "output_type": "execute_result"
    }
   ],
   "source": [
    "model.fit(X_train, y_train)"
   ]
  },
  {
   "cell_type": "code",
   "execution_count": 200,
   "metadata": {},
   "outputs": [
    {
     "data": {
      "text/plain": [
       "0.9760160680529301"
      ]
     },
     "execution_count": 200,
     "metadata": {},
     "output_type": "execute_result"
    }
   ],
   "source": [
    "model.score(X_train, y_train)"
   ]
  },
  {
   "cell_type": "code",
   "execution_count": 201,
   "metadata": {},
   "outputs": [
    {
     "data": {
      "text/plain": [
       "0.7756512493354598"
      ]
     },
     "execution_count": 201,
     "metadata": {},
     "output_type": "execute_result"
    }
   ],
   "source": [
    "model.score(X_test, y_test)"
   ]
  },
  {
   "cell_type": "markdown",
   "metadata": {},
   "source": [
    "### Soft Voting"
   ]
  },
  {
   "cell_type": "code",
   "execution_count": 208,
   "metadata": {},
   "outputs": [],
   "source": [
    "#make probability = True for soft voting\n",
    "pipe_3 = Pipeline([('cvec', CountVectorizer(stop_words = 'english', ngram_range = (1,2))), \n",
    "               ('svc', SVC(C=0.1, degree= 2, kernel= 'linear', probability= True))])\n",
    "\n",
    "model = VotingClassifier([\n",
    "    ('mnb', pipe_1),\n",
    "    ('rf', pipe_2),\n",
    "    ('svc', pipe_3),\n",
    "    ('lr', pipe_4),\n",
    "    ('ada', pipe_5),\n",
    "    ('gr', pipe_6)\n",
    "], voting= 'soft')"
   ]
  },
  {
   "cell_type": "code",
   "execution_count": 209,
   "metadata": {
    "scrolled": true
   },
   "outputs": [
    {
     "data": {
      "text/plain": [
       "VotingClassifier(estimators=[('mnb',\n",
       "                              Pipeline(steps=[('cvec',\n",
       "                                               CountVectorizer(max_df=0.9,\n",
       "                                                               min_df=2,\n",
       "                                                               ngram_range=(1,\n",
       "                                                                            2),\n",
       "                                                               stop_words='english')),\n",
       "                                              ('mnb',\n",
       "                                               MultinomialNB(alpha=0.1))])),\n",
       "                             ('rf',\n",
       "                              Pipeline(steps=[('cvec',\n",
       "                                               CountVectorizer(ngram_range=(1,\n",
       "                                                                            2),\n",
       "                                                               stop_words='english')),\n",
       "                                              ('rf',\n",
       "                                               RandomForestClassifier(min_samples_split=5,\n",
       "                                                                      n_estimators=200,\n",
       "                                                                      random_state=42))])),\n",
       "                             ('s...\n",
       "                                              ('scaler',\n",
       "                                               StandardScaler(with_mean=False)),\n",
       "                                              ('logreg',\n",
       "                                               LogisticRegression())])),\n",
       "                             ('ada',\n",
       "                              Pipeline(steps=[('cv', CountVectorizer()),\n",
       "                                              ('ada',\n",
       "                                               AdaBoostClassifier(base_estimator=DecisionTreeClassifier(splitter='random')))])),\n",
       "                             ('gr',\n",
       "                              Pipeline(steps=[('cv',\n",
       "                                               CountVectorizer(ngram_range=(1,\n",
       "                                                                            2),\n",
       "                                                               stop_words='english')),\n",
       "                                              ('gb',\n",
       "                                               GradientBoostingClassifier())]))],\n",
       "                 voting='soft')"
      ]
     },
     "execution_count": 209,
     "metadata": {},
     "output_type": "execute_result"
    }
   ],
   "source": [
    "model.fit(X_train, y_train)"
   ]
  },
  {
   "cell_type": "code",
   "execution_count": 210,
   "metadata": {
    "scrolled": true
   },
   "outputs": [
    {
     "data": {
      "text/plain": [
       "0.9848180529300568"
      ]
     },
     "execution_count": 210,
     "metadata": {},
     "output_type": "execute_result"
    }
   ],
   "source": [
    "model.score(X_train, y_train)"
   ]
  },
  {
   "cell_type": "code",
   "execution_count": 211,
   "metadata": {},
   "outputs": [
    {
     "data": {
      "text/plain": [
       "0.795498848130427"
      ]
     },
     "execution_count": 211,
     "metadata": {},
     "output_type": "execute_result"
    }
   ],
   "source": [
    "model.score(X_test, y_test)"
   ]
  }
 ],
 "metadata": {
  "kernelspec": {
   "display_name": "Python 3",
   "language": "python",
   "name": "python3"
  },
  "language_info": {
   "codemirror_mode": {
    "name": "ipython",
    "version": 3
   },
   "file_extension": ".py",
   "mimetype": "text/x-python",
   "name": "python",
   "nbconvert_exporter": "python",
   "pygments_lexer": "ipython3",
   "version": "3.8.5"
  }
 },
 "nbformat": 4,
 "nbformat_minor": 4
}
