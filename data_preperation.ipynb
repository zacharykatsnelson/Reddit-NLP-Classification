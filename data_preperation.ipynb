{
 "cells": [
  {
   "cell_type": "markdown",
   "metadata": {},
   "source": [
    "# Setup"
   ]
  },
  {
   "cell_type": "code",
   "execution_count": 227,
   "metadata": {},
   "outputs": [],
   "source": [
    "import numpy as np\n",
    "import pandas as pd\n",
    "import requests\n",
    "import time\n",
    "import datetime as dt\n",
    "import json\n",
    "import re"
   ]
  },
  {
   "cell_type": "markdown",
   "metadata": {},
   "source": [
    "# Data Collection"
   ]
  },
  {
   "cell_type": "code",
   "execution_count": 21,
   "metadata": {},
   "outputs": [],
   "source": [
    "def pushshift(subreddit, post_type, loops=1, size=100):\n",
    "# subreddit: name of subreddit (str)\n",
    "# post_type: 'submission' or 'comment'. \n",
    "# loops: number of times to request posts (int)\n",
    "# size: number of posts per request (maximum 100) (int)\n",
    "\n",
    "    # submissions\n",
    "    submission = ['id', 'title', 'selftext', 'subreddit']    \n",
    "    \n",
    "    #  comments\n",
    "    comment = ['id', 'body', 'created_utc', 'subreddit']\n",
    "    \n",
    "    # instantiate list\n",
    "    list_posts = [] \n",
    "    base_url = \"https://api.pushshift.io/reddit/search/{}/?subreddit={}&size={}\".format(post_type, subreddit, size)\n",
    "\n",
    "    # error exception\n",
    "    if post_type not in ['submission', 'comment']:\n",
    "        return None\n",
    "    \n",
    "    for i in range(loops):\n",
    "        url = '{}&after={}d'.format(base_url, i) \n",
    "        print(i, url)\n",
    "        res = requests.get(url)\n",
    "        list_posts.extend(res.json()['data']) \n",
    "        time.sleep(1) \n",
    "    \n",
    "    #turn list_posts into a dataframe. each row corresponds to a post\n",
    "    df_posts = pd.DataFrame.from_dict(list_posts)\n",
    "\n",
    "    # filter fields\n",
    "    if post_type == 'submission':\n",
    "        df_posts = df_posts[submission]\n",
    "    elif post_type == 'comment':\n",
    "        df_posts = df_posts[comment]  \n",
    "\n",
    "    # drop duplicates\n",
    "    df_posts.drop_duplicates(inplace=True)\n",
    "    \n",
    "    # identify post type\n",
    "    df_posts['post_type'] = post_type\n",
    "    \n",
    "    return df_posts"
   ]
  },
  {
   "cell_type": "code",
   "execution_count": 22,
   "metadata": {
    "scrolled": true
   },
   "outputs": [
    {
     "name": "stdout",
     "output_type": "stream",
     "text": [
      "0 https://api.pushshift.io/reddit/search/submission/?subreddit=apple&size=100&after=0d\n",
      "1 https://api.pushshift.io/reddit/search/submission/?subreddit=apple&size=100&after=1d\n",
      "2 https://api.pushshift.io/reddit/search/submission/?subreddit=apple&size=100&after=2d\n",
      "3 https://api.pushshift.io/reddit/search/submission/?subreddit=apple&size=100&after=3d\n",
      "4 https://api.pushshift.io/reddit/search/submission/?subreddit=apple&size=100&after=4d\n",
      "5 https://api.pushshift.io/reddit/search/submission/?subreddit=apple&size=100&after=5d\n",
      "6 https://api.pushshift.io/reddit/search/submission/?subreddit=apple&size=100&after=6d\n",
      "7 https://api.pushshift.io/reddit/search/submission/?subreddit=apple&size=100&after=7d\n",
      "8 https://api.pushshift.io/reddit/search/submission/?subreddit=apple&size=100&after=8d\n",
      "9 https://api.pushshift.io/reddit/search/submission/?subreddit=apple&size=100&after=9d\n",
      "10 https://api.pushshift.io/reddit/search/submission/?subreddit=apple&size=100&after=10d\n",
      "11 https://api.pushshift.io/reddit/search/submission/?subreddit=apple&size=100&after=11d\n",
      "12 https://api.pushshift.io/reddit/search/submission/?subreddit=apple&size=100&after=12d\n",
      "13 https://api.pushshift.io/reddit/search/submission/?subreddit=apple&size=100&after=13d\n",
      "14 https://api.pushshift.io/reddit/search/submission/?subreddit=apple&size=100&after=14d\n",
      "15 https://api.pushshift.io/reddit/search/submission/?subreddit=apple&size=100&after=15d\n",
      "16 https://api.pushshift.io/reddit/search/submission/?subreddit=apple&size=100&after=16d\n",
      "17 https://api.pushshift.io/reddit/search/submission/?subreddit=apple&size=100&after=17d\n",
      "18 https://api.pushshift.io/reddit/search/submission/?subreddit=apple&size=100&after=18d\n",
      "19 https://api.pushshift.io/reddit/search/submission/?subreddit=apple&size=100&after=19d\n",
      "20 https://api.pushshift.io/reddit/search/submission/?subreddit=apple&size=100&after=20d\n",
      "21 https://api.pushshift.io/reddit/search/submission/?subreddit=apple&size=100&after=21d\n",
      "22 https://api.pushshift.io/reddit/search/submission/?subreddit=apple&size=100&after=22d\n",
      "23 https://api.pushshift.io/reddit/search/submission/?subreddit=apple&size=100&after=23d\n",
      "24 https://api.pushshift.io/reddit/search/submission/?subreddit=apple&size=100&after=24d\n",
      "25 https://api.pushshift.io/reddit/search/submission/?subreddit=apple&size=100&after=25d\n",
      "26 https://api.pushshift.io/reddit/search/submission/?subreddit=apple&size=100&after=26d\n",
      "27 https://api.pushshift.io/reddit/search/submission/?subreddit=apple&size=100&after=27d\n",
      "28 https://api.pushshift.io/reddit/search/submission/?subreddit=apple&size=100&after=28d\n",
      "29 https://api.pushshift.io/reddit/search/submission/?subreddit=apple&size=100&after=29d\n",
      "30 https://api.pushshift.io/reddit/search/submission/?subreddit=apple&size=100&after=30d\n",
      "31 https://api.pushshift.io/reddit/search/submission/?subreddit=apple&size=100&after=31d\n",
      "32 https://api.pushshift.io/reddit/search/submission/?subreddit=apple&size=100&after=32d\n",
      "33 https://api.pushshift.io/reddit/search/submission/?subreddit=apple&size=100&after=33d\n",
      "34 https://api.pushshift.io/reddit/search/submission/?subreddit=apple&size=100&after=34d\n",
      "35 https://api.pushshift.io/reddit/search/submission/?subreddit=apple&size=100&after=35d\n",
      "36 https://api.pushshift.io/reddit/search/submission/?subreddit=apple&size=100&after=36d\n",
      "37 https://api.pushshift.io/reddit/search/submission/?subreddit=apple&size=100&after=37d\n",
      "38 https://api.pushshift.io/reddit/search/submission/?subreddit=apple&size=100&after=38d\n",
      "39 https://api.pushshift.io/reddit/search/submission/?subreddit=apple&size=100&after=39d\n",
      "40 https://api.pushshift.io/reddit/search/submission/?subreddit=apple&size=100&after=40d\n",
      "41 https://api.pushshift.io/reddit/search/submission/?subreddit=apple&size=100&after=41d\n",
      "42 https://api.pushshift.io/reddit/search/submission/?subreddit=apple&size=100&after=42d\n",
      "43 https://api.pushshift.io/reddit/search/submission/?subreddit=apple&size=100&after=43d\n",
      "44 https://api.pushshift.io/reddit/search/submission/?subreddit=apple&size=100&after=44d\n",
      "45 https://api.pushshift.io/reddit/search/submission/?subreddit=apple&size=100&after=45d\n",
      "46 https://api.pushshift.io/reddit/search/submission/?subreddit=apple&size=100&after=46d\n",
      "47 https://api.pushshift.io/reddit/search/submission/?subreddit=apple&size=100&after=47d\n",
      "48 https://api.pushshift.io/reddit/search/submission/?subreddit=apple&size=100&after=48d\n",
      "49 https://api.pushshift.io/reddit/search/submission/?subreddit=apple&size=100&after=49d\n",
      "shape (4851, 5)\n"
     ]
    }
   ],
   "source": [
    "apple = pushshift('apple', post_type='submission', loops=50)\n",
    "print('shape', apple.shape)\n",
    "apple.to_csv('apple.csv')"
   ]
  },
  {
   "cell_type": "code",
   "execution_count": 23,
   "metadata": {
    "scrolled": true
   },
   "outputs": [
    {
     "name": "stdout",
     "output_type": "stream",
     "text": [
      "0 https://api.pushshift.io/reddit/search/submission/?subreddit=microsoft&size=100&after=0d\n",
      "1 https://api.pushshift.io/reddit/search/submission/?subreddit=microsoft&size=100&after=1d\n",
      "2 https://api.pushshift.io/reddit/search/submission/?subreddit=microsoft&size=100&after=2d\n",
      "3 https://api.pushshift.io/reddit/search/submission/?subreddit=microsoft&size=100&after=3d\n",
      "4 https://api.pushshift.io/reddit/search/submission/?subreddit=microsoft&size=100&after=4d\n",
      "5 https://api.pushshift.io/reddit/search/submission/?subreddit=microsoft&size=100&after=5d\n",
      "6 https://api.pushshift.io/reddit/search/submission/?subreddit=microsoft&size=100&after=6d\n",
      "7 https://api.pushshift.io/reddit/search/submission/?subreddit=microsoft&size=100&after=7d\n",
      "8 https://api.pushshift.io/reddit/search/submission/?subreddit=microsoft&size=100&after=8d\n",
      "9 https://api.pushshift.io/reddit/search/submission/?subreddit=microsoft&size=100&after=9d\n",
      "10 https://api.pushshift.io/reddit/search/submission/?subreddit=microsoft&size=100&after=10d\n",
      "11 https://api.pushshift.io/reddit/search/submission/?subreddit=microsoft&size=100&after=11d\n",
      "12 https://api.pushshift.io/reddit/search/submission/?subreddit=microsoft&size=100&after=12d\n",
      "13 https://api.pushshift.io/reddit/search/submission/?subreddit=microsoft&size=100&after=13d\n",
      "14 https://api.pushshift.io/reddit/search/submission/?subreddit=microsoft&size=100&after=14d\n",
      "15 https://api.pushshift.io/reddit/search/submission/?subreddit=microsoft&size=100&after=15d\n",
      "16 https://api.pushshift.io/reddit/search/submission/?subreddit=microsoft&size=100&after=16d\n",
      "17 https://api.pushshift.io/reddit/search/submission/?subreddit=microsoft&size=100&after=17d\n",
      "18 https://api.pushshift.io/reddit/search/submission/?subreddit=microsoft&size=100&after=18d\n",
      "19 https://api.pushshift.io/reddit/search/submission/?subreddit=microsoft&size=100&after=19d\n",
      "20 https://api.pushshift.io/reddit/search/submission/?subreddit=microsoft&size=100&after=20d\n",
      "21 https://api.pushshift.io/reddit/search/submission/?subreddit=microsoft&size=100&after=21d\n",
      "22 https://api.pushshift.io/reddit/search/submission/?subreddit=microsoft&size=100&after=22d\n",
      "23 https://api.pushshift.io/reddit/search/submission/?subreddit=microsoft&size=100&after=23d\n",
      "24 https://api.pushshift.io/reddit/search/submission/?subreddit=microsoft&size=100&after=24d\n",
      "25 https://api.pushshift.io/reddit/search/submission/?subreddit=microsoft&size=100&after=25d\n",
      "26 https://api.pushshift.io/reddit/search/submission/?subreddit=microsoft&size=100&after=26d\n",
      "27 https://api.pushshift.io/reddit/search/submission/?subreddit=microsoft&size=100&after=27d\n",
      "28 https://api.pushshift.io/reddit/search/submission/?subreddit=microsoft&size=100&after=28d\n",
      "29 https://api.pushshift.io/reddit/search/submission/?subreddit=microsoft&size=100&after=29d\n",
      "30 https://api.pushshift.io/reddit/search/submission/?subreddit=microsoft&size=100&after=30d\n",
      "31 https://api.pushshift.io/reddit/search/submission/?subreddit=microsoft&size=100&after=31d\n",
      "32 https://api.pushshift.io/reddit/search/submission/?subreddit=microsoft&size=100&after=32d\n",
      "33 https://api.pushshift.io/reddit/search/submission/?subreddit=microsoft&size=100&after=33d\n",
      "34 https://api.pushshift.io/reddit/search/submission/?subreddit=microsoft&size=100&after=34d\n",
      "35 https://api.pushshift.io/reddit/search/submission/?subreddit=microsoft&size=100&after=35d\n",
      "36 https://api.pushshift.io/reddit/search/submission/?subreddit=microsoft&size=100&after=36d\n",
      "37 https://api.pushshift.io/reddit/search/submission/?subreddit=microsoft&size=100&after=37d\n",
      "38 https://api.pushshift.io/reddit/search/submission/?subreddit=microsoft&size=100&after=38d\n",
      "39 https://api.pushshift.io/reddit/search/submission/?subreddit=microsoft&size=100&after=39d\n",
      "40 https://api.pushshift.io/reddit/search/submission/?subreddit=microsoft&size=100&after=40d\n",
      "41 https://api.pushshift.io/reddit/search/submission/?subreddit=microsoft&size=100&after=41d\n",
      "42 https://api.pushshift.io/reddit/search/submission/?subreddit=microsoft&size=100&after=42d\n",
      "43 https://api.pushshift.io/reddit/search/submission/?subreddit=microsoft&size=100&after=43d\n",
      "44 https://api.pushshift.io/reddit/search/submission/?subreddit=microsoft&size=100&after=44d\n",
      "45 https://api.pushshift.io/reddit/search/submission/?subreddit=microsoft&size=100&after=45d\n",
      "46 https://api.pushshift.io/reddit/search/submission/?subreddit=microsoft&size=100&after=46d\n",
      "47 https://api.pushshift.io/reddit/search/submission/?subreddit=microsoft&size=100&after=47d\n",
      "48 https://api.pushshift.io/reddit/search/submission/?subreddit=microsoft&size=100&after=48d\n",
      "49 https://api.pushshift.io/reddit/search/submission/?subreddit=microsoft&size=100&after=49d\n",
      "shape (4809, 5)\n"
     ]
    }
   ],
   "source": [
    "microsoft = pushshift('microsoft', post_type='submission', loops=50)\n",
    "print('shape', microsoft.shape)\n",
    "apple.to_csv('microsoft.csv')"
   ]
  },
  {
   "cell_type": "code",
   "execution_count": 31,
   "metadata": {
    "scrolled": true
   },
   "outputs": [
    {
     "name": "stdout",
     "output_type": "stream",
     "text": [
      "0 https://api.pushshift.io/reddit/search/submission/?subreddit=facebook&size=100&after=0d\n",
      "1 https://api.pushshift.io/reddit/search/submission/?subreddit=facebook&size=100&after=1d\n",
      "2 https://api.pushshift.io/reddit/search/submission/?subreddit=facebook&size=100&after=2d\n",
      "3 https://api.pushshift.io/reddit/search/submission/?subreddit=facebook&size=100&after=3d\n",
      "4 https://api.pushshift.io/reddit/search/submission/?subreddit=facebook&size=100&after=4d\n",
      "5 https://api.pushshift.io/reddit/search/submission/?subreddit=facebook&size=100&after=5d\n",
      "6 https://api.pushshift.io/reddit/search/submission/?subreddit=facebook&size=100&after=6d\n",
      "7 https://api.pushshift.io/reddit/search/submission/?subreddit=facebook&size=100&after=7d\n",
      "8 https://api.pushshift.io/reddit/search/submission/?subreddit=facebook&size=100&after=8d\n",
      "9 https://api.pushshift.io/reddit/search/submission/?subreddit=facebook&size=100&after=9d\n",
      "10 https://api.pushshift.io/reddit/search/submission/?subreddit=facebook&size=100&after=10d\n",
      "11 https://api.pushshift.io/reddit/search/submission/?subreddit=facebook&size=100&after=11d\n",
      "12 https://api.pushshift.io/reddit/search/submission/?subreddit=facebook&size=100&after=12d\n",
      "13 https://api.pushshift.io/reddit/search/submission/?subreddit=facebook&size=100&after=13d\n",
      "14 https://api.pushshift.io/reddit/search/submission/?subreddit=facebook&size=100&after=14d\n",
      "15 https://api.pushshift.io/reddit/search/submission/?subreddit=facebook&size=100&after=15d\n",
      "16 https://api.pushshift.io/reddit/search/submission/?subreddit=facebook&size=100&after=16d\n",
      "17 https://api.pushshift.io/reddit/search/submission/?subreddit=facebook&size=100&after=17d\n",
      "18 https://api.pushshift.io/reddit/search/submission/?subreddit=facebook&size=100&after=18d\n",
      "19 https://api.pushshift.io/reddit/search/submission/?subreddit=facebook&size=100&after=19d\n",
      "20 https://api.pushshift.io/reddit/search/submission/?subreddit=facebook&size=100&after=20d\n",
      "21 https://api.pushshift.io/reddit/search/submission/?subreddit=facebook&size=100&after=21d\n",
      "22 https://api.pushshift.io/reddit/search/submission/?subreddit=facebook&size=100&after=22d\n",
      "23 https://api.pushshift.io/reddit/search/submission/?subreddit=facebook&size=100&after=23d\n",
      "24 https://api.pushshift.io/reddit/search/submission/?subreddit=facebook&size=100&after=24d\n",
      "25 https://api.pushshift.io/reddit/search/submission/?subreddit=facebook&size=100&after=25d\n",
      "26 https://api.pushshift.io/reddit/search/submission/?subreddit=facebook&size=100&after=26d\n",
      "27 https://api.pushshift.io/reddit/search/submission/?subreddit=facebook&size=100&after=27d\n",
      "28 https://api.pushshift.io/reddit/search/submission/?subreddit=facebook&size=100&after=28d\n",
      "29 https://api.pushshift.io/reddit/search/submission/?subreddit=facebook&size=100&after=29d\n",
      "30 https://api.pushshift.io/reddit/search/submission/?subreddit=facebook&size=100&after=30d\n",
      "31 https://api.pushshift.io/reddit/search/submission/?subreddit=facebook&size=100&after=31d\n",
      "32 https://api.pushshift.io/reddit/search/submission/?subreddit=facebook&size=100&after=32d\n",
      "33 https://api.pushshift.io/reddit/search/submission/?subreddit=facebook&size=100&after=33d\n",
      "34 https://api.pushshift.io/reddit/search/submission/?subreddit=facebook&size=100&after=34d\n",
      "35 https://api.pushshift.io/reddit/search/submission/?subreddit=facebook&size=100&after=35d\n",
      "36 https://api.pushshift.io/reddit/search/submission/?subreddit=facebook&size=100&after=36d\n",
      "37 https://api.pushshift.io/reddit/search/submission/?subreddit=facebook&size=100&after=37d\n",
      "38 https://api.pushshift.io/reddit/search/submission/?subreddit=facebook&size=100&after=38d\n",
      "39 https://api.pushshift.io/reddit/search/submission/?subreddit=facebook&size=100&after=39d\n",
      "40 https://api.pushshift.io/reddit/search/submission/?subreddit=facebook&size=100&after=40d\n",
      "41 https://api.pushshift.io/reddit/search/submission/?subreddit=facebook&size=100&after=41d\n",
      "42 https://api.pushshift.io/reddit/search/submission/?subreddit=facebook&size=100&after=42d\n",
      "43 https://api.pushshift.io/reddit/search/submission/?subreddit=facebook&size=100&after=43d\n",
      "44 https://api.pushshift.io/reddit/search/submission/?subreddit=facebook&size=100&after=44d\n",
      "45 https://api.pushshift.io/reddit/search/submission/?subreddit=facebook&size=100&after=45d\n",
      "46 https://api.pushshift.io/reddit/search/submission/?subreddit=facebook&size=100&after=46d\n",
      "47 https://api.pushshift.io/reddit/search/submission/?subreddit=facebook&size=100&after=47d\n",
      "48 https://api.pushshift.io/reddit/search/submission/?subreddit=facebook&size=100&after=48d\n",
      "49 https://api.pushshift.io/reddit/search/submission/?subreddit=facebook&size=100&after=49d\n",
      "50 https://api.pushshift.io/reddit/search/submission/?subreddit=facebook&size=100&after=50d\n",
      "51 https://api.pushshift.io/reddit/search/submission/?subreddit=facebook&size=100&after=51d\n",
      "52 https://api.pushshift.io/reddit/search/submission/?subreddit=facebook&size=100&after=52d\n",
      "53 https://api.pushshift.io/reddit/search/submission/?subreddit=facebook&size=100&after=53d\n",
      "54 https://api.pushshift.io/reddit/search/submission/?subreddit=facebook&size=100&after=54d\n",
      "shape (4932, 5)\n"
     ]
    }
   ],
   "source": [
    "facebook = pushshift('facebook', post_type='submission', loops=50)\n",
    "print('shape', facebook.shape)\n",
    "facebook.to_csv('facebook.csv')"
   ]
  },
  {
   "cell_type": "code",
   "execution_count": 33,
   "metadata": {
    "scrolled": true
   },
   "outputs": [
    {
     "name": "stdout",
     "output_type": "stream",
     "text": [
      "0 https://api.pushshift.io/reddit/search/submission/?subreddit=amazon&size=100&after=0d\n",
      "1 https://api.pushshift.io/reddit/search/submission/?subreddit=amazon&size=100&after=1d\n",
      "2 https://api.pushshift.io/reddit/search/submission/?subreddit=amazon&size=100&after=2d\n",
      "3 https://api.pushshift.io/reddit/search/submission/?subreddit=amazon&size=100&after=3d\n",
      "4 https://api.pushshift.io/reddit/search/submission/?subreddit=amazon&size=100&after=4d\n",
      "5 https://api.pushshift.io/reddit/search/submission/?subreddit=amazon&size=100&after=5d\n",
      "6 https://api.pushshift.io/reddit/search/submission/?subreddit=amazon&size=100&after=6d\n",
      "7 https://api.pushshift.io/reddit/search/submission/?subreddit=amazon&size=100&after=7d\n",
      "8 https://api.pushshift.io/reddit/search/submission/?subreddit=amazon&size=100&after=8d\n",
      "9 https://api.pushshift.io/reddit/search/submission/?subreddit=amazon&size=100&after=9d\n",
      "10 https://api.pushshift.io/reddit/search/submission/?subreddit=amazon&size=100&after=10d\n",
      "11 https://api.pushshift.io/reddit/search/submission/?subreddit=amazon&size=100&after=11d\n",
      "12 https://api.pushshift.io/reddit/search/submission/?subreddit=amazon&size=100&after=12d\n",
      "13 https://api.pushshift.io/reddit/search/submission/?subreddit=amazon&size=100&after=13d\n",
      "14 https://api.pushshift.io/reddit/search/submission/?subreddit=amazon&size=100&after=14d\n",
      "15 https://api.pushshift.io/reddit/search/submission/?subreddit=amazon&size=100&after=15d\n",
      "16 https://api.pushshift.io/reddit/search/submission/?subreddit=amazon&size=100&after=16d\n",
      "17 https://api.pushshift.io/reddit/search/submission/?subreddit=amazon&size=100&after=17d\n",
      "18 https://api.pushshift.io/reddit/search/submission/?subreddit=amazon&size=100&after=18d\n",
      "19 https://api.pushshift.io/reddit/search/submission/?subreddit=amazon&size=100&after=19d\n",
      "20 https://api.pushshift.io/reddit/search/submission/?subreddit=amazon&size=100&after=20d\n",
      "21 https://api.pushshift.io/reddit/search/submission/?subreddit=amazon&size=100&after=21d\n",
      "22 https://api.pushshift.io/reddit/search/submission/?subreddit=amazon&size=100&after=22d\n",
      "23 https://api.pushshift.io/reddit/search/submission/?subreddit=amazon&size=100&after=23d\n",
      "24 https://api.pushshift.io/reddit/search/submission/?subreddit=amazon&size=100&after=24d\n",
      "25 https://api.pushshift.io/reddit/search/submission/?subreddit=amazon&size=100&after=25d\n",
      "26 https://api.pushshift.io/reddit/search/submission/?subreddit=amazon&size=100&after=26d\n",
      "27 https://api.pushshift.io/reddit/search/submission/?subreddit=amazon&size=100&after=27d\n",
      "28 https://api.pushshift.io/reddit/search/submission/?subreddit=amazon&size=100&after=28d\n",
      "29 https://api.pushshift.io/reddit/search/submission/?subreddit=amazon&size=100&after=29d\n",
      "30 https://api.pushshift.io/reddit/search/submission/?subreddit=amazon&size=100&after=30d\n",
      "31 https://api.pushshift.io/reddit/search/submission/?subreddit=amazon&size=100&after=31d\n",
      "32 https://api.pushshift.io/reddit/search/submission/?subreddit=amazon&size=100&after=32d\n",
      "33 https://api.pushshift.io/reddit/search/submission/?subreddit=amazon&size=100&after=33d\n",
      "34 https://api.pushshift.io/reddit/search/submission/?subreddit=amazon&size=100&after=34d\n",
      "35 https://api.pushshift.io/reddit/search/submission/?subreddit=amazon&size=100&after=35d\n",
      "36 https://api.pushshift.io/reddit/search/submission/?subreddit=amazon&size=100&after=36d\n",
      "37 https://api.pushshift.io/reddit/search/submission/?subreddit=amazon&size=100&after=37d\n",
      "38 https://api.pushshift.io/reddit/search/submission/?subreddit=amazon&size=100&after=38d\n",
      "39 https://api.pushshift.io/reddit/search/submission/?subreddit=amazon&size=100&after=39d\n",
      "40 https://api.pushshift.io/reddit/search/submission/?subreddit=amazon&size=100&after=40d\n",
      "41 https://api.pushshift.io/reddit/search/submission/?subreddit=amazon&size=100&after=41d\n",
      "42 https://api.pushshift.io/reddit/search/submission/?subreddit=amazon&size=100&after=42d\n",
      "43 https://api.pushshift.io/reddit/search/submission/?subreddit=amazon&size=100&after=43d\n",
      "44 https://api.pushshift.io/reddit/search/submission/?subreddit=amazon&size=100&after=44d\n",
      "45 https://api.pushshift.io/reddit/search/submission/?subreddit=amazon&size=100&after=45d\n",
      "46 https://api.pushshift.io/reddit/search/submission/?subreddit=amazon&size=100&after=46d\n",
      "47 https://api.pushshift.io/reddit/search/submission/?subreddit=amazon&size=100&after=47d\n",
      "48 https://api.pushshift.io/reddit/search/submission/?subreddit=amazon&size=100&after=48d\n",
      "49 https://api.pushshift.io/reddit/search/submission/?subreddit=amazon&size=100&after=49d\n",
      "50 https://api.pushshift.io/reddit/search/submission/?subreddit=amazon&size=100&after=50d\n",
      "51 https://api.pushshift.io/reddit/search/submission/?subreddit=amazon&size=100&after=51d\n",
      "52 https://api.pushshift.io/reddit/search/submission/?subreddit=amazon&size=100&after=52d\n",
      "53 https://api.pushshift.io/reddit/search/submission/?subreddit=amazon&size=100&after=53d\n",
      "54 https://api.pushshift.io/reddit/search/submission/?subreddit=amazon&size=100&after=54d\n",
      "55 https://api.pushshift.io/reddit/search/submission/?subreddit=amazon&size=100&after=55d\n",
      "56 https://api.pushshift.io/reddit/search/submission/?subreddit=amazon&size=100&after=56d\n",
      "57 https://api.pushshift.io/reddit/search/submission/?subreddit=amazon&size=100&after=57d\n",
      "58 https://api.pushshift.io/reddit/search/submission/?subreddit=amazon&size=100&after=58d\n",
      "59 https://api.pushshift.io/reddit/search/submission/?subreddit=amazon&size=100&after=59d\n",
      "60 https://api.pushshift.io/reddit/search/submission/?subreddit=amazon&size=100&after=60d\n",
      "61 https://api.pushshift.io/reddit/search/submission/?subreddit=amazon&size=100&after=61d\n",
      "62 https://api.pushshift.io/reddit/search/submission/?subreddit=amazon&size=100&after=62d\n",
      "63 https://api.pushshift.io/reddit/search/submission/?subreddit=amazon&size=100&after=63d\n",
      "64 https://api.pushshift.io/reddit/search/submission/?subreddit=amazon&size=100&after=64d\n",
      "65 https://api.pushshift.io/reddit/search/submission/?subreddit=amazon&size=100&after=65d\n",
      "66 https://api.pushshift.io/reddit/search/submission/?subreddit=amazon&size=100&after=66d\n",
      "67 https://api.pushshift.io/reddit/search/submission/?subreddit=amazon&size=100&after=67d\n",
      "68 https://api.pushshift.io/reddit/search/submission/?subreddit=amazon&size=100&after=68d\n",
      "69 https://api.pushshift.io/reddit/search/submission/?subreddit=amazon&size=100&after=69d\n",
      "70 https://api.pushshift.io/reddit/search/submission/?subreddit=amazon&size=100&after=70d\n",
      "71 https://api.pushshift.io/reddit/search/submission/?subreddit=amazon&size=100&after=71d\n",
      "72 https://api.pushshift.io/reddit/search/submission/?subreddit=amazon&size=100&after=72d\n",
      "73 https://api.pushshift.io/reddit/search/submission/?subreddit=amazon&size=100&after=73d\n",
      "74 https://api.pushshift.io/reddit/search/submission/?subreddit=amazon&size=100&after=74d\n",
      "75 https://api.pushshift.io/reddit/search/submission/?subreddit=amazon&size=100&after=75d\n",
      "76 https://api.pushshift.io/reddit/search/submission/?subreddit=amazon&size=100&after=76d\n",
      "77 https://api.pushshift.io/reddit/search/submission/?subreddit=amazon&size=100&after=77d\n",
      "78 https://api.pushshift.io/reddit/search/submission/?subreddit=amazon&size=100&after=78d\n",
      "79 https://api.pushshift.io/reddit/search/submission/?subreddit=amazon&size=100&after=79d\n",
      "80 https://api.pushshift.io/reddit/search/submission/?subreddit=amazon&size=100&after=80d\n",
      "81 https://api.pushshift.io/reddit/search/submission/?subreddit=amazon&size=100&after=81d\n",
      "82 https://api.pushshift.io/reddit/search/submission/?subreddit=amazon&size=100&after=82d\n",
      "83 https://api.pushshift.io/reddit/search/submission/?subreddit=amazon&size=100&after=83d\n",
      "84 https://api.pushshift.io/reddit/search/submission/?subreddit=amazon&size=100&after=84d\n",
      "85 https://api.pushshift.io/reddit/search/submission/?subreddit=amazon&size=100&after=85d\n",
      "86 https://api.pushshift.io/reddit/search/submission/?subreddit=amazon&size=100&after=86d\n",
      "87 https://api.pushshift.io/reddit/search/submission/?subreddit=amazon&size=100&after=87d\n",
      "88 https://api.pushshift.io/reddit/search/submission/?subreddit=amazon&size=100&after=88d\n",
      "89 https://api.pushshift.io/reddit/search/submission/?subreddit=amazon&size=100&after=89d\n",
      "shape (4371, 5)\n"
     ]
    }
   ],
   "source": [
    "amazon = pushshift('amazon', post_type='submission', loops=90)\n",
    "print('shape', amazon.shape)\n",
    "amazon.to_csv('amazon.csv')"
   ]
  },
  {
   "cell_type": "code",
   "execution_count": 32,
   "metadata": {
    "scrolled": true
   },
   "outputs": [
    {
     "name": "stdout",
     "output_type": "stream",
     "text": [
      "0 https://api.pushshift.io/reddit/search/submission/?subreddit=google&size=100&after=0d\n",
      "1 https://api.pushshift.io/reddit/search/submission/?subreddit=google&size=100&after=1d\n",
      "2 https://api.pushshift.io/reddit/search/submission/?subreddit=google&size=100&after=2d\n",
      "3 https://api.pushshift.io/reddit/search/submission/?subreddit=google&size=100&after=3d\n",
      "4 https://api.pushshift.io/reddit/search/submission/?subreddit=google&size=100&after=4d\n",
      "5 https://api.pushshift.io/reddit/search/submission/?subreddit=google&size=100&after=5d\n",
      "6 https://api.pushshift.io/reddit/search/submission/?subreddit=google&size=100&after=6d\n",
      "7 https://api.pushshift.io/reddit/search/submission/?subreddit=google&size=100&after=7d\n",
      "8 https://api.pushshift.io/reddit/search/submission/?subreddit=google&size=100&after=8d\n",
      "9 https://api.pushshift.io/reddit/search/submission/?subreddit=google&size=100&after=9d\n",
      "10 https://api.pushshift.io/reddit/search/submission/?subreddit=google&size=100&after=10d\n",
      "11 https://api.pushshift.io/reddit/search/submission/?subreddit=google&size=100&after=11d\n",
      "12 https://api.pushshift.io/reddit/search/submission/?subreddit=google&size=100&after=12d\n",
      "13 https://api.pushshift.io/reddit/search/submission/?subreddit=google&size=100&after=13d\n",
      "14 https://api.pushshift.io/reddit/search/submission/?subreddit=google&size=100&after=14d\n",
      "15 https://api.pushshift.io/reddit/search/submission/?subreddit=google&size=100&after=15d\n",
      "16 https://api.pushshift.io/reddit/search/submission/?subreddit=google&size=100&after=16d\n",
      "17 https://api.pushshift.io/reddit/search/submission/?subreddit=google&size=100&after=17d\n",
      "18 https://api.pushshift.io/reddit/search/submission/?subreddit=google&size=100&after=18d\n",
      "19 https://api.pushshift.io/reddit/search/submission/?subreddit=google&size=100&after=19d\n",
      "20 https://api.pushshift.io/reddit/search/submission/?subreddit=google&size=100&after=20d\n",
      "21 https://api.pushshift.io/reddit/search/submission/?subreddit=google&size=100&after=21d\n",
      "22 https://api.pushshift.io/reddit/search/submission/?subreddit=google&size=100&after=22d\n",
      "23 https://api.pushshift.io/reddit/search/submission/?subreddit=google&size=100&after=23d\n",
      "24 https://api.pushshift.io/reddit/search/submission/?subreddit=google&size=100&after=24d\n",
      "25 https://api.pushshift.io/reddit/search/submission/?subreddit=google&size=100&after=25d\n",
      "26 https://api.pushshift.io/reddit/search/submission/?subreddit=google&size=100&after=26d\n",
      "27 https://api.pushshift.io/reddit/search/submission/?subreddit=google&size=100&after=27d\n",
      "28 https://api.pushshift.io/reddit/search/submission/?subreddit=google&size=100&after=28d\n",
      "29 https://api.pushshift.io/reddit/search/submission/?subreddit=google&size=100&after=29d\n",
      "30 https://api.pushshift.io/reddit/search/submission/?subreddit=google&size=100&after=30d\n",
      "31 https://api.pushshift.io/reddit/search/submission/?subreddit=google&size=100&after=31d\n",
      "32 https://api.pushshift.io/reddit/search/submission/?subreddit=google&size=100&after=32d\n",
      "33 https://api.pushshift.io/reddit/search/submission/?subreddit=google&size=100&after=33d\n",
      "34 https://api.pushshift.io/reddit/search/submission/?subreddit=google&size=100&after=34d\n",
      "35 https://api.pushshift.io/reddit/search/submission/?subreddit=google&size=100&after=35d\n",
      "36 https://api.pushshift.io/reddit/search/submission/?subreddit=google&size=100&after=36d\n",
      "37 https://api.pushshift.io/reddit/search/submission/?subreddit=google&size=100&after=37d\n",
      "38 https://api.pushshift.io/reddit/search/submission/?subreddit=google&size=100&after=38d\n",
      "39 https://api.pushshift.io/reddit/search/submission/?subreddit=google&size=100&after=39d\n",
      "40 https://api.pushshift.io/reddit/search/submission/?subreddit=google&size=100&after=40d\n",
      "41 https://api.pushshift.io/reddit/search/submission/?subreddit=google&size=100&after=41d\n",
      "42 https://api.pushshift.io/reddit/search/submission/?subreddit=google&size=100&after=42d\n",
      "43 https://api.pushshift.io/reddit/search/submission/?subreddit=google&size=100&after=43d\n",
      "44 https://api.pushshift.io/reddit/search/submission/?subreddit=google&size=100&after=44d\n",
      "45 https://api.pushshift.io/reddit/search/submission/?subreddit=google&size=100&after=45d\n",
      "46 https://api.pushshift.io/reddit/search/submission/?subreddit=google&size=100&after=46d\n",
      "47 https://api.pushshift.io/reddit/search/submission/?subreddit=google&size=100&after=47d\n",
      "48 https://api.pushshift.io/reddit/search/submission/?subreddit=google&size=100&after=48d\n",
      "49 https://api.pushshift.io/reddit/search/submission/?subreddit=google&size=100&after=49d\n",
      "50 https://api.pushshift.io/reddit/search/submission/?subreddit=google&size=100&after=50d\n",
      "51 https://api.pushshift.io/reddit/search/submission/?subreddit=google&size=100&after=51d\n",
      "52 https://api.pushshift.io/reddit/search/submission/?subreddit=google&size=100&after=52d\n",
      "53 https://api.pushshift.io/reddit/search/submission/?subreddit=google&size=100&after=53d\n",
      "54 https://api.pushshift.io/reddit/search/submission/?subreddit=google&size=100&after=54d\n",
      "55 https://api.pushshift.io/reddit/search/submission/?subreddit=google&size=100&after=55d\n",
      "56 https://api.pushshift.io/reddit/search/submission/?subreddit=google&size=100&after=56d\n",
      "57 https://api.pushshift.io/reddit/search/submission/?subreddit=google&size=100&after=57d\n",
      "58 https://api.pushshift.io/reddit/search/submission/?subreddit=google&size=100&after=58d\n",
      "59 https://api.pushshift.io/reddit/search/submission/?subreddit=google&size=100&after=59d\n",
      "60 https://api.pushshift.io/reddit/search/submission/?subreddit=google&size=100&after=60d\n",
      "61 https://api.pushshift.io/reddit/search/submission/?subreddit=google&size=100&after=61d\n",
      "62 https://api.pushshift.io/reddit/search/submission/?subreddit=google&size=100&after=62d\n",
      "63 https://api.pushshift.io/reddit/search/submission/?subreddit=google&size=100&after=63d\n",
      "64 https://api.pushshift.io/reddit/search/submission/?subreddit=google&size=100&after=64d\n",
      "65 https://api.pushshift.io/reddit/search/submission/?subreddit=google&size=100&after=65d\n",
      "66 https://api.pushshift.io/reddit/search/submission/?subreddit=google&size=100&after=66d\n",
      "67 https://api.pushshift.io/reddit/search/submission/?subreddit=google&size=100&after=67d\n",
      "68 https://api.pushshift.io/reddit/search/submission/?subreddit=google&size=100&after=68d\n",
      "69 https://api.pushshift.io/reddit/search/submission/?subreddit=google&size=100&after=69d\n",
      "shape (4688, 5)\n"
     ]
    }
   ],
   "source": [
    "google = pushshift('google', post_type='submission', loops=70)\n",
    "print('shape', google.shape)\n",
    "google.to_csv('google.csv')"
   ]
  },
  {
   "cell_type": "code",
   "execution_count": 241,
   "metadata": {},
   "outputs": [],
   "source": [
    "df = pd.concat([facebook[['title', 'selftext', 'subreddit']], \n",
    "                apple[['title', 'selftext', 'subreddit']],\n",
    "                amazon[['title', 'selftext', 'subreddit']],\n",
    "                google[['title', 'selftext', 'subreddit']],\n",
    "                microsoft[['title', 'selftext', 'subreddit']]]\n",
    "               ,ignore_index=True)\n",
    "df.to_csv('data.csv', index=False)"
   ]
  },
  {
   "cell_type": "code",
   "execution_count": 242,
   "metadata": {},
   "outputs": [
    {
     "data": {
      "text/html": [
       "<div>\n",
       "<style scoped>\n",
       "    .dataframe tbody tr th:only-of-type {\n",
       "        vertical-align: middle;\n",
       "    }\n",
       "\n",
       "    .dataframe tbody tr th {\n",
       "        vertical-align: top;\n",
       "    }\n",
       "\n",
       "    .dataframe thead th {\n",
       "        text-align: right;\n",
       "    }\n",
       "</style>\n",
       "<table border=\"1\" class=\"dataframe\">\n",
       "  <thead>\n",
       "    <tr style=\"text-align: right;\">\n",
       "      <th></th>\n",
       "      <th>title</th>\n",
       "      <th>selftext</th>\n",
       "      <th>subreddit</th>\n",
       "    </tr>\n",
       "  </thead>\n",
       "  <tbody>\n",
       "    <tr>\n",
       "      <th>0</th>\n",
       "      <td>Account Disabled by Facebook - what might be t...</td>\n",
       "      <td>Hello to everyone around.\\n\\n&amp;amp;#x200B;\\n\\nI...</td>\n",
       "      <td>facebook</td>\n",
       "    </tr>\n",
       "    <tr>\n",
       "      <th>1</th>\n",
       "      <td>Facebook apologises for Plymouth Hoe 'error'</td>\n",
       "      <td></td>\n",
       "      <td>facebook</td>\n",
       "    </tr>\n",
       "    <tr>\n",
       "      <th>2</th>\n",
       "      <td>Can't log in to access code generator</td>\n",
       "      <td>Hi. My FB account got hacked 3 days ago and af...</td>\n",
       "      <td>facebook</td>\n",
       "    </tr>\n",
       "    <tr>\n",
       "      <th>3</th>\n",
       "      <td>Facebook- Deleted old account, created new. No...</td>\n",
       "      <td>Yes, I had some account suspensions with my ol...</td>\n",
       "      <td>facebook</td>\n",
       "    </tr>\n",
       "    <tr>\n",
       "      <th>4</th>\n",
       "      <td>Why all countries should ban Facebook and Twitter</td>\n",
       "      <td></td>\n",
       "      <td>facebook</td>\n",
       "    </tr>\n",
       "    <tr>\n",
       "      <th>...</th>\n",
       "      <td>...</td>\n",
       "      <td>...</td>\n",
       "      <td>...</td>\n",
       "    </tr>\n",
       "    <tr>\n",
       "      <th>23646</th>\n",
       "      <td>These Roborock Robot Vacuum Deals Will Suck Up...</td>\n",
       "      <td></td>\n",
       "      <td>microsoft</td>\n",
       "    </tr>\n",
       "    <tr>\n",
       "      <th>23647</th>\n",
       "      <td>Save a ton of dough on Certified Refurbished A...</td>\n",
       "      <td></td>\n",
       "      <td>microsoft</td>\n",
       "    </tr>\n",
       "    <tr>\n",
       "      <th>23648</th>\n",
       "      <td>How can I contact Microsoft regarding my email?</td>\n",
       "      <td>[removed]</td>\n",
       "      <td>microsoft</td>\n",
       "    </tr>\n",
       "    <tr>\n",
       "      <th>23649</th>\n",
       "      <td>Save Some Coin on Your Smart Home with Google ...</td>\n",
       "      <td></td>\n",
       "      <td>microsoft</td>\n",
       "    </tr>\n",
       "    <tr>\n",
       "      <th>23650</th>\n",
       "      <td>Apple’s Services Will Eclipse The IPhone Jugge...</td>\n",
       "      <td></td>\n",
       "      <td>microsoft</td>\n",
       "    </tr>\n",
       "  </tbody>\n",
       "</table>\n",
       "<p>23651 rows × 3 columns</p>\n",
       "</div>"
      ],
      "text/plain": [
       "                                                   title  \\\n",
       "0      Account Disabled by Facebook - what might be t...   \n",
       "1           Facebook apologises for Plymouth Hoe 'error'   \n",
       "2                  Can't log in to access code generator   \n",
       "3      Facebook- Deleted old account, created new. No...   \n",
       "4      Why all countries should ban Facebook and Twitter   \n",
       "...                                                  ...   \n",
       "23646  These Roborock Robot Vacuum Deals Will Suck Up...   \n",
       "23647  Save a ton of dough on Certified Refurbished A...   \n",
       "23648    How can I contact Microsoft regarding my email?   \n",
       "23649  Save Some Coin on Your Smart Home with Google ...   \n",
       "23650  Apple’s Services Will Eclipse The IPhone Jugge...   \n",
       "\n",
       "                                                selftext  subreddit  \n",
       "0      Hello to everyone around.\\n\\n&amp;#x200B;\\n\\nI...   facebook  \n",
       "1                                                          facebook  \n",
       "2      Hi. My FB account got hacked 3 days ago and af...   facebook  \n",
       "3      Yes, I had some account suspensions with my ol...   facebook  \n",
       "4                                                          facebook  \n",
       "...                                                  ...        ...  \n",
       "23646                                                     microsoft  \n",
       "23647                                                     microsoft  \n",
       "23648                                          [removed]  microsoft  \n",
       "23649                                                     microsoft  \n",
       "23650                                                     microsoft  \n",
       "\n",
       "[23651 rows x 3 columns]"
      ]
     },
     "execution_count": 242,
     "metadata": {},
     "output_type": "execute_result"
    }
   ],
   "source": [
    "df"
   ]
  },
  {
   "cell_type": "code",
   "execution_count": 243,
   "metadata": {},
   "outputs": [
    {
     "data": {
      "text/plain": [
       "facebook     4932\n",
       "apple        4851\n",
       "microsoft    4809\n",
       "google       4688\n",
       "amazon       4371\n",
       "Name: subreddit, dtype: int64"
      ]
     },
     "execution_count": 243,
     "metadata": {},
     "output_type": "execute_result"
    }
   ],
   "source": [
    "df['subreddit'].value_counts()"
   ]
  },
  {
   "cell_type": "markdown",
   "metadata": {},
   "source": [
    "# Cleaning + EDA"
   ]
  },
  {
   "cell_type": "code",
   "execution_count": 244,
   "metadata": {},
   "outputs": [
    {
     "data": {
      "text/plain": [
       "title          0\n",
       "selftext     301\n",
       "subreddit      0\n",
       "dtype: int64"
      ]
     },
     "execution_count": 244,
     "metadata": {},
     "output_type": "execute_result"
    }
   ],
   "source": [
    "df.isnull().sum()"
   ]
  },
  {
   "cell_type": "code",
   "execution_count": 245,
   "metadata": {},
   "outputs": [
    {
     "data": {
      "text/plain": [
       "1063"
      ]
     },
     "execution_count": 245,
     "metadata": {},
     "output_type": "execute_result"
    }
   ],
   "source": [
    "df.duplicated().sum()"
   ]
  },
  {
   "cell_type": "code",
   "execution_count": 246,
   "metadata": {},
   "outputs": [],
   "source": [
    "df.drop_duplicates(inplace = True)"
   ]
  },
  {
   "cell_type": "code",
   "execution_count": 247,
   "metadata": {},
   "outputs": [],
   "source": [
    "df = df.fillna('[removed]')"
   ]
  },
  {
   "cell_type": "code",
   "execution_count": 248,
   "metadata": {},
   "outputs": [
    {
     "data": {
      "text/plain": [
       "facebook     4813\n",
       "apple        4770\n",
       "microsoft    4461\n",
       "google       4428\n",
       "amazon       4116\n",
       "Name: subreddit, dtype: int64"
      ]
     },
     "execution_count": 248,
     "metadata": {},
     "output_type": "execute_result"
    }
   ],
   "source": [
    "df['subreddit'].value_counts()"
   ]
  },
  {
   "cell_type": "markdown",
   "metadata": {},
   "source": [
    "### Map results to binary values"
   ]
  },
  {
   "cell_type": "code",
   "execution_count": 249,
   "metadata": {},
   "outputs": [
    {
     "data": {
      "text/html": [
       "<div>\n",
       "<style scoped>\n",
       "    .dataframe tbody tr th:only-of-type {\n",
       "        vertical-align: middle;\n",
       "    }\n",
       "\n",
       "    .dataframe tbody tr th {\n",
       "        vertical-align: top;\n",
       "    }\n",
       "\n",
       "    .dataframe thead th {\n",
       "        text-align: right;\n",
       "    }\n",
       "</style>\n",
       "<table border=\"1\" class=\"dataframe\">\n",
       "  <thead>\n",
       "    <tr style=\"text-align: right;\">\n",
       "      <th></th>\n",
       "      <th>title</th>\n",
       "      <th>selftext</th>\n",
       "      <th>target</th>\n",
       "    </tr>\n",
       "  </thead>\n",
       "  <tbody>\n",
       "    <tr>\n",
       "      <th>0</th>\n",
       "      <td>Account Disabled by Facebook - what might be t...</td>\n",
       "      <td>Hello to everyone around.\\n\\n&amp;amp;#x200B;\\n\\nI...</td>\n",
       "      <td>0</td>\n",
       "    </tr>\n",
       "    <tr>\n",
       "      <th>1</th>\n",
       "      <td>Facebook apologises for Plymouth Hoe 'error'</td>\n",
       "      <td></td>\n",
       "      <td>0</td>\n",
       "    </tr>\n",
       "    <tr>\n",
       "      <th>2</th>\n",
       "      <td>Can't log in to access code generator</td>\n",
       "      <td>Hi. My FB account got hacked 3 days ago and af...</td>\n",
       "      <td>0</td>\n",
       "    </tr>\n",
       "    <tr>\n",
       "      <th>3</th>\n",
       "      <td>Facebook- Deleted old account, created new. No...</td>\n",
       "      <td>Yes, I had some account suspensions with my ol...</td>\n",
       "      <td>0</td>\n",
       "    </tr>\n",
       "    <tr>\n",
       "      <th>4</th>\n",
       "      <td>Why all countries should ban Facebook and Twitter</td>\n",
       "      <td></td>\n",
       "      <td>0</td>\n",
       "    </tr>\n",
       "    <tr>\n",
       "      <th>...</th>\n",
       "      <td>...</td>\n",
       "      <td>...</td>\n",
       "      <td>...</td>\n",
       "    </tr>\n",
       "    <tr>\n",
       "      <th>23646</th>\n",
       "      <td>These Roborock Robot Vacuum Deals Will Suck Up...</td>\n",
       "      <td></td>\n",
       "      <td>4</td>\n",
       "    </tr>\n",
       "    <tr>\n",
       "      <th>23647</th>\n",
       "      <td>Save a ton of dough on Certified Refurbished A...</td>\n",
       "      <td></td>\n",
       "      <td>4</td>\n",
       "    </tr>\n",
       "    <tr>\n",
       "      <th>23648</th>\n",
       "      <td>How can I contact Microsoft regarding my email?</td>\n",
       "      <td>[removed]</td>\n",
       "      <td>4</td>\n",
       "    </tr>\n",
       "    <tr>\n",
       "      <th>23649</th>\n",
       "      <td>Save Some Coin on Your Smart Home with Google ...</td>\n",
       "      <td></td>\n",
       "      <td>4</td>\n",
       "    </tr>\n",
       "    <tr>\n",
       "      <th>23650</th>\n",
       "      <td>Apple’s Services Will Eclipse The IPhone Jugge...</td>\n",
       "      <td></td>\n",
       "      <td>4</td>\n",
       "    </tr>\n",
       "  </tbody>\n",
       "</table>\n",
       "<p>22588 rows × 3 columns</p>\n",
       "</div>"
      ],
      "text/plain": [
       "                                                   title  \\\n",
       "0      Account Disabled by Facebook - what might be t...   \n",
       "1           Facebook apologises for Plymouth Hoe 'error'   \n",
       "2                  Can't log in to access code generator   \n",
       "3      Facebook- Deleted old account, created new. No...   \n",
       "4      Why all countries should ban Facebook and Twitter   \n",
       "...                                                  ...   \n",
       "23646  These Roborock Robot Vacuum Deals Will Suck Up...   \n",
       "23647  Save a ton of dough on Certified Refurbished A...   \n",
       "23648    How can I contact Microsoft regarding my email?   \n",
       "23649  Save Some Coin on Your Smart Home with Google ...   \n",
       "23650  Apple’s Services Will Eclipse The IPhone Jugge...   \n",
       "\n",
       "                                                selftext  target  \n",
       "0      Hello to everyone around.\\n\\n&amp;#x200B;\\n\\nI...       0  \n",
       "1                                                              0  \n",
       "2      Hi. My FB account got hacked 3 days ago and af...       0  \n",
       "3      Yes, I had some account suspensions with my ol...       0  \n",
       "4                                                              0  \n",
       "...                                                  ...     ...  \n",
       "23646                                                          4  \n",
       "23647                                                          4  \n",
       "23648                                          [removed]       4  \n",
       "23649                                                          4  \n",
       "23650                                                          4  \n",
       "\n",
       "[22588 rows x 3 columns]"
      ]
     },
     "execution_count": 249,
     "metadata": {},
     "output_type": "execute_result"
    }
   ],
   "source": [
    "df['target'] = df['subreddit'].map({'facebook': 0, \n",
    "                                    'apple': 1,\n",
    "                                    'amazon' : 2,\n",
    "                                    'google' : 3,\n",
    "                                    'microsoft' : 4\n",
    "                                   })\n",
    "df.drop(['subreddit'], axis=1, inplace=True)\n",
    "df"
   ]
  },
  {
   "cell_type": "markdown",
   "metadata": {},
   "source": [
    "### redditcleaner, tokenization, and lemmatizer"
   ]
  },
  {
   "cell_type": "code",
   "execution_count": 250,
   "metadata": {},
   "outputs": [
    {
     "data": {
      "text/plain": [
       "'\\nparameters = {newline=True, quote=True, bullet_point=True, \\n          link=True, strikethrough=True, spoiler=True,\\n          code=True, superscript=True, table=True, heading=True}\\n'"
      ]
     },
     "execution_count": 250,
     "metadata": {},
     "output_type": "execute_result"
    }
   ],
   "source": [
    "import redditcleaner\n",
    "df['selftext'] = df['selftext'].map(redditcleaner.clean)\n",
    "#redditcleaner is an open source python module for cleaning reddit data.\n",
    "'''\n",
    "parameters = {newline=True, quote=True, bullet_point=True, \n",
    "          link=True, strikethrough=True, spoiler=True,\n",
    "          code=True, superscript=True, table=True, heading=True}\n",
    "'''"
   ]
  },
  {
   "cell_type": "code",
   "execution_count": 251,
   "metadata": {},
   "outputs": [
    {
     "data": {
      "text/html": [
       "<div>\n",
       "<style scoped>\n",
       "    .dataframe tbody tr th:only-of-type {\n",
       "        vertical-align: middle;\n",
       "    }\n",
       "\n",
       "    .dataframe tbody tr th {\n",
       "        vertical-align: top;\n",
       "    }\n",
       "\n",
       "    .dataframe thead th {\n",
       "        text-align: right;\n",
       "    }\n",
       "</style>\n",
       "<table border=\"1\" class=\"dataframe\">\n",
       "  <thead>\n",
       "    <tr style=\"text-align: right;\">\n",
       "      <th></th>\n",
       "      <th>title</th>\n",
       "      <th>selftext</th>\n",
       "      <th>target</th>\n",
       "    </tr>\n",
       "  </thead>\n",
       "  <tbody>\n",
       "    <tr>\n",
       "      <th>0</th>\n",
       "      <td>Account Disabled by Facebook - what might be t...</td>\n",
       "      <td>Hello to everyone around.  I'm facing this pro...</td>\n",
       "      <td>0</td>\n",
       "    </tr>\n",
       "    <tr>\n",
       "      <th>1</th>\n",
       "      <td>Facebook apologises for Plymouth Hoe 'error'</td>\n",
       "      <td></td>\n",
       "      <td>0</td>\n",
       "    </tr>\n",
       "    <tr>\n",
       "      <th>2</th>\n",
       "      <td>Can't log in to access code generator</td>\n",
       "      <td>Hi. My FB account got hacked 3 days ago and af...</td>\n",
       "      <td>0</td>\n",
       "    </tr>\n",
       "    <tr>\n",
       "      <th>3</th>\n",
       "      <td>Facebook- Deleted old account, created new. No...</td>\n",
       "      <td>Yes, I had some account suspensions with my ol...</td>\n",
       "      <td>0</td>\n",
       "    </tr>\n",
       "    <tr>\n",
       "      <th>4</th>\n",
       "      <td>Why all countries should ban Facebook and Twitter</td>\n",
       "      <td></td>\n",
       "      <td>0</td>\n",
       "    </tr>\n",
       "    <tr>\n",
       "      <th>...</th>\n",
       "      <td>...</td>\n",
       "      <td>...</td>\n",
       "      <td>...</td>\n",
       "    </tr>\n",
       "    <tr>\n",
       "      <th>23646</th>\n",
       "      <td>These Roborock Robot Vacuum Deals Will Suck Up...</td>\n",
       "      <td></td>\n",
       "      <td>4</td>\n",
       "    </tr>\n",
       "    <tr>\n",
       "      <th>23647</th>\n",
       "      <td>Save a ton of dough on Certified Refurbished A...</td>\n",
       "      <td></td>\n",
       "      <td>4</td>\n",
       "    </tr>\n",
       "    <tr>\n",
       "      <th>23648</th>\n",
       "      <td>How can I contact Microsoft regarding my email?</td>\n",
       "      <td>[removed]</td>\n",
       "      <td>4</td>\n",
       "    </tr>\n",
       "    <tr>\n",
       "      <th>23649</th>\n",
       "      <td>Save Some Coin on Your Smart Home with Google ...</td>\n",
       "      <td></td>\n",
       "      <td>4</td>\n",
       "    </tr>\n",
       "    <tr>\n",
       "      <th>23650</th>\n",
       "      <td>Apple’s Services Will Eclipse The IPhone Jugge...</td>\n",
       "      <td></td>\n",
       "      <td>4</td>\n",
       "    </tr>\n",
       "  </tbody>\n",
       "</table>\n",
       "<p>22588 rows × 3 columns</p>\n",
       "</div>"
      ],
      "text/plain": [
       "                                                   title  \\\n",
       "0      Account Disabled by Facebook - what might be t...   \n",
       "1           Facebook apologises for Plymouth Hoe 'error'   \n",
       "2                  Can't log in to access code generator   \n",
       "3      Facebook- Deleted old account, created new. No...   \n",
       "4      Why all countries should ban Facebook and Twitter   \n",
       "...                                                  ...   \n",
       "23646  These Roborock Robot Vacuum Deals Will Suck Up...   \n",
       "23647  Save a ton of dough on Certified Refurbished A...   \n",
       "23648    How can I contact Microsoft regarding my email?   \n",
       "23649  Save Some Coin on Your Smart Home with Google ...   \n",
       "23650  Apple’s Services Will Eclipse The IPhone Jugge...   \n",
       "\n",
       "                                                selftext  target  \n",
       "0      Hello to everyone around.  I'm facing this pro...       0  \n",
       "1                                                              0  \n",
       "2      Hi. My FB account got hacked 3 days ago and af...       0  \n",
       "3      Yes, I had some account suspensions with my ol...       0  \n",
       "4                                                              0  \n",
       "...                                                  ...     ...  \n",
       "23646                                                          4  \n",
       "23647                                                          4  \n",
       "23648                                          [removed]       4  \n",
       "23649                                                          4  \n",
       "23650                                                          4  \n",
       "\n",
       "[22588 rows x 3 columns]"
      ]
     },
     "execution_count": 251,
     "metadata": {},
     "output_type": "execute_result"
    }
   ],
   "source": [
    "df"
   ]
  },
  {
   "cell_type": "code",
   "execution_count": 252,
   "metadata": {},
   "outputs": [],
   "source": [
    "#tokenize data\n",
    "from nltk.tokenize import RegexpTokenizer\n",
    "tokenizer = RegexpTokenizer(r'\\w+')"
   ]
  },
  {
   "cell_type": "code",
   "execution_count": 253,
   "metadata": {},
   "outputs": [],
   "source": [
    "df['title'] = df['title'].apply(lambda x: tokenizer.tokenize(x.lower()))\n",
    "df['selftext'] = df['selftext'].apply(lambda x: tokenizer.tokenize(x.lower()))"
   ]
  },
  {
   "cell_type": "code",
   "execution_count": 254,
   "metadata": {},
   "outputs": [],
   "source": [
    "#remove any text under 2 letters\n",
    "def rm_len_2(text):\n",
    "    rm_text = ' '.join([w for w in text.split() if len(w)>2])\n",
    "    return rm_text\n",
    "\n",
    "#remove numbers\n",
    "\n",
    "def rm_num(text):\n",
    "    rm_num = re.sub(r'\\d+', '', text)\n",
    "    return rm_num"
   ]
  },
  {
   "cell_type": "code",
   "execution_count": 255,
   "metadata": {},
   "outputs": [],
   "source": [
    "from nltk.stem import WordNetLemmatizer\n",
    "from sklearn.feature_extraction.text import CountVectorizer\n",
    "\n",
    "lemmatizer = WordNetLemmatizer()\n",
    "\n",
    "def word_lemmatizer(text):\n",
    "    lem_text = \" \".join([lemmatizer.lemmatize(i) for i in text])\n",
    "    return lem_text"
   ]
  },
  {
   "cell_type": "code",
   "execution_count": 256,
   "metadata": {},
   "outputs": [],
   "source": [
    "df['title'] = df['title'].apply(lambda x : word_lemmatizer(x))\n",
    "df['selftext'] = df['selftext'].apply(lambda x : word_lemmatizer(x))"
   ]
  },
  {
   "cell_type": "code",
   "execution_count": 257,
   "metadata": {},
   "outputs": [],
   "source": [
    "df['title'] = df['title'].apply(lambda x : rm_len_2(x))\n",
    "df['selftext'] = df['selftext'].apply(lambda x : rm_len_2(x))"
   ]
  },
  {
   "cell_type": "code",
   "execution_count": 258,
   "metadata": {},
   "outputs": [],
   "source": [
    "df['title'] = df['title'].apply(lambda x : rm_num(x))\n",
    "df['selftext'] = df['selftext'].apply(lambda x : rm_num(x))"
   ]
  },
  {
   "cell_type": "code",
   "execution_count": 259,
   "metadata": {},
   "outputs": [
    {
     "data": {
      "text/html": [
       "<div>\n",
       "<style scoped>\n",
       "    .dataframe tbody tr th:only-of-type {\n",
       "        vertical-align: middle;\n",
       "    }\n",
       "\n",
       "    .dataframe tbody tr th {\n",
       "        vertical-align: top;\n",
       "    }\n",
       "\n",
       "    .dataframe thead th {\n",
       "        text-align: right;\n",
       "    }\n",
       "</style>\n",
       "<table border=\"1\" class=\"dataframe\">\n",
       "  <thead>\n",
       "    <tr style=\"text-align: right;\">\n",
       "      <th></th>\n",
       "      <th>title</th>\n",
       "      <th>selftext</th>\n",
       "      <th>target</th>\n",
       "    </tr>\n",
       "  </thead>\n",
       "  <tbody>\n",
       "    <tr>\n",
       "      <th>0</th>\n",
       "      <td>account disabled facebook what might the reaso...</td>\n",
       "      <td>hello everyone around facing this problem and ...</td>\n",
       "      <td>0</td>\n",
       "    </tr>\n",
       "    <tr>\n",
       "      <th>1</th>\n",
       "      <td>facebook apologises for plymouth hoe error</td>\n",
       "      <td></td>\n",
       "      <td>0</td>\n",
       "    </tr>\n",
       "    <tr>\n",
       "      <th>2</th>\n",
       "      <td>can log access code generator</td>\n",
       "      <td>account got hacked day ago and after finding o...</td>\n",
       "      <td>0</td>\n",
       "    </tr>\n",
       "    <tr>\n",
       "      <th>3</th>\n",
       "      <td>facebook deleted old account created new now c...</td>\n",
       "      <td>yes had some account suspension with old accou...</td>\n",
       "      <td>0</td>\n",
       "    </tr>\n",
       "    <tr>\n",
       "      <th>4</th>\n",
       "      <td>why all country should ban facebook and twitter</td>\n",
       "      <td></td>\n",
       "      <td>0</td>\n",
       "    </tr>\n",
       "    <tr>\n",
       "      <th>...</th>\n",
       "      <td>...</td>\n",
       "      <td>...</td>\n",
       "      <td>...</td>\n",
       "    </tr>\n",
       "    <tr>\n",
       "      <th>23646</th>\n",
       "      <td>these roborock robot vacuum deal will suck dir...</td>\n",
       "      <td></td>\n",
       "      <td>4</td>\n",
       "    </tr>\n",
       "    <tr>\n",
       "      <th>23647</th>\n",
       "      <td>save ton dough certified refurbished acer prod...</td>\n",
       "      <td></td>\n",
       "      <td>4</td>\n",
       "    </tr>\n",
       "    <tr>\n",
       "      <th>23648</th>\n",
       "      <td>how can contact microsoft regarding email</td>\n",
       "      <td>removed</td>\n",
       "      <td>4</td>\n",
       "    </tr>\n",
       "    <tr>\n",
       "      <th>23649</th>\n",
       "      <td>save some coin your smart home with google nes...</td>\n",
       "      <td></td>\n",
       "      <td>4</td>\n",
       "    </tr>\n",
       "    <tr>\n",
       "      <th>23650</th>\n",
       "      <td>apple service will eclipse the iphone juggerna...</td>\n",
       "      <td></td>\n",
       "      <td>4</td>\n",
       "    </tr>\n",
       "  </tbody>\n",
       "</table>\n",
       "<p>22588 rows × 3 columns</p>\n",
       "</div>"
      ],
      "text/plain": [
       "                                                   title  \\\n",
       "0      account disabled facebook what might the reaso...   \n",
       "1             facebook apologises for plymouth hoe error   \n",
       "2                          can log access code generator   \n",
       "3      facebook deleted old account created new now c...   \n",
       "4        why all country should ban facebook and twitter   \n",
       "...                                                  ...   \n",
       "23646  these roborock robot vacuum deal will suck dir...   \n",
       "23647  save ton dough certified refurbished acer prod...   \n",
       "23648          how can contact microsoft regarding email   \n",
       "23649  save some coin your smart home with google nes...   \n",
       "23650  apple service will eclipse the iphone juggerna...   \n",
       "\n",
       "                                                selftext  target  \n",
       "0      hello everyone around facing this problem and ...       0  \n",
       "1                                                              0  \n",
       "2      account got hacked day ago and after finding o...       0  \n",
       "3      yes had some account suspension with old accou...       0  \n",
       "4                                                              0  \n",
       "...                                                  ...     ...  \n",
       "23646                                                          4  \n",
       "23647                                                          4  \n",
       "23648                                            removed       4  \n",
       "23649                                                          4  \n",
       "23650                                                          4  \n",
       "\n",
       "[22588 rows x 3 columns]"
      ]
     },
     "execution_count": 259,
     "metadata": {},
     "output_type": "execute_result"
    }
   ],
   "source": [
    "df"
   ]
  },
  {
   "cell_type": "code",
   "execution_count": 260,
   "metadata": {},
   "outputs": [],
   "source": [
    "#note: add stopwords: {removed, deleted}"
   ]
  },
  {
   "cell_type": "code",
   "execution_count": 261,
   "metadata": {},
   "outputs": [],
   "source": [
    "df['text'] = df['title'] + '' + df['selftext']\n",
    "df.drop(['title', 'selftext'], axis=1, inplace=True)\n",
    "df = df[['text', 'target']]"
   ]
  },
  {
   "cell_type": "code",
   "execution_count": 262,
   "metadata": {},
   "outputs": [],
   "source": [
    "df.to_csv('data_clean.csv', index=False)"
   ]
  },
  {
   "cell_type": "markdown",
   "metadata": {},
   "source": [
    "# Most frequent words"
   ]
  },
  {
   "cell_type": "code",
   "execution_count": 25,
   "metadata": {},
   "outputs": [],
   "source": [
    "def most_freq_words(num):\n",
    "    \n",
    "    count_vect = CountVectorizer(analyzer = \"word\", \n",
    "                             tokenizer = None, \n",
    "                             preprocessor = None,\n",
    "                             stop_words = \"english\", \n",
    "                             max_features = 35)\n",
    "    \n",
    "    # input for CountVectorizer is an array of strings\n",
    "    vector_input = df[df['target'] == num]['text']\n",
    "\n",
    "    # fit_transform the vectorizer\n",
    "    words = count_vect.fit_transform(vector_input)\n",
    "\n",
    "    # convert output to a Numpy array\n",
    "    words = words.toarray()\n",
    "    \n",
    "    # get the words\n",
    "    word_list = count_vect.get_feature_names()\n",
    "    print(word_list)\n",
    "    \n",
    "    #save matrix\n",
    "    matrix = pd.DataFrame(words, columns=count_vect.get_feature_names())\n",
    "    print('\\n')\n",
    "    print('Top 15 Most Frequent Words')\n",
    "    print(matrix.sum().sort_values(ascending=False).head(15))"
   ]
  },
  {
   "cell_type": "code",
   "execution_count": 26,
   "metadata": {},
   "outputs": [
    {
     "name": "stdout",
     "output_type": "stream",
     "text": [
      "['account', 'app', 'business', 'day', 'disabled', 'doe', 'don', 'email', 'facebook', 'friend', 'got', 'group', 'help', 'just', 'know', 'like', 'message', 'messenger', 'new', 'notification', 'old', 'page', 'password', 'people', 'phone', 'photo', 'post', 'profile', 'say', 'time', 'tried', 'use', 'video', 'want', 'way']\n",
      "\n",
      "\n",
      "Top 15 Most Frequent Words\n",
      "facebook     3276\n",
      "account      2122\n",
      "page         1042\n",
      "post          933\n",
      "friend        686\n",
      "messenger     610\n",
      "just          607\n",
      "message       573\n",
      "help          559\n",
      "don           535\n",
      "email         535\n",
      "know          522\n",
      "group         514\n",
      "like          514\n",
      "new           508\n",
      "dtype: int64\n"
     ]
    }
   ],
   "source": [
    "#facebook\n",
    "most_freq_words(0)"
   ]
  },
  {
   "cell_type": "code",
   "execution_count": 27,
   "metadata": {},
   "outputs": [
    {
     "name": "stdout",
     "output_type": "stream",
     "text": [
      "['air', 'airpods', 'amp', 'app', 'apple', 'apps', 'best', 'doe', 'free', 'help', 'icloud', 'ipad', 'iphone', 'iphoneremoved', 'just', 'like', 'mac', 'macbook', 'max', 'mini', 'need', 'new', 'phone', 'photo', 'pro', 'question', 'screen', 'store', 'support', 'tech', 'thread', 'time', 'use', 'using', 'watch']\n",
      "\n",
      "\n",
      "Top 15 Most Frequent Words\n",
      "apple      1508\n",
      "iphone      618\n",
      "pro         438\n",
      "app         436\n",
      "macbook     398\n",
      "new         333\n",
      "airpods     312\n",
      "ipad        227\n",
      "mac         227\n",
      "max         217\n",
      "support     192\n",
      "help        162\n",
      "time        152\n",
      "air         150\n",
      "doe         132\n",
      "dtype: int64\n"
     ]
    }
   ],
   "source": [
    "#apple\n",
    "most_freq_words(1)"
   ]
  },
  {
   "cell_type": "code",
   "execution_count": 28,
   "metadata": {},
   "outputs": [
    {
     "name": "stdout",
     "output_type": "stream",
     "text": [
      "['account', 'amazon', 'amazonremoved', 'best', 'buy', 'card', 'cardremoved', 'customer', 'day', 'deal', 'delivery', 'doe', 'free', 'gift', 'got', 'help', 'item', 'just', 'know', 'need', 'new', 'order', 'orderremoved', 'package', 'prime', 'product', 'question', 'refund', 'return', 'review', 'seller', 'shipping', 'time', 'want', 'way']\n",
      "\n",
      "\n",
      "Top 15 Most Frequent Words\n",
      "amazon           1894\n",
      "gift              284\n",
      "card              213\n",
      "prime             197\n",
      "order             196\n",
      "amazonremoved     192\n",
      "account           190\n",
      "item              172\n",
      "doe               153\n",
      "free              150\n",
      "delivery          150\n",
      "help              145\n",
      "question          136\n",
      "return            135\n",
      "package           129\n",
      "dtype: int64\n"
     ]
    }
   ],
   "source": [
    "#amazon\n",
    "most_freq_words(2)"
   ]
  },
  {
   "cell_type": "code",
   "execution_count": 29,
   "metadata": {},
   "outputs": [
    {
     "name": "stdout",
     "output_type": "stream",
     "text": [
      "['account', 'amp', 'android', 'app', 'change', 'chrome', 'day', 'doe', 'don', 'drive', 'email', 'gmail', 'google', 'got', 'help', 'just', 'know', 'like', 'make', 'need', 'new', 'phone', 'photo', 'play', 'really', 'search', 'time', 'use', 'using', 'video', 'want', 'way', 'work', 'year', 'youtube']\n",
      "\n",
      "\n",
      "Top 15 Most Frequent Words\n",
      "google     2890\n",
      "search      361\n",
      "account     351\n",
      "just        302\n",
      "new         302\n",
      "like        249\n",
      "help        238\n",
      "phone       236\n",
      "app         226\n",
      "youtube     212\n",
      "know        210\n",
      "amp         188\n",
      "time        181\n",
      "doe         181\n",
      "chrome      180\n",
      "dtype: int64\n"
     ]
    }
   ],
   "source": [
    "#google\n",
    "most_freq_words(3)"
   ]
  },
  {
   "cell_type": "code",
   "execution_count": 30,
   "metadata": {},
   "outputs": [
    {
     "name": "stdout",
     "output_type": "stream",
     "text": [
      "['account', 'airpods', 'app', 'apple', 'best', 'bitcoin', 'business', 'buy', 'crypto', 'game', 'geek', 'google', 'help', 'high', 'hit', 'iphone', 'launch', 'mac', 'market', 'microsoft', 'new', 'news', 'price', 'pro', 'review', 'say', 'stock', 'store', 'support', 'time', 'use', 'watch', 'window', 'xbox', 'year']\n",
      "\n",
      "\n",
      "Top 15 Most Frequent Words\n",
      "apple        1068\n",
      "bitcoin      1031\n",
      "microsoft     556\n",
      "new           338\n",
      "iphone        223\n",
      "price         192\n",
      "review        186\n",
      "best          172\n",
      "window        156\n",
      "pro           147\n",
      "geek          132\n",
      "time          128\n",
      "watch         126\n",
      "say           123\n",
      "year          118\n",
      "dtype: int64\n"
     ]
    }
   ],
   "source": [
    "#microsoft\n",
    "most_freq_words(4)"
   ]
  },
  {
   "cell_type": "code",
   "execution_count": null,
   "metadata": {},
   "outputs": [],
   "source": []
  }
 ],
 "metadata": {
  "kernelspec": {
   "display_name": "Python 3",
   "language": "python",
   "name": "python3"
  },
  "language_info": {
   "codemirror_mode": {
    "name": "ipython",
    "version": 3
   },
   "file_extension": ".py",
   "mimetype": "text/x-python",
   "name": "python",
   "nbconvert_exporter": "python",
   "pygments_lexer": "ipython3",
   "version": "3.8.5"
  }
 },
 "nbformat": 4,
 "nbformat_minor": 4
}
